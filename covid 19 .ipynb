{
 "cells": [
  {
   "cell_type": "code",
   "execution_count": 1,
   "metadata": {},
   "outputs": [],
   "source": [
    "import pandas as pd\n",
    "import matplotlib.pyplot as plt\n",
    "from matplotlib import style\n",
    "style.use('ggplot')\n",
    "%matplotlib inline\n",
    "\n",
    "import folium\n",
    "\n",
    "import plotly\n",
    "import plotly.express as px\n",
    "import plotly.graph_objects as go\n",
    "plt.rcParams['figure.figsize']=17,8\n",
    "import cufflinks as cf\n",
    "import plotly.offline as pyo\n",
    "from plotly.offline import init_notebook_mode,plot,iplot\n",
    "\n"
   ]
  },
  {
   "cell_type": "code",
   "execution_count": 2,
   "metadata": {},
   "outputs": [
    {
     "data": {
      "text/html": [
       "        <script type=\"text/javascript\">\n",
       "        window.PlotlyConfig = {MathJaxConfig: 'local'};\n",
       "        if (window.MathJax) {MathJax.Hub.Config({SVG: {font: \"STIX-Web\"}});}\n",
       "        if (typeof require !== 'undefined') {\n",
       "        require.undef(\"plotly\");\n",
       "        requirejs.config({\n",
       "            paths: {\n",
       "                'plotly': ['https://cdn.plot.ly/plotly-2.2.0.min']\n",
       "            }\n",
       "        });\n",
       "        require(['plotly'], function(Plotly) {\n",
       "            window._Plotly = Plotly;\n",
       "        });\n",
       "        }\n",
       "        </script>\n",
       "        "
      ]
     },
     "metadata": {},
     "output_type": "display_data"
    },
    {
     "data": {
      "text/html": [
       "        <script type=\"text/javascript\">\n",
       "        window.PlotlyConfig = {MathJaxConfig: 'local'};\n",
       "        if (window.MathJax) {MathJax.Hub.Config({SVG: {font: \"STIX-Web\"}});}\n",
       "        if (typeof require !== 'undefined') {\n",
       "        require.undef(\"plotly\");\n",
       "        requirejs.config({\n",
       "            paths: {\n",
       "                'plotly': ['https://cdn.plot.ly/plotly-2.2.0.min']\n",
       "            }\n",
       "        });\n",
       "        require(['plotly'], function(Plotly) {\n",
       "            window._Plotly = Plotly;\n",
       "        });\n",
       "        }\n",
       "        </script>\n",
       "        "
      ]
     },
     "metadata": {},
     "output_type": "display_data"
    }
   ],
   "source": [
    "pyo.init_notebook_mode(connected=True)\n",
    "cf.go_offline()"
   ]
  },
  {
   "cell_type": "code",
   "execution_count": 3,
   "metadata": {},
   "outputs": [],
   "source": [
    "df= pd.read_csv(\"Latest Covid-19 India Status.csv\")"
   ]
  },
  {
   "cell_type": "code",
   "execution_count": 4,
   "metadata": {
    "scrolled": true
   },
   "outputs": [
    {
     "data": {
      "text/html": [
       "<div>\n",
       "<style scoped>\n",
       "    .dataframe tbody tr th:only-of-type {\n",
       "        vertical-align: middle;\n",
       "    }\n",
       "\n",
       "    .dataframe tbody tr th {\n",
       "        vertical-align: top;\n",
       "    }\n",
       "\n",
       "    .dataframe thead th {\n",
       "        text-align: right;\n",
       "    }\n",
       "</style>\n",
       "<table border=\"1\" class=\"dataframe\">\n",
       "  <thead>\n",
       "    <tr style=\"text-align: right;\">\n",
       "      <th></th>\n",
       "      <th>State/UTs</th>\n",
       "      <th>Total Cases</th>\n",
       "      <th>Active</th>\n",
       "      <th>Discharged</th>\n",
       "      <th>Deaths</th>\n",
       "      <th>Active Ratio (%)</th>\n",
       "      <th>Discharge Ratio (%)</th>\n",
       "      <th>Death Ratio (%)</th>\n",
       "    </tr>\n",
       "  </thead>\n",
       "  <tbody>\n",
       "    <tr>\n",
       "      <td>0</td>\n",
       "      <td>Maharashtra</td>\n",
       "      <td>6214190</td>\n",
       "      <td>106809</td>\n",
       "      <td>5980350</td>\n",
       "      <td>127031</td>\n",
       "      <td>1.72</td>\n",
       "      <td>96.24</td>\n",
       "      <td>2.04</td>\n",
       "    </tr>\n",
       "    <tr>\n",
       "      <td>1</td>\n",
       "      <td>Kerala</td>\n",
       "      <td>3160937</td>\n",
       "      <td>125535</td>\n",
       "      <td>3020052</td>\n",
       "      <td>15350</td>\n",
       "      <td>3.97</td>\n",
       "      <td>95.54</td>\n",
       "      <td>0.49</td>\n",
       "    </tr>\n",
       "    <tr>\n",
       "      <td>2</td>\n",
       "      <td>Karnataka</td>\n",
       "      <td>2883947</td>\n",
       "      <td>29314</td>\n",
       "      <td>2818476</td>\n",
       "      <td>36157</td>\n",
       "      <td>1.02</td>\n",
       "      <td>97.73</td>\n",
       "      <td>1.25</td>\n",
       "    </tr>\n",
       "    <tr>\n",
       "      <td>3</td>\n",
       "      <td>Tamil Nadu</td>\n",
       "      <td>2535402</td>\n",
       "      <td>27897</td>\n",
       "      <td>2473781</td>\n",
       "      <td>33724</td>\n",
       "      <td>1.10</td>\n",
       "      <td>97.57</td>\n",
       "      <td>1.33</td>\n",
       "    </tr>\n",
       "    <tr>\n",
       "      <td>4</td>\n",
       "      <td>Andhra Pradesh</td>\n",
       "      <td>1940096</td>\n",
       "      <td>24708</td>\n",
       "      <td>1902256</td>\n",
       "      <td>13132</td>\n",
       "      <td>1.27</td>\n",
       "      <td>98.05</td>\n",
       "      <td>0.68</td>\n",
       "    </tr>\n",
       "    <tr>\n",
       "      <td>5</td>\n",
       "      <td>Uttar Pradesh</td>\n",
       "      <td>1707847</td>\n",
       "      <td>1262</td>\n",
       "      <td>1683866</td>\n",
       "      <td>22719</td>\n",
       "      <td>0.07</td>\n",
       "      <td>98.60</td>\n",
       "      <td>1.33</td>\n",
       "    </tr>\n",
       "    <tr>\n",
       "      <td>6</td>\n",
       "      <td>West Bengal</td>\n",
       "      <td>1518181</td>\n",
       "      <td>13111</td>\n",
       "      <td>1487071</td>\n",
       "      <td>17999</td>\n",
       "      <td>0.86</td>\n",
       "      <td>97.95</td>\n",
       "      <td>1.19</td>\n",
       "    </tr>\n",
       "    <tr>\n",
       "      <td>7</td>\n",
       "      <td>Delhi</td>\n",
       "      <td>1435529</td>\n",
       "      <td>592</td>\n",
       "      <td>1409910</td>\n",
       "      <td>25027</td>\n",
       "      <td>0.04</td>\n",
       "      <td>98.22</td>\n",
       "      <td>1.74</td>\n",
       "    </tr>\n",
       "    <tr>\n",
       "      <td>8</td>\n",
       "      <td>Chhattisgarh</td>\n",
       "      <td>999853</td>\n",
       "      <td>3719</td>\n",
       "      <td>982638</td>\n",
       "      <td>13496</td>\n",
       "      <td>0.37</td>\n",
       "      <td>98.28</td>\n",
       "      <td>1.35</td>\n",
       "    </tr>\n",
       "    <tr>\n",
       "      <td>9</td>\n",
       "      <td>Odisha</td>\n",
       "      <td>954326</td>\n",
       "      <td>18850</td>\n",
       "      <td>930418</td>\n",
       "      <td>5058</td>\n",
       "      <td>1.98</td>\n",
       "      <td>97.49</td>\n",
       "      <td>0.53</td>\n",
       "    </tr>\n",
       "    <tr>\n",
       "      <td>10</td>\n",
       "      <td>Rajasthan</td>\n",
       "      <td>953360</td>\n",
       "      <td>472</td>\n",
       "      <td>943938</td>\n",
       "      <td>8950</td>\n",
       "      <td>0.05</td>\n",
       "      <td>99.01</td>\n",
       "      <td>0.94</td>\n",
       "    </tr>\n",
       "    <tr>\n",
       "      <td>11</td>\n",
       "      <td>Gujarat</td>\n",
       "      <td>824497</td>\n",
       "      <td>493</td>\n",
       "      <td>813928</td>\n",
       "      <td>10076</td>\n",
       "      <td>0.06</td>\n",
       "      <td>98.72</td>\n",
       "      <td>1.22</td>\n",
       "    </tr>\n",
       "    <tr>\n",
       "      <td>12</td>\n",
       "      <td>Madhya Pradesh</td>\n",
       "      <td>791658</td>\n",
       "      <td>219</td>\n",
       "      <td>780927</td>\n",
       "      <td>10512</td>\n",
       "      <td>0.03</td>\n",
       "      <td>98.64</td>\n",
       "      <td>1.33</td>\n",
       "    </tr>\n",
       "    <tr>\n",
       "      <td>13</td>\n",
       "      <td>Haryana</td>\n",
       "      <td>769539</td>\n",
       "      <td>817</td>\n",
       "      <td>759123</td>\n",
       "      <td>9599</td>\n",
       "      <td>0.11</td>\n",
       "      <td>98.65</td>\n",
       "      <td>1.25</td>\n",
       "    </tr>\n",
       "    <tr>\n",
       "      <td>14</td>\n",
       "      <td>Bihar</td>\n",
       "      <td>723945</td>\n",
       "      <td>725</td>\n",
       "      <td>713591</td>\n",
       "      <td>9629</td>\n",
       "      <td>0.10</td>\n",
       "      <td>98.57</td>\n",
       "      <td>1.33</td>\n",
       "    </tr>\n",
       "    <tr>\n",
       "      <td>15</td>\n",
       "      <td>Telengana</td>\n",
       "      <td>636627</td>\n",
       "      <td>9824</td>\n",
       "      <td>623044</td>\n",
       "      <td>3759</td>\n",
       "      <td>1.54</td>\n",
       "      <td>97.87</td>\n",
       "      <td>0.59</td>\n",
       "    </tr>\n",
       "    <tr>\n",
       "      <td>16</td>\n",
       "      <td>Punjab</td>\n",
       "      <td>598334</td>\n",
       "      <td>1046</td>\n",
       "      <td>581055</td>\n",
       "      <td>16233</td>\n",
       "      <td>0.17</td>\n",
       "      <td>97.11</td>\n",
       "      <td>2.71</td>\n",
       "    </tr>\n",
       "    <tr>\n",
       "      <td>17</td>\n",
       "      <td>Assam</td>\n",
       "      <td>547283</td>\n",
       "      <td>17815</td>\n",
       "      <td>524469</td>\n",
       "      <td>4999</td>\n",
       "      <td>3.26</td>\n",
       "      <td>95.83</td>\n",
       "      <td>0.91</td>\n",
       "    </tr>\n",
       "    <tr>\n",
       "      <td>18</td>\n",
       "      <td>Jharkhand</td>\n",
       "      <td>346681</td>\n",
       "      <td>327</td>\n",
       "      <td>341234</td>\n",
       "      <td>5120</td>\n",
       "      <td>0.09</td>\n",
       "      <td>98.43</td>\n",
       "      <td>1.48</td>\n",
       "    </tr>\n",
       "    <tr>\n",
       "      <td>19</td>\n",
       "      <td>Uttarakhand</td>\n",
       "      <td>341452</td>\n",
       "      <td>623</td>\n",
       "      <td>333473</td>\n",
       "      <td>7356</td>\n",
       "      <td>0.18</td>\n",
       "      <td>97.66</td>\n",
       "      <td>2.15</td>\n",
       "    </tr>\n",
       "    <tr>\n",
       "      <td>20</td>\n",
       "      <td>Jammu and Kashmir</td>\n",
       "      <td>319901</td>\n",
       "      <td>1919</td>\n",
       "      <td>313618</td>\n",
       "      <td>4364</td>\n",
       "      <td>0.60</td>\n",
       "      <td>98.04</td>\n",
       "      <td>1.36</td>\n",
       "    </tr>\n",
       "    <tr>\n",
       "      <td>21</td>\n",
       "      <td>Himachal Pradesh</td>\n",
       "      <td>204391</td>\n",
       "      <td>1007</td>\n",
       "      <td>199877</td>\n",
       "      <td>3507</td>\n",
       "      <td>0.49</td>\n",
       "      <td>97.79</td>\n",
       "      <td>1.72</td>\n",
       "    </tr>\n",
       "    <tr>\n",
       "      <td>22</td>\n",
       "      <td>Goa</td>\n",
       "      <td>169740</td>\n",
       "      <td>1562</td>\n",
       "      <td>165067</td>\n",
       "      <td>3111</td>\n",
       "      <td>0.92</td>\n",
       "      <td>97.25</td>\n",
       "      <td>1.83</td>\n",
       "    </tr>\n",
       "    <tr>\n",
       "      <td>23</td>\n",
       "      <td>Puducherry</td>\n",
       "      <td>119703</td>\n",
       "      <td>1124</td>\n",
       "      <td>116801</td>\n",
       "      <td>1778</td>\n",
       "      <td>0.94</td>\n",
       "      <td>97.58</td>\n",
       "      <td>1.49</td>\n",
       "    </tr>\n",
       "    <tr>\n",
       "      <td>24</td>\n",
       "      <td>Manipur</td>\n",
       "      <td>84822</td>\n",
       "      <td>9676</td>\n",
       "      <td>73770</td>\n",
       "      <td>1376</td>\n",
       "      <td>11.41</td>\n",
       "      <td>86.97</td>\n",
       "      <td>1.62</td>\n",
       "    </tr>\n",
       "    <tr>\n",
       "      <td>25</td>\n",
       "      <td>Tripura</td>\n",
       "      <td>73901</td>\n",
       "      <td>4314</td>\n",
       "      <td>68859</td>\n",
       "      <td>728</td>\n",
       "      <td>5.84</td>\n",
       "      <td>93.18</td>\n",
       "      <td>0.99</td>\n",
       "    </tr>\n",
       "    <tr>\n",
       "      <td>26</td>\n",
       "      <td>Chandigarh</td>\n",
       "      <td>61889</td>\n",
       "      <td>50</td>\n",
       "      <td>61030</td>\n",
       "      <td>809</td>\n",
       "      <td>0.08</td>\n",
       "      <td>98.61</td>\n",
       "      <td>1.31</td>\n",
       "    </tr>\n",
       "    <tr>\n",
       "      <td>27</td>\n",
       "      <td>Meghalaya</td>\n",
       "      <td>57388</td>\n",
       "      <td>3979</td>\n",
       "      <td>52464</td>\n",
       "      <td>945</td>\n",
       "      <td>6.93</td>\n",
       "      <td>91.42</td>\n",
       "      <td>1.65</td>\n",
       "    </tr>\n",
       "    <tr>\n",
       "      <td>28</td>\n",
       "      <td>Arunachal Pradesh</td>\n",
       "      <td>42820</td>\n",
       "      <td>4211</td>\n",
       "      <td>38407</td>\n",
       "      <td>202</td>\n",
       "      <td>9.83</td>\n",
       "      <td>89.69</td>\n",
       "      <td>0.47</td>\n",
       "    </tr>\n",
       "    <tr>\n",
       "      <td>29</td>\n",
       "      <td>Mizoram</td>\n",
       "      <td>27488</td>\n",
       "      <td>6003</td>\n",
       "      <td>21363</td>\n",
       "      <td>122</td>\n",
       "      <td>21.84</td>\n",
       "      <td>77.72</td>\n",
       "      <td>0.44</td>\n",
       "    </tr>\n",
       "    <tr>\n",
       "      <td>30</td>\n",
       "      <td>Nagaland</td>\n",
       "      <td>26682</td>\n",
       "      <td>1149</td>\n",
       "      <td>25005</td>\n",
       "      <td>528</td>\n",
       "      <td>4.31</td>\n",
       "      <td>93.71</td>\n",
       "      <td>1.98</td>\n",
       "    </tr>\n",
       "    <tr>\n",
       "      <td>31</td>\n",
       "      <td>Sikkim</td>\n",
       "      <td>23392</td>\n",
       "      <td>2308</td>\n",
       "      <td>20760</td>\n",
       "      <td>324</td>\n",
       "      <td>9.87</td>\n",
       "      <td>88.75</td>\n",
       "      <td>1.39</td>\n",
       "    </tr>\n",
       "    <tr>\n",
       "      <td>32</td>\n",
       "      <td>Ladakh</td>\n",
       "      <td>20257</td>\n",
       "      <td>103</td>\n",
       "      <td>19948</td>\n",
       "      <td>206</td>\n",
       "      <td>0.51</td>\n",
       "      <td>98.47</td>\n",
       "      <td>1.02</td>\n",
       "    </tr>\n",
       "    <tr>\n",
       "      <td>33</td>\n",
       "      <td>Dadra and Nagar Haveli and Daman and Diu</td>\n",
       "      <td>10597</td>\n",
       "      <td>18</td>\n",
       "      <td>10575</td>\n",
       "      <td>4</td>\n",
       "      <td>0.17</td>\n",
       "      <td>99.79</td>\n",
       "      <td>0.04</td>\n",
       "    </tr>\n",
       "    <tr>\n",
       "      <td>34</td>\n",
       "      <td>Lakshadweep</td>\n",
       "      <td>10064</td>\n",
       "      <td>68</td>\n",
       "      <td>9947</td>\n",
       "      <td>49</td>\n",
       "      <td>0.68</td>\n",
       "      <td>98.84</td>\n",
       "      <td>0.49</td>\n",
       "    </tr>\n",
       "    <tr>\n",
       "      <td>35</td>\n",
       "      <td>Andaman and Nicobar</td>\n",
       "      <td>7510</td>\n",
       "      <td>16</td>\n",
       "      <td>7365</td>\n",
       "      <td>129</td>\n",
       "      <td>0.21</td>\n",
       "      <td>98.07</td>\n",
       "      <td>1.72</td>\n",
       "    </tr>\n",
       "  </tbody>\n",
       "</table>\n",
       "</div>"
      ],
      "text/plain": [
       "                                   State/UTs  Total Cases  Active  Discharged  \\\n",
       "0                                Maharashtra      6214190  106809     5980350   \n",
       "1                                     Kerala      3160937  125535     3020052   \n",
       "2                                  Karnataka      2883947   29314     2818476   \n",
       "3                                 Tamil Nadu      2535402   27897     2473781   \n",
       "4                             Andhra Pradesh      1940096   24708     1902256   \n",
       "5                              Uttar Pradesh      1707847    1262     1683866   \n",
       "6                                West Bengal      1518181   13111     1487071   \n",
       "7                                      Delhi      1435529     592     1409910   \n",
       "8                               Chhattisgarh       999853    3719      982638   \n",
       "9                                     Odisha       954326   18850      930418   \n",
       "10                                 Rajasthan       953360     472      943938   \n",
       "11                                   Gujarat       824497     493      813928   \n",
       "12                            Madhya Pradesh       791658     219      780927   \n",
       "13                                   Haryana       769539     817      759123   \n",
       "14                                     Bihar       723945     725      713591   \n",
       "15                                 Telengana       636627    9824      623044   \n",
       "16                                    Punjab       598334    1046      581055   \n",
       "17                                     Assam       547283   17815      524469   \n",
       "18                                 Jharkhand       346681     327      341234   \n",
       "19                               Uttarakhand       341452     623      333473   \n",
       "20                         Jammu and Kashmir       319901    1919      313618   \n",
       "21                          Himachal Pradesh       204391    1007      199877   \n",
       "22                                       Goa       169740    1562      165067   \n",
       "23                                Puducherry       119703    1124      116801   \n",
       "24                                   Manipur        84822    9676       73770   \n",
       "25                                   Tripura        73901    4314       68859   \n",
       "26                                Chandigarh        61889      50       61030   \n",
       "27                                 Meghalaya        57388    3979       52464   \n",
       "28                         Arunachal Pradesh        42820    4211       38407   \n",
       "29                                   Mizoram        27488    6003       21363   \n",
       "30                                  Nagaland        26682    1149       25005   \n",
       "31                                    Sikkim        23392    2308       20760   \n",
       "32                                    Ladakh        20257     103       19948   \n",
       "33  Dadra and Nagar Haveli and Daman and Diu        10597      18       10575   \n",
       "34                               Lakshadweep        10064      68        9947   \n",
       "35                       Andaman and Nicobar         7510      16        7365   \n",
       "\n",
       "    Deaths  Active Ratio (%)  Discharge Ratio (%)  Death Ratio (%)  \n",
       "0   127031              1.72                96.24             2.04  \n",
       "1    15350              3.97                95.54             0.49  \n",
       "2    36157              1.02                97.73             1.25  \n",
       "3    33724              1.10                97.57             1.33  \n",
       "4    13132              1.27                98.05             0.68  \n",
       "5    22719              0.07                98.60             1.33  \n",
       "6    17999              0.86                97.95             1.19  \n",
       "7    25027              0.04                98.22             1.74  \n",
       "8    13496              0.37                98.28             1.35  \n",
       "9     5058              1.98                97.49             0.53  \n",
       "10    8950              0.05                99.01             0.94  \n",
       "11   10076              0.06                98.72             1.22  \n",
       "12   10512              0.03                98.64             1.33  \n",
       "13    9599              0.11                98.65             1.25  \n",
       "14    9629              0.10                98.57             1.33  \n",
       "15    3759              1.54                97.87             0.59  \n",
       "16   16233              0.17                97.11             2.71  \n",
       "17    4999              3.26                95.83             0.91  \n",
       "18    5120              0.09                98.43             1.48  \n",
       "19    7356              0.18                97.66             2.15  \n",
       "20    4364              0.60                98.04             1.36  \n",
       "21    3507              0.49                97.79             1.72  \n",
       "22    3111              0.92                97.25             1.83  \n",
       "23    1778              0.94                97.58             1.49  \n",
       "24    1376             11.41                86.97             1.62  \n",
       "25     728              5.84                93.18             0.99  \n",
       "26     809              0.08                98.61             1.31  \n",
       "27     945              6.93                91.42             1.65  \n",
       "28     202              9.83                89.69             0.47  \n",
       "29     122             21.84                77.72             0.44  \n",
       "30     528              4.31                93.71             1.98  \n",
       "31     324              9.87                88.75             1.39  \n",
       "32     206              0.51                98.47             1.02  \n",
       "33       4              0.17                99.79             0.04  \n",
       "34      49              0.68                98.84             0.49  \n",
       "35     129              0.21                98.07             1.72  "
      ]
     },
     "execution_count": 4,
     "metadata": {},
     "output_type": "execute_result"
    }
   ],
   "source": [
    "df"
   ]
  },
  {
   "cell_type": "code",
   "execution_count": 5,
   "metadata": {},
   "outputs": [
    {
     "name": "stdout",
     "output_type": "stream",
     "text": [
      "The total number of cases till now in India is  311 M\n"
     ]
    }
   ],
   "source": [
    "total_cases_overall=df['Total Cases'].sum()\n",
    "print('The total number of cases till now in India is ',int(total_cases_overall/100000),'M')"
   ]
  },
  {
   "cell_type": "code",
   "execution_count": 6,
   "metadata": {},
   "outputs": [
    {
     "data": {
      "text/html": [
       "<style  type=\"text/css\" >\n",
       "    #T_7389b076_ec38_11eb_913e_dce5e656eb51row0_col1 {\n",
       "            background-color:  #67000d;\n",
       "            color:  #f1f1f1;\n",
       "        }    #T_7389b076_ec38_11eb_913e_dce5e656eb51row0_col2 {\n",
       "            background-color:  #ac1117;\n",
       "            color:  #f1f1f1;\n",
       "        }    #T_7389b076_ec38_11eb_913e_dce5e656eb51row0_col3 {\n",
       "            background-color:  #67000d;\n",
       "            color:  #f1f1f1;\n",
       "        }    #T_7389b076_ec38_11eb_913e_dce5e656eb51row0_col4 {\n",
       "            background-color:  #67000d;\n",
       "            color:  #f1f1f1;\n",
       "        }    #T_7389b076_ec38_11eb_913e_dce5e656eb51row0_col5 {\n",
       "            background-color:  #fee8de;\n",
       "            color:  #000000;\n",
       "        }    #T_7389b076_ec38_11eb_913e_dce5e656eb51row0_col6 {\n",
       "            background-color:  #b01217;\n",
       "            color:  #f1f1f1;\n",
       "        }    #T_7389b076_ec38_11eb_913e_dce5e656eb51row0_col7 {\n",
       "            background-color:  #cb181d;\n",
       "            color:  #f1f1f1;\n",
       "        }    #T_7389b076_ec38_11eb_913e_dce5e656eb51row1_col1 {\n",
       "            background-color:  #fa6648;\n",
       "            color:  #000000;\n",
       "        }    #T_7389b076_ec38_11eb_913e_dce5e656eb51row1_col2 {\n",
       "            background-color:  #67000d;\n",
       "            color:  #f1f1f1;\n",
       "        }    #T_7389b076_ec38_11eb_913e_dce5e656eb51row1_col3 {\n",
       "            background-color:  #fa6849;\n",
       "            color:  #000000;\n",
       "        }    #T_7389b076_ec38_11eb_913e_dce5e656eb51row1_col4 {\n",
       "            background-color:  #fee1d4;\n",
       "            color:  #000000;\n",
       "        }    #T_7389b076_ec38_11eb_913e_dce5e656eb51row1_col5 {\n",
       "            background-color:  #fdd0bc;\n",
       "            color:  #000000;\n",
       "        }    #T_7389b076_ec38_11eb_913e_dce5e656eb51row1_col6 {\n",
       "            background-color:  #b91419;\n",
       "            color:  #f1f1f1;\n",
       "        }    #T_7389b076_ec38_11eb_913e_dce5e656eb51row1_col7 {\n",
       "            background-color:  #fdd3c1;\n",
       "            color:  #000000;\n",
       "        }    #T_7389b076_ec38_11eb_913e_dce5e656eb51row2_col1 {\n",
       "            background-color:  #fb7656;\n",
       "            color:  #000000;\n",
       "        }    #T_7389b076_ec38_11eb_913e_dce5e656eb51row2_col2 {\n",
       "            background-color:  #fcc1a8;\n",
       "            color:  #000000;\n",
       "        }    #T_7389b076_ec38_11eb_913e_dce5e656eb51row2_col3 {\n",
       "            background-color:  #fb7353;\n",
       "            color:  #000000;\n",
       "        }    #T_7389b076_ec38_11eb_913e_dce5e656eb51row2_col4 {\n",
       "            background-color:  #fcb095;\n",
       "            color:  #000000;\n",
       "        }    #T_7389b076_ec38_11eb_913e_dce5e656eb51row2_col5 {\n",
       "            background-color:  #ffeee6;\n",
       "            color:  #000000;\n",
       "        }    #T_7389b076_ec38_11eb_913e_dce5e656eb51row2_col6 {\n",
       "            background-color:  #940b13;\n",
       "            color:  #f1f1f1;\n",
       "        }    #T_7389b076_ec38_11eb_913e_dce5e656eb51row2_col7 {\n",
       "            background-color:  #fb7858;\n",
       "            color:  #000000;\n",
       "        }    #T_7389b076_ec38_11eb_913e_dce5e656eb51row3_col1 {\n",
       "            background-color:  #fc8767;\n",
       "            color:  #000000;\n",
       "        }    #T_7389b076_ec38_11eb_913e_dce5e656eb51row3_col2 {\n",
       "            background-color:  #fcc4ad;\n",
       "            color:  #000000;\n",
       "        }    #T_7389b076_ec38_11eb_913e_dce5e656eb51row3_col3 {\n",
       "            background-color:  #fc8666;\n",
       "            color:  #000000;\n",
       "        }    #T_7389b076_ec38_11eb_913e_dce5e656eb51row3_col4 {\n",
       "            background-color:  #fcb79c;\n",
       "            color:  #000000;\n",
       "        }    #T_7389b076_ec38_11eb_913e_dce5e656eb51row3_col5 {\n",
       "            background-color:  #ffede5;\n",
       "            color:  #000000;\n",
       "        }    #T_7389b076_ec38_11eb_913e_dce5e656eb51row3_col6 {\n",
       "            background-color:  #980c13;\n",
       "            color:  #f1f1f1;\n",
       "        }    #T_7389b076_ec38_11eb_913e_dce5e656eb51row3_col7 {\n",
       "            background-color:  #fb7050;\n",
       "            color:  #000000;\n",
       "        }    #T_7389b076_ec38_11eb_913e_dce5e656eb51row4_col1 {\n",
       "            background-color:  #fca78b;\n",
       "            color:  #000000;\n",
       "        }    #T_7389b076_ec38_11eb_913e_dce5e656eb51row4_col2 {\n",
       "            background-color:  #fdcbb6;\n",
       "            color:  #000000;\n",
       "        }    #T_7389b076_ec38_11eb_913e_dce5e656eb51row4_col3 {\n",
       "            background-color:  #fca588;\n",
       "            color:  #000000;\n",
       "        }    #T_7389b076_ec38_11eb_913e_dce5e656eb51row4_col4 {\n",
       "            background-color:  #fee4d8;\n",
       "            color:  #000000;\n",
       "        }    #T_7389b076_ec38_11eb_913e_dce5e656eb51row4_col5 {\n",
       "            background-color:  #ffece3;\n",
       "            color:  #000000;\n",
       "        }    #T_7389b076_ec38_11eb_913e_dce5e656eb51row4_col6 {\n",
       "            background-color:  #8e0912;\n",
       "            color:  #f1f1f1;\n",
       "        }    #T_7389b076_ec38_11eb_913e_dce5e656eb51row4_col7 {\n",
       "            background-color:  #fcbea5;\n",
       "            color:  #000000;\n",
       "        }    #T_7389b076_ec38_11eb_913e_dce5e656eb51row5_col1 {\n",
       "            background-color:  #fcb398;\n",
       "            color:  #000000;\n",
       "        }    #T_7389b076_ec38_11eb_913e_dce5e656eb51row5_col2 {\n",
       "            background-color:  #fff4ee;\n",
       "            color:  #000000;\n",
       "        }    #T_7389b076_ec38_11eb_913e_dce5e656eb51row5_col3 {\n",
       "            background-color:  #fcb296;\n",
       "            color:  #000000;\n",
       "        }    #T_7389b076_ec38_11eb_913e_dce5e656eb51row5_col4 {\n",
       "            background-color:  #fdd1be;\n",
       "            color:  #000000;\n",
       "        }    #T_7389b076_ec38_11eb_913e_dce5e656eb51row5_col5 {\n",
       "            background-color:  #fff5f0;\n",
       "            color:  #000000;\n",
       "        }    #T_7389b076_ec38_11eb_913e_dce5e656eb51row5_col6 {\n",
       "            background-color:  #800610;\n",
       "            color:  #f1f1f1;\n",
       "        }    #T_7389b076_ec38_11eb_913e_dce5e656eb51row5_col7 {\n",
       "            background-color:  #fb7050;\n",
       "            color:  #000000;\n",
       "        }    #T_7389b076_ec38_11eb_913e_dce5e656eb51row6_col1 {\n",
       "            background-color:  #fcbda4;\n",
       "            color:  #000000;\n",
       "        }    #T_7389b076_ec38_11eb_913e_dce5e656eb51row6_col2 {\n",
       "            background-color:  #fee4d8;\n",
       "            color:  #000000;\n",
       "        }    #T_7389b076_ec38_11eb_913e_dce5e656eb51row6_col3 {\n",
       "            background-color:  #fcbca2;\n",
       "            color:  #000000;\n",
       "        }    #T_7389b076_ec38_11eb_913e_dce5e656eb51row6_col4 {\n",
       "            background-color:  #fedbcc;\n",
       "            color:  #000000;\n",
       "        }    #T_7389b076_ec38_11eb_913e_dce5e656eb51row6_col5 {\n",
       "            background-color:  #ffefe8;\n",
       "            color:  #000000;\n",
       "        }    #T_7389b076_ec38_11eb_913e_dce5e656eb51row6_col6 {\n",
       "            background-color:  #900a12;\n",
       "            color:  #f1f1f1;\n",
       "        }    #T_7389b076_ec38_11eb_913e_dce5e656eb51row6_col7 {\n",
       "            background-color:  #fc8060;\n",
       "            color:  #000000;\n",
       "        }    #T_7389b076_ec38_11eb_913e_dce5e656eb51row7_col1 {\n",
       "            background-color:  #fcc2aa;\n",
       "            color:  #000000;\n",
       "        }    #T_7389b076_ec38_11eb_913e_dce5e656eb51row7_col2 {\n",
       "            background-color:  #fff4ef;\n",
       "            color:  #000000;\n",
       "        }    #T_7389b076_ec38_11eb_913e_dce5e656eb51row7_col3 {\n",
       "            background-color:  #fcbfa7;\n",
       "            color:  #000000;\n",
       "        }    #T_7389b076_ec38_11eb_913e_dce5e656eb51row7_col4 {\n",
       "            background-color:  #fdcbb6;\n",
       "            color:  #000000;\n",
       "        }    #T_7389b076_ec38_11eb_913e_dce5e656eb51row7_col5 {\n",
       "            background-color:  #fff5f0;\n",
       "            color:  #000000;\n",
       "        }    #T_7389b076_ec38_11eb_913e_dce5e656eb51row7_col6 {\n",
       "            background-color:  #8a0812;\n",
       "            color:  #f1f1f1;\n",
       "        }    #T_7389b076_ec38_11eb_913e_dce5e656eb51row7_col7 {\n",
       "            background-color:  #ec382b;\n",
       "            color:  #f1f1f1;\n",
       "        }    #T_7389b076_ec38_11eb_913e_dce5e656eb51row8_col1 {\n",
       "            background-color:  #fdd7c6;\n",
       "            color:  #000000;\n",
       "        }    #T_7389b076_ec38_11eb_913e_dce5e656eb51row8_col2 {\n",
       "            background-color:  #fff0e9;\n",
       "            color:  #000000;\n",
       "        }    #T_7389b076_ec38_11eb_913e_dce5e656eb51row8_col3 {\n",
       "            background-color:  #fdd5c4;\n",
       "            color:  #000000;\n",
       "        }    #T_7389b076_ec38_11eb_913e_dce5e656eb51row8_col4 {\n",
       "            background-color:  #fee3d7;\n",
       "            color:  #000000;\n",
       "        }    #T_7389b076_ec38_11eb_913e_dce5e656eb51row8_col5 {\n",
       "            background-color:  #fff3ed;\n",
       "            color:  #000000;\n",
       "        }    #T_7389b076_ec38_11eb_913e_dce5e656eb51row8_col6 {\n",
       "            background-color:  #880811;\n",
       "            color:  #f1f1f1;\n",
       "        }    #T_7389b076_ec38_11eb_913e_dce5e656eb51row8_col7 {\n",
       "            background-color:  #fb6d4d;\n",
       "            color:  #000000;\n",
       "        }    #T_7389b076_ec38_11eb_913e_dce5e656eb51row9_col1 {\n",
       "            background-color:  #fed8c7;\n",
       "            color:  #000000;\n",
       "        }    #T_7389b076_ec38_11eb_913e_dce5e656eb51row9_col2 {\n",
       "            background-color:  #fed9c9;\n",
       "            color:  #000000;\n",
       "        }    #T_7389b076_ec38_11eb_913e_dce5e656eb51row9_col3 {\n",
       "            background-color:  #fed8c7;\n",
       "            color:  #000000;\n",
       "        }    #T_7389b076_ec38_11eb_913e_dce5e656eb51row9_col4 {\n",
       "            background-color:  #ffeee7;\n",
       "            color:  #000000;\n",
       "        }    #T_7389b076_ec38_11eb_913e_dce5e656eb51row9_col5 {\n",
       "            background-color:  #fee7db;\n",
       "            color:  #000000;\n",
       "        }    #T_7389b076_ec38_11eb_913e_dce5e656eb51row9_col6 {\n",
       "            background-color:  #9a0c14;\n",
       "            color:  #f1f1f1;\n",
       "        }    #T_7389b076_ec38_11eb_913e_dce5e656eb51row9_col7 {\n",
       "            background-color:  #fdd0bc;\n",
       "            color:  #000000;\n",
       "        }    #T_7389b076_ec38_11eb_913e_dce5e656eb51row10_col1 {\n",
       "            background-color:  #fed8c7;\n",
       "            color:  #000000;\n",
       "        }    #T_7389b076_ec38_11eb_913e_dce5e656eb51row10_col2 {\n",
       "            background-color:  #fff5f0;\n",
       "            color:  #000000;\n",
       "        }    #T_7389b076_ec38_11eb_913e_dce5e656eb51row10_col3 {\n",
       "            background-color:  #fdd7c6;\n",
       "            color:  #000000;\n",
       "        }    #T_7389b076_ec38_11eb_913e_dce5e656eb51row10_col4 {\n",
       "            background-color:  #fee9df;\n",
       "            color:  #000000;\n",
       "        }    #T_7389b076_ec38_11eb_913e_dce5e656eb51row10_col5 {\n",
       "            background-color:  #fff5f0;\n",
       "            color:  #000000;\n",
       "        }    #T_7389b076_ec38_11eb_913e_dce5e656eb51row10_col6 {\n",
       "            background-color:  #79040f;\n",
       "            color:  #f1f1f1;\n",
       "        }    #T_7389b076_ec38_11eb_913e_dce5e656eb51row10_col7 {\n",
       "            background-color:  #fc9e80;\n",
       "            color:  #000000;\n",
       "        }    #T_7389b076_ec38_11eb_913e_dce5e656eb51row11_col1 {\n",
       "            background-color:  #fedfd0;\n",
       "            color:  #000000;\n",
       "        }    #T_7389b076_ec38_11eb_913e_dce5e656eb51row11_col2 {\n",
       "            background-color:  #fff5f0;\n",
       "            color:  #000000;\n",
       "        }    #T_7389b076_ec38_11eb_913e_dce5e656eb51row11_col3 {\n",
       "            background-color:  #fedecf;\n",
       "            color:  #000000;\n",
       "        }    #T_7389b076_ec38_11eb_913e_dce5e656eb51row11_col4 {\n",
       "            background-color:  #fee8dd;\n",
       "            color:  #000000;\n",
       "        }    #T_7389b076_ec38_11eb_913e_dce5e656eb51row11_col5 {\n",
       "            background-color:  #fff5f0;\n",
       "            color:  #000000;\n",
       "        }    #T_7389b076_ec38_11eb_913e_dce5e656eb51row11_col6 {\n",
       "            background-color:  #7e0610;\n",
       "            color:  #f1f1f1;\n",
       "        }    #T_7389b076_ec38_11eb_913e_dce5e656eb51row11_col7 {\n",
       "            background-color:  #fb7c5c;\n",
       "            color:  #000000;\n",
       "        }    #T_7389b076_ec38_11eb_913e_dce5e656eb51row12_col1 {\n",
       "            background-color:  #fee0d2;\n",
       "            color:  #000000;\n",
       "        }    #T_7389b076_ec38_11eb_913e_dce5e656eb51row12_col2 {\n",
       "            background-color:  #fff5f0;\n",
       "            color:  #000000;\n",
       "        }    #T_7389b076_ec38_11eb_913e_dce5e656eb51row12_col3 {\n",
       "            background-color:  #fedfd0;\n",
       "            color:  #000000;\n",
       "        }    #T_7389b076_ec38_11eb_913e_dce5e656eb51row12_col4 {\n",
       "            background-color:  #fee7dc;\n",
       "            color:  #000000;\n",
       "        }    #T_7389b076_ec38_11eb_913e_dce5e656eb51row12_col5 {\n",
       "            background-color:  #fff5f0;\n",
       "            color:  #000000;\n",
       "        }    #T_7389b076_ec38_11eb_913e_dce5e656eb51row12_col6 {\n",
       "            background-color:  #800610;\n",
       "            color:  #f1f1f1;\n",
       "        }    #T_7389b076_ec38_11eb_913e_dce5e656eb51row12_col7 {\n",
       "            background-color:  #fb7050;\n",
       "            color:  #000000;\n",
       "        }    #T_7389b076_ec38_11eb_913e_dce5e656eb51row13_col1 {\n",
       "            background-color:  #fee1d3;\n",
       "            color:  #000000;\n",
       "        }    #T_7389b076_ec38_11eb_913e_dce5e656eb51row13_col2 {\n",
       "            background-color:  #fff4ef;\n",
       "            color:  #000000;\n",
       "        }    #T_7389b076_ec38_11eb_913e_dce5e656eb51row13_col3 {\n",
       "            background-color:  #fee0d2;\n",
       "            color:  #000000;\n",
       "        }    #T_7389b076_ec38_11eb_913e_dce5e656eb51row13_col4 {\n",
       "            background-color:  #fee8de;\n",
       "            color:  #000000;\n",
       "        }    #T_7389b076_ec38_11eb_913e_dce5e656eb51row13_col5 {\n",
       "            background-color:  #fff5f0;\n",
       "            color:  #000000;\n",
       "        }    #T_7389b076_ec38_11eb_913e_dce5e656eb51row13_col6 {\n",
       "            background-color:  #800610;\n",
       "            color:  #f1f1f1;\n",
       "        }    #T_7389b076_ec38_11eb_913e_dce5e656eb51row13_col7 {\n",
       "            background-color:  #fb7858;\n",
       "            color:  #000000;\n",
       "        }    #T_7389b076_ec38_11eb_913e_dce5e656eb51row14_col1 {\n",
       "            background-color:  #fee2d5;\n",
       "            color:  #000000;\n",
       "        }    #T_7389b076_ec38_11eb_913e_dce5e656eb51row14_col2 {\n",
       "            background-color:  #fff4ef;\n",
       "            color:  #000000;\n",
       "        }    #T_7389b076_ec38_11eb_913e_dce5e656eb51row14_col3 {\n",
       "            background-color:  #fee1d4;\n",
       "            color:  #000000;\n",
       "        }    #T_7389b076_ec38_11eb_913e_dce5e656eb51row14_col4 {\n",
       "            background-color:  #fee8de;\n",
       "            color:  #000000;\n",
       "        }    #T_7389b076_ec38_11eb_913e_dce5e656eb51row14_col5 {\n",
       "            background-color:  #fff5f0;\n",
       "            color:  #000000;\n",
       "        }    #T_7389b076_ec38_11eb_913e_dce5e656eb51row14_col6 {\n",
       "            background-color:  #820711;\n",
       "            color:  #f1f1f1;\n",
       "        }    #T_7389b076_ec38_11eb_913e_dce5e656eb51row14_col7 {\n",
       "            background-color:  #fb7050;\n",
       "            color:  #000000;\n",
       "        }    #T_7389b076_ec38_11eb_913e_dce5e656eb51row15_col1 {\n",
       "            background-color:  #fee5d8;\n",
       "            color:  #000000;\n",
       "        }    #T_7389b076_ec38_11eb_913e_dce5e656eb51row15_col2 {\n",
       "            background-color:  #fee8dd;\n",
       "            color:  #000000;\n",
       "        }    #T_7389b076_ec38_11eb_913e_dce5e656eb51row15_col3 {\n",
       "            background-color:  #fee4d8;\n",
       "            color:  #000000;\n",
       "        }    #T_7389b076_ec38_11eb_913e_dce5e656eb51row15_col4 {\n",
       "            background-color:  #fff0e9;\n",
       "            color:  #000000;\n",
       "        }    #T_7389b076_ec38_11eb_913e_dce5e656eb51row15_col5 {\n",
       "            background-color:  #feeae0;\n",
       "            color:  #000000;\n",
       "        }    #T_7389b076_ec38_11eb_913e_dce5e656eb51row15_col6 {\n",
       "            background-color:  #920a13;\n",
       "            color:  #f1f1f1;\n",
       "        }    #T_7389b076_ec38_11eb_913e_dce5e656eb51row15_col7 {\n",
       "            background-color:  #fdc9b3;\n",
       "            color:  #000000;\n",
       "        }    #T_7389b076_ec38_11eb_913e_dce5e656eb51row16_col1 {\n",
       "            background-color:  #fee5d9;\n",
       "            color:  #000000;\n",
       "        }    #T_7389b076_ec38_11eb_913e_dce5e656eb51row16_col2 {\n",
       "            background-color:  #fff4ee;\n",
       "            color:  #000000;\n",
       "        }    #T_7389b076_ec38_11eb_913e_dce5e656eb51row16_col3 {\n",
       "            background-color:  #fee5d9;\n",
       "            color:  #000000;\n",
       "        }    #T_7389b076_ec38_11eb_913e_dce5e656eb51row16_col4 {\n",
       "            background-color:  #fee0d2;\n",
       "            color:  #000000;\n",
       "        }    #T_7389b076_ec38_11eb_913e_dce5e656eb51row16_col5 {\n",
       "            background-color:  #fff4ef;\n",
       "            color:  #000000;\n",
       "        }    #T_7389b076_ec38_11eb_913e_dce5e656eb51row16_col6 {\n",
       "            background-color:  #a30f15;\n",
       "            color:  #f1f1f1;\n",
       "        }    #T_7389b076_ec38_11eb_913e_dce5e656eb51row16_col7 {\n",
       "            background-color:  #67000d;\n",
       "            color:  #f1f1f1;\n",
       "        }    #T_7389b076_ec38_11eb_913e_dce5e656eb51row17_col1 {\n",
       "            background-color:  #fee7db;\n",
       "            color:  #000000;\n",
       "        }    #T_7389b076_ec38_11eb_913e_dce5e656eb51row17_col2 {\n",
       "            background-color:  #fedbcc;\n",
       "            color:  #000000;\n",
       "        }    #T_7389b076_ec38_11eb_913e_dce5e656eb51row17_col3 {\n",
       "            background-color:  #fee7db;\n",
       "            color:  #000000;\n",
       "        }    #T_7389b076_ec38_11eb_913e_dce5e656eb51row17_col4 {\n",
       "            background-color:  #ffeee7;\n",
       "            color:  #000000;\n",
       "        }    #T_7389b076_ec38_11eb_913e_dce5e656eb51row17_col5 {\n",
       "            background-color:  #fedaca;\n",
       "            color:  #000000;\n",
       "        }    #T_7389b076_ec38_11eb_913e_dce5e656eb51row17_col6 {\n",
       "            background-color:  #b51318;\n",
       "            color:  #f1f1f1;\n",
       "        }    #T_7389b076_ec38_11eb_913e_dce5e656eb51row17_col7 {\n",
       "            background-color:  #fca285;\n",
       "            color:  #000000;\n",
       "        }    #T_7389b076_ec38_11eb_913e_dce5e656eb51row18_col1 {\n",
       "            background-color:  #ffece4;\n",
       "            color:  #000000;\n",
       "        }    #T_7389b076_ec38_11eb_913e_dce5e656eb51row18_col2 {\n",
       "            background-color:  #fff5f0;\n",
       "            color:  #000000;\n",
       "        }    #T_7389b076_ec38_11eb_913e_dce5e656eb51row18_col3 {\n",
       "            background-color:  #ffece3;\n",
       "            color:  #000000;\n",
       "        }    #T_7389b076_ec38_11eb_913e_dce5e656eb51row18_col4 {\n",
       "            background-color:  #ffeee7;\n",
       "            color:  #000000;\n",
       "        }    #T_7389b076_ec38_11eb_913e_dce5e656eb51row18_col5 {\n",
       "            background-color:  #fff5f0;\n",
       "            color:  #000000;\n",
       "        }    #T_7389b076_ec38_11eb_913e_dce5e656eb51row18_col6 {\n",
       "            background-color:  #840711;\n",
       "            color:  #f1f1f1;\n",
       "        }    #T_7389b076_ec38_11eb_913e_dce5e656eb51row18_col7 {\n",
       "            background-color:  #f75b40;\n",
       "            color:  #000000;\n",
       "        }    #T_7389b076_ec38_11eb_913e_dce5e656eb51row19_col1 {\n",
       "            background-color:  #ffece4;\n",
       "            color:  #000000;\n",
       "        }    #T_7389b076_ec38_11eb_913e_dce5e656eb51row19_col2 {\n",
       "            background-color:  #fff4ef;\n",
       "            color:  #000000;\n",
       "        }    #T_7389b076_ec38_11eb_913e_dce5e656eb51row19_col3 {\n",
       "            background-color:  #ffece4;\n",
       "            color:  #000000;\n",
       "        }    #T_7389b076_ec38_11eb_913e_dce5e656eb51row19_col4 {\n",
       "            background-color:  #ffece3;\n",
       "            color:  #000000;\n",
       "        }    #T_7389b076_ec38_11eb_913e_dce5e656eb51row19_col5 {\n",
       "            background-color:  #fff4ef;\n",
       "            color:  #000000;\n",
       "        }    #T_7389b076_ec38_11eb_913e_dce5e656eb51row19_col6 {\n",
       "            background-color:  #960b13;\n",
       "            color:  #f1f1f1;\n",
       "        }    #T_7389b076_ec38_11eb_913e_dce5e656eb51row19_col7 {\n",
       "            background-color:  #be151a;\n",
       "            color:  #f1f1f1;\n",
       "        }    #T_7389b076_ec38_11eb_913e_dce5e656eb51row20_col1 {\n",
       "            background-color:  #ffede5;\n",
       "            color:  #000000;\n",
       "        }    #T_7389b076_ec38_11eb_913e_dce5e656eb51row20_col2 {\n",
       "            background-color:  #fff3ed;\n",
       "            color:  #000000;\n",
       "        }    #T_7389b076_ec38_11eb_913e_dce5e656eb51row20_col3 {\n",
       "            background-color:  #ffece4;\n",
       "            color:  #000000;\n",
       "        }    #T_7389b076_ec38_11eb_913e_dce5e656eb51row20_col4 {\n",
       "            background-color:  #fff0e8;\n",
       "            color:  #000000;\n",
       "        }    #T_7389b076_ec38_11eb_913e_dce5e656eb51row20_col5 {\n",
       "            background-color:  #fff1ea;\n",
       "            color:  #000000;\n",
       "        }    #T_7389b076_ec38_11eb_913e_dce5e656eb51row20_col6 {\n",
       "            background-color:  #8e0912;\n",
       "            color:  #f1f1f1;\n",
       "        }    #T_7389b076_ec38_11eb_913e_dce5e656eb51row20_col7 {\n",
       "            background-color:  #fb6c4c;\n",
       "            color:  #000000;\n",
       "        }    #T_7389b076_ec38_11eb_913e_dce5e656eb51row21_col1 {\n",
       "            background-color:  #fff0e8;\n",
       "            color:  #000000;\n",
       "        }    #T_7389b076_ec38_11eb_913e_dce5e656eb51row21_col2 {\n",
       "            background-color:  #fff4ee;\n",
       "            color:  #000000;\n",
       "        }    #T_7389b076_ec38_11eb_913e_dce5e656eb51row21_col3 {\n",
       "            background-color:  #fff0e8;\n",
       "            color:  #000000;\n",
       "        }    #T_7389b076_ec38_11eb_913e_dce5e656eb51row21_col4 {\n",
       "            background-color:  #fff0e9;\n",
       "            color:  #000000;\n",
       "        }    #T_7389b076_ec38_11eb_913e_dce5e656eb51row21_col5 {\n",
       "            background-color:  #fff2eb;\n",
       "            color:  #000000;\n",
       "        }    #T_7389b076_ec38_11eb_913e_dce5e656eb51row21_col6 {\n",
       "            background-color:  #940b13;\n",
       "            color:  #f1f1f1;\n",
       "        }    #T_7389b076_ec38_11eb_913e_dce5e656eb51row21_col7 {\n",
       "            background-color:  #ed392b;\n",
       "            color:  #f1f1f1;\n",
       "        }    #T_7389b076_ec38_11eb_913e_dce5e656eb51row22_col1 {\n",
       "            background-color:  #fff1ea;\n",
       "            color:  #000000;\n",
       "        }    #T_7389b076_ec38_11eb_913e_dce5e656eb51row22_col2 {\n",
       "            background-color:  #fff3ed;\n",
       "            color:  #000000;\n",
       "        }    #T_7389b076_ec38_11eb_913e_dce5e656eb51row22_col3 {\n",
       "            background-color:  #fff1ea;\n",
       "            color:  #000000;\n",
       "        }    #T_7389b076_ec38_11eb_913e_dce5e656eb51row22_col4 {\n",
       "            background-color:  #fff1ea;\n",
       "            color:  #000000;\n",
       "        }    #T_7389b076_ec38_11eb_913e_dce5e656eb51row22_col5 {\n",
       "            background-color:  #ffeee7;\n",
       "            color:  #000000;\n",
       "        }    #T_7389b076_ec38_11eb_913e_dce5e656eb51row22_col6 {\n",
       "            background-color:  #9f0e14;\n",
       "            color:  #f1f1f1;\n",
       "        }    #T_7389b076_ec38_11eb_913e_dce5e656eb51row22_col7 {\n",
       "            background-color:  #e22e27;\n",
       "            color:  #f1f1f1;\n",
       "        }    #T_7389b076_ec38_11eb_913e_dce5e656eb51row23_col1 {\n",
       "            background-color:  #fff2ec;\n",
       "            color:  #000000;\n",
       "        }    #T_7389b076_ec38_11eb_913e_dce5e656eb51row23_col2 {\n",
       "            background-color:  #fff4ee;\n",
       "            color:  #000000;\n",
       "        }    #T_7389b076_ec38_11eb_913e_dce5e656eb51row23_col3 {\n",
       "            background-color:  #fff2ec;\n",
       "            color:  #000000;\n",
       "        }    #T_7389b076_ec38_11eb_913e_dce5e656eb51row23_col4 {\n",
       "            background-color:  #fff3ed;\n",
       "            color:  #000000;\n",
       "        }    #T_7389b076_ec38_11eb_913e_dce5e656eb51row23_col5 {\n",
       "            background-color:  #ffeee7;\n",
       "            color:  #000000;\n",
       "        }    #T_7389b076_ec38_11eb_913e_dce5e656eb51row23_col6 {\n",
       "            background-color:  #980c13;\n",
       "            color:  #f1f1f1;\n",
       "        }    #T_7389b076_ec38_11eb_913e_dce5e656eb51row23_col7 {\n",
       "            background-color:  #f7593f;\n",
       "            color:  #000000;\n",
       "        }    #T_7389b076_ec38_11eb_913e_dce5e656eb51row24_col1 {\n",
       "            background-color:  #fff3ed;\n",
       "            color:  #000000;\n",
       "        }    #T_7389b076_ec38_11eb_913e_dce5e656eb51row24_col2 {\n",
       "            background-color:  #fee8de;\n",
       "            color:  #000000;\n",
       "        }    #T_7389b076_ec38_11eb_913e_dce5e656eb51row24_col3 {\n",
       "            background-color:  #fff4ee;\n",
       "            color:  #000000;\n",
       "        }    #T_7389b076_ec38_11eb_913e_dce5e656eb51row24_col4 {\n",
       "            background-color:  #fff4ee;\n",
       "            color:  #000000;\n",
       "        }    #T_7389b076_ec38_11eb_913e_dce5e656eb51row24_col5 {\n",
       "            background-color:  #f96245;\n",
       "            color:  #000000;\n",
       "        }    #T_7389b076_ec38_11eb_913e_dce5e656eb51row24_col6 {\n",
       "            background-color:  #fc8464;\n",
       "            color:  #000000;\n",
       "        }    #T_7389b076_ec38_11eb_913e_dce5e656eb51row24_col7 {\n",
       "            background-color:  #f24734;\n",
       "            color:  #000000;\n",
       "        }    #T_7389b076_ec38_11eb_913e_dce5e656eb51row25_col1 {\n",
       "            background-color:  #fff4ee;\n",
       "            color:  #000000;\n",
       "        }    #T_7389b076_ec38_11eb_913e_dce5e656eb51row25_col2 {\n",
       "            background-color:  #fff0e8;\n",
       "            color:  #000000;\n",
       "        }    #T_7389b076_ec38_11eb_913e_dce5e656eb51row25_col3 {\n",
       "            background-color:  #fff4ee;\n",
       "            color:  #000000;\n",
       "        }    #T_7389b076_ec38_11eb_913e_dce5e656eb51row25_col4 {\n",
       "            background-color:  #fff4ef;\n",
       "            color:  #000000;\n",
       "        }    #T_7389b076_ec38_11eb_913e_dce5e656eb51row25_col5 {\n",
       "            background-color:  #fcb69b;\n",
       "            color:  #000000;\n",
       "        }    #T_7389b076_ec38_11eb_913e_dce5e656eb51row25_col6 {\n",
       "            background-color:  #d92523;\n",
       "            color:  #f1f1f1;\n",
       "        }    #T_7389b076_ec38_11eb_913e_dce5e656eb51row25_col7 {\n",
       "            background-color:  #fc9879;\n",
       "            color:  #000000;\n",
       "        }    #T_7389b076_ec38_11eb_913e_dce5e656eb51row26_col1 {\n",
       "            background-color:  #fff4ee;\n",
       "            color:  #000000;\n",
       "        }    #T_7389b076_ec38_11eb_913e_dce5e656eb51row26_col2 {\n",
       "            background-color:  #fff5f0;\n",
       "            color:  #000000;\n",
       "        }    #T_7389b076_ec38_11eb_913e_dce5e656eb51row26_col3 {\n",
       "            background-color:  #fff4ee;\n",
       "            color:  #000000;\n",
       "        }    #T_7389b076_ec38_11eb_913e_dce5e656eb51row26_col4 {\n",
       "            background-color:  #fff4ef;\n",
       "            color:  #000000;\n",
       "        }    #T_7389b076_ec38_11eb_913e_dce5e656eb51row26_col5 {\n",
       "            background-color:  #fff5f0;\n",
       "            color:  #000000;\n",
       "        }    #T_7389b076_ec38_11eb_913e_dce5e656eb51row26_col6 {\n",
       "            background-color:  #800610;\n",
       "            color:  #f1f1f1;\n",
       "        }    #T_7389b076_ec38_11eb_913e_dce5e656eb51row26_col7 {\n",
       "            background-color:  #fb7252;\n",
       "            color:  #000000;\n",
       "        }    #T_7389b076_ec38_11eb_913e_dce5e656eb51row27_col1 {\n",
       "            background-color:  #fff4ee;\n",
       "            color:  #000000;\n",
       "        }    #T_7389b076_ec38_11eb_913e_dce5e656eb51row27_col2 {\n",
       "            background-color:  #fff0e8;\n",
       "            color:  #000000;\n",
       "        }    #T_7389b076_ec38_11eb_913e_dce5e656eb51row27_col3 {\n",
       "            background-color:  #fff4ef;\n",
       "            color:  #000000;\n",
       "        }    #T_7389b076_ec38_11eb_913e_dce5e656eb51row27_col4 {\n",
       "            background-color:  #fff4ef;\n",
       "            color:  #000000;\n",
       "        }    #T_7389b076_ec38_11eb_913e_dce5e656eb51row27_col5 {\n",
       "            background-color:  #fca689;\n",
       "            color:  #000000;\n",
       "        }    #T_7389b076_ec38_11eb_913e_dce5e656eb51row27_col6 {\n",
       "            background-color:  #f03d2d;\n",
       "            color:  #f1f1f1;\n",
       "        }    #T_7389b076_ec38_11eb_913e_dce5e656eb51row27_col7 {\n",
       "            background-color:  #f14331;\n",
       "            color:  #f1f1f1;\n",
       "        }    #T_7389b076_ec38_11eb_913e_dce5e656eb51row28_col1 {\n",
       "            background-color:  #fff4ef;\n",
       "            color:  #000000;\n",
       "        }    #T_7389b076_ec38_11eb_913e_dce5e656eb51row28_col2 {\n",
       "            background-color:  #fff0e8;\n",
       "            color:  #000000;\n",
       "        }    #T_7389b076_ec38_11eb_913e_dce5e656eb51row28_col3 {\n",
       "            background-color:  #fff4ef;\n",
       "            color:  #000000;\n",
       "        }    #T_7389b076_ec38_11eb_913e_dce5e656eb51row28_col4 {\n",
       "            background-color:  #fff5f0;\n",
       "            color:  #000000;\n",
       "        }    #T_7389b076_ec38_11eb_913e_dce5e656eb51row28_col5 {\n",
       "            background-color:  #fb7a5a;\n",
       "            color:  #000000;\n",
       "        }    #T_7389b076_ec38_11eb_913e_dce5e656eb51row28_col6 {\n",
       "            background-color:  #f75b40;\n",
       "            color:  #000000;\n",
       "        }    #T_7389b076_ec38_11eb_913e_dce5e656eb51row28_col7 {\n",
       "            background-color:  #fdd5c4;\n",
       "            color:  #000000;\n",
       "        }    #T_7389b076_ec38_11eb_913e_dce5e656eb51row29_col1 {\n",
       "            background-color:  #fff5f0;\n",
       "            color:  #000000;\n",
       "        }    #T_7389b076_ec38_11eb_913e_dce5e656eb51row29_col2 {\n",
       "            background-color:  #ffede5;\n",
       "            color:  #000000;\n",
       "        }    #T_7389b076_ec38_11eb_913e_dce5e656eb51row29_col3 {\n",
       "            background-color:  #fff5f0;\n",
       "            color:  #000000;\n",
       "        }    #T_7389b076_ec38_11eb_913e_dce5e656eb51row29_col4 {\n",
       "            background-color:  #fff5f0;\n",
       "            color:  #000000;\n",
       "        }    #T_7389b076_ec38_11eb_913e_dce5e656eb51row29_col5 {\n",
       "            background-color:  #67000d;\n",
       "            color:  #f1f1f1;\n",
       "        }    #T_7389b076_ec38_11eb_913e_dce5e656eb51row29_col6 {\n",
       "            background-color:  #fff5f0;\n",
       "            color:  #000000;\n",
       "        }    #T_7389b076_ec38_11eb_913e_dce5e656eb51row29_col7 {\n",
       "            background-color:  #fed9c9;\n",
       "            color:  #000000;\n",
       "        }    #T_7389b076_ec38_11eb_913e_dce5e656eb51row30_col1 {\n",
       "            background-color:  #fff5f0;\n",
       "            color:  #000000;\n",
       "        }    #T_7389b076_ec38_11eb_913e_dce5e656eb51row30_col2 {\n",
       "            background-color:  #fff4ee;\n",
       "            color:  #000000;\n",
       "        }    #T_7389b076_ec38_11eb_913e_dce5e656eb51row30_col3 {\n",
       "            background-color:  #fff5f0;\n",
       "            color:  #000000;\n",
       "        }    #T_7389b076_ec38_11eb_913e_dce5e656eb51row30_col4 {\n",
       "            background-color:  #fff4ef;\n",
       "            color:  #000000;\n",
       "        }    #T_7389b076_ec38_11eb_913e_dce5e656eb51row30_col5 {\n",
       "            background-color:  #fdcbb6;\n",
       "            color:  #000000;\n",
       "        }    #T_7389b076_ec38_11eb_913e_dce5e656eb51row30_col6 {\n",
       "            background-color:  #d21f20;\n",
       "            color:  #f1f1f1;\n",
       "        }    #T_7389b076_ec38_11eb_913e_dce5e656eb51row30_col7 {\n",
       "            background-color:  #d11e1f;\n",
       "            color:  #f1f1f1;\n",
       "        }    #T_7389b076_ec38_11eb_913e_dce5e656eb51row31_col1 {\n",
       "            background-color:  #fff5f0;\n",
       "            color:  #000000;\n",
       "        }    #T_7389b076_ec38_11eb_913e_dce5e656eb51row31_col2 {\n",
       "            background-color:  #fff2ec;\n",
       "            color:  #000000;\n",
       "        }    #T_7389b076_ec38_11eb_913e_dce5e656eb51row31_col3 {\n",
       "            background-color:  #fff5f0;\n",
       "            color:  #000000;\n",
       "        }    #T_7389b076_ec38_11eb_913e_dce5e656eb51row31_col4 {\n",
       "            background-color:  #fff5f0;\n",
       "            color:  #000000;\n",
       "        }    #T_7389b076_ec38_11eb_913e_dce5e656eb51row31_col5 {\n",
       "            background-color:  #fb7a5a;\n",
       "            color:  #000000;\n",
       "        }    #T_7389b076_ec38_11eb_913e_dce5e656eb51row31_col6 {\n",
       "            background-color:  #fb6b4b;\n",
       "            color:  #000000;\n",
       "        }    #T_7389b076_ec38_11eb_913e_dce5e656eb51row31_col7 {\n",
       "            background-color:  #fa6849;\n",
       "            color:  #000000;\n",
       "        }    #T_7389b076_ec38_11eb_913e_dce5e656eb51row32_col1 {\n",
       "            background-color:  #fff5f0;\n",
       "            color:  #000000;\n",
       "        }    #T_7389b076_ec38_11eb_913e_dce5e656eb51row32_col2 {\n",
       "            background-color:  #fff5f0;\n",
       "            color:  #000000;\n",
       "        }    #T_7389b076_ec38_11eb_913e_dce5e656eb51row32_col3 {\n",
       "            background-color:  #fff5f0;\n",
       "            color:  #000000;\n",
       "        }    #T_7389b076_ec38_11eb_913e_dce5e656eb51row32_col4 {\n",
       "            background-color:  #fff5f0;\n",
       "            color:  #000000;\n",
       "        }    #T_7389b076_ec38_11eb_913e_dce5e656eb51row32_col5 {\n",
       "            background-color:  #fff2eb;\n",
       "            color:  #000000;\n",
       "        }    #T_7389b076_ec38_11eb_913e_dce5e656eb51row32_col6 {\n",
       "            background-color:  #840711;\n",
       "            color:  #f1f1f1;\n",
       "        }    #T_7389b076_ec38_11eb_913e_dce5e656eb51row32_col7 {\n",
       "            background-color:  #fc9576;\n",
       "            color:  #000000;\n",
       "        }    #T_7389b076_ec38_11eb_913e_dce5e656eb51row33_col1 {\n",
       "            background-color:  #fff5f0;\n",
       "            color:  #000000;\n",
       "        }    #T_7389b076_ec38_11eb_913e_dce5e656eb51row33_col2 {\n",
       "            background-color:  #fff5f0;\n",
       "            color:  #000000;\n",
       "        }    #T_7389b076_ec38_11eb_913e_dce5e656eb51row33_col3 {\n",
       "            background-color:  #fff5f0;\n",
       "            color:  #000000;\n",
       "        }    #T_7389b076_ec38_11eb_913e_dce5e656eb51row33_col4 {\n",
       "            background-color:  #fff5f0;\n",
       "            color:  #000000;\n",
       "        }    #T_7389b076_ec38_11eb_913e_dce5e656eb51row33_col5 {\n",
       "            background-color:  #fff4ef;\n",
       "            color:  #000000;\n",
       "        }    #T_7389b076_ec38_11eb_913e_dce5e656eb51row33_col6 {\n",
       "            background-color:  #67000d;\n",
       "            color:  #f1f1f1;\n",
       "        }    #T_7389b076_ec38_11eb_913e_dce5e656eb51row33_col7 {\n",
       "            background-color:  #fff5f0;\n",
       "            color:  #000000;\n",
       "        }    #T_7389b076_ec38_11eb_913e_dce5e656eb51row34_col1 {\n",
       "            background-color:  #fff5f0;\n",
       "            color:  #000000;\n",
       "        }    #T_7389b076_ec38_11eb_913e_dce5e656eb51row34_col2 {\n",
       "            background-color:  #fff5f0;\n",
       "            color:  #000000;\n",
       "        }    #T_7389b076_ec38_11eb_913e_dce5e656eb51row34_col3 {\n",
       "            background-color:  #fff5f0;\n",
       "            color:  #000000;\n",
       "        }    #T_7389b076_ec38_11eb_913e_dce5e656eb51row34_col4 {\n",
       "            background-color:  #fff5f0;\n",
       "            color:  #000000;\n",
       "        }    #T_7389b076_ec38_11eb_913e_dce5e656eb51row34_col5 {\n",
       "            background-color:  #fff0e9;\n",
       "            color:  #000000;\n",
       "        }    #T_7389b076_ec38_11eb_913e_dce5e656eb51row34_col6 {\n",
       "            background-color:  #7c0510;\n",
       "            color:  #f1f1f1;\n",
       "        }    #T_7389b076_ec38_11eb_913e_dce5e656eb51row34_col7 {\n",
       "            background-color:  #fdd3c1;\n",
       "            color:  #000000;\n",
       "        }    #T_7389b076_ec38_11eb_913e_dce5e656eb51row35_col1 {\n",
       "            background-color:  #fff5f0;\n",
       "            color:  #000000;\n",
       "        }    #T_7389b076_ec38_11eb_913e_dce5e656eb51row35_col2 {\n",
       "            background-color:  #fff5f0;\n",
       "            color:  #000000;\n",
       "        }    #T_7389b076_ec38_11eb_913e_dce5e656eb51row35_col3 {\n",
       "            background-color:  #fff5f0;\n",
       "            color:  #000000;\n",
       "        }    #T_7389b076_ec38_11eb_913e_dce5e656eb51row35_col4 {\n",
       "            background-color:  #fff5f0;\n",
       "            color:  #000000;\n",
       "        }    #T_7389b076_ec38_11eb_913e_dce5e656eb51row35_col5 {\n",
       "            background-color:  #fff4ee;\n",
       "            color:  #000000;\n",
       "        }    #T_7389b076_ec38_11eb_913e_dce5e656eb51row35_col6 {\n",
       "            background-color:  #8c0912;\n",
       "            color:  #f1f1f1;\n",
       "        }    #T_7389b076_ec38_11eb_913e_dce5e656eb51row35_col7 {\n",
       "            background-color:  #ed392b;\n",
       "            color:  #f1f1f1;\n",
       "        }</style><table id=\"T_7389b076_ec38_11eb_913e_dce5e656eb51\" ><thead>    <tr>        <th class=\"blank level0\" ></th>        <th class=\"col_heading level0 col0\" >State/UTs</th>        <th class=\"col_heading level0 col1\" >Total Cases</th>        <th class=\"col_heading level0 col2\" >Active</th>        <th class=\"col_heading level0 col3\" >Discharged</th>        <th class=\"col_heading level0 col4\" >Deaths</th>        <th class=\"col_heading level0 col5\" >Active Ratio (%)</th>        <th class=\"col_heading level0 col6\" >Discharge Ratio (%)</th>        <th class=\"col_heading level0 col7\" >Death Ratio (%)</th>    </tr></thead><tbody>\n",
       "                <tr>\n",
       "                        <th id=\"T_7389b076_ec38_11eb_913e_dce5e656eb51level0_row0\" class=\"row_heading level0 row0\" >0</th>\n",
       "                        <td id=\"T_7389b076_ec38_11eb_913e_dce5e656eb51row0_col0\" class=\"data row0 col0\" >Maharashtra</td>\n",
       "                        <td id=\"T_7389b076_ec38_11eb_913e_dce5e656eb51row0_col1\" class=\"data row0 col1\" >6214190</td>\n",
       "                        <td id=\"T_7389b076_ec38_11eb_913e_dce5e656eb51row0_col2\" class=\"data row0 col2\" >106809</td>\n",
       "                        <td id=\"T_7389b076_ec38_11eb_913e_dce5e656eb51row0_col3\" class=\"data row0 col3\" >5980350</td>\n",
       "                        <td id=\"T_7389b076_ec38_11eb_913e_dce5e656eb51row0_col4\" class=\"data row0 col4\" >127031</td>\n",
       "                        <td id=\"T_7389b076_ec38_11eb_913e_dce5e656eb51row0_col5\" class=\"data row0 col5\" >1.72</td>\n",
       "                        <td id=\"T_7389b076_ec38_11eb_913e_dce5e656eb51row0_col6\" class=\"data row0 col6\" >96.24</td>\n",
       "                        <td id=\"T_7389b076_ec38_11eb_913e_dce5e656eb51row0_col7\" class=\"data row0 col7\" >2.04</td>\n",
       "            </tr>\n",
       "            <tr>\n",
       "                        <th id=\"T_7389b076_ec38_11eb_913e_dce5e656eb51level0_row1\" class=\"row_heading level0 row1\" >1</th>\n",
       "                        <td id=\"T_7389b076_ec38_11eb_913e_dce5e656eb51row1_col0\" class=\"data row1 col0\" >Kerala</td>\n",
       "                        <td id=\"T_7389b076_ec38_11eb_913e_dce5e656eb51row1_col1\" class=\"data row1 col1\" >3160937</td>\n",
       "                        <td id=\"T_7389b076_ec38_11eb_913e_dce5e656eb51row1_col2\" class=\"data row1 col2\" >125535</td>\n",
       "                        <td id=\"T_7389b076_ec38_11eb_913e_dce5e656eb51row1_col3\" class=\"data row1 col3\" >3020052</td>\n",
       "                        <td id=\"T_7389b076_ec38_11eb_913e_dce5e656eb51row1_col4\" class=\"data row1 col4\" >15350</td>\n",
       "                        <td id=\"T_7389b076_ec38_11eb_913e_dce5e656eb51row1_col5\" class=\"data row1 col5\" >3.97</td>\n",
       "                        <td id=\"T_7389b076_ec38_11eb_913e_dce5e656eb51row1_col6\" class=\"data row1 col6\" >95.54</td>\n",
       "                        <td id=\"T_7389b076_ec38_11eb_913e_dce5e656eb51row1_col7\" class=\"data row1 col7\" >0.49</td>\n",
       "            </tr>\n",
       "            <tr>\n",
       "                        <th id=\"T_7389b076_ec38_11eb_913e_dce5e656eb51level0_row2\" class=\"row_heading level0 row2\" >2</th>\n",
       "                        <td id=\"T_7389b076_ec38_11eb_913e_dce5e656eb51row2_col0\" class=\"data row2 col0\" >Karnataka</td>\n",
       "                        <td id=\"T_7389b076_ec38_11eb_913e_dce5e656eb51row2_col1\" class=\"data row2 col1\" >2883947</td>\n",
       "                        <td id=\"T_7389b076_ec38_11eb_913e_dce5e656eb51row2_col2\" class=\"data row2 col2\" >29314</td>\n",
       "                        <td id=\"T_7389b076_ec38_11eb_913e_dce5e656eb51row2_col3\" class=\"data row2 col3\" >2818476</td>\n",
       "                        <td id=\"T_7389b076_ec38_11eb_913e_dce5e656eb51row2_col4\" class=\"data row2 col4\" >36157</td>\n",
       "                        <td id=\"T_7389b076_ec38_11eb_913e_dce5e656eb51row2_col5\" class=\"data row2 col5\" >1.02</td>\n",
       "                        <td id=\"T_7389b076_ec38_11eb_913e_dce5e656eb51row2_col6\" class=\"data row2 col6\" >97.73</td>\n",
       "                        <td id=\"T_7389b076_ec38_11eb_913e_dce5e656eb51row2_col7\" class=\"data row2 col7\" >1.25</td>\n",
       "            </tr>\n",
       "            <tr>\n",
       "                        <th id=\"T_7389b076_ec38_11eb_913e_dce5e656eb51level0_row3\" class=\"row_heading level0 row3\" >3</th>\n",
       "                        <td id=\"T_7389b076_ec38_11eb_913e_dce5e656eb51row3_col0\" class=\"data row3 col0\" >Tamil Nadu</td>\n",
       "                        <td id=\"T_7389b076_ec38_11eb_913e_dce5e656eb51row3_col1\" class=\"data row3 col1\" >2535402</td>\n",
       "                        <td id=\"T_7389b076_ec38_11eb_913e_dce5e656eb51row3_col2\" class=\"data row3 col2\" >27897</td>\n",
       "                        <td id=\"T_7389b076_ec38_11eb_913e_dce5e656eb51row3_col3\" class=\"data row3 col3\" >2473781</td>\n",
       "                        <td id=\"T_7389b076_ec38_11eb_913e_dce5e656eb51row3_col4\" class=\"data row3 col4\" >33724</td>\n",
       "                        <td id=\"T_7389b076_ec38_11eb_913e_dce5e656eb51row3_col5\" class=\"data row3 col5\" >1.1</td>\n",
       "                        <td id=\"T_7389b076_ec38_11eb_913e_dce5e656eb51row3_col6\" class=\"data row3 col6\" >97.57</td>\n",
       "                        <td id=\"T_7389b076_ec38_11eb_913e_dce5e656eb51row3_col7\" class=\"data row3 col7\" >1.33</td>\n",
       "            </tr>\n",
       "            <tr>\n",
       "                        <th id=\"T_7389b076_ec38_11eb_913e_dce5e656eb51level0_row4\" class=\"row_heading level0 row4\" >4</th>\n",
       "                        <td id=\"T_7389b076_ec38_11eb_913e_dce5e656eb51row4_col0\" class=\"data row4 col0\" >Andhra Pradesh</td>\n",
       "                        <td id=\"T_7389b076_ec38_11eb_913e_dce5e656eb51row4_col1\" class=\"data row4 col1\" >1940096</td>\n",
       "                        <td id=\"T_7389b076_ec38_11eb_913e_dce5e656eb51row4_col2\" class=\"data row4 col2\" >24708</td>\n",
       "                        <td id=\"T_7389b076_ec38_11eb_913e_dce5e656eb51row4_col3\" class=\"data row4 col3\" >1902256</td>\n",
       "                        <td id=\"T_7389b076_ec38_11eb_913e_dce5e656eb51row4_col4\" class=\"data row4 col4\" >13132</td>\n",
       "                        <td id=\"T_7389b076_ec38_11eb_913e_dce5e656eb51row4_col5\" class=\"data row4 col5\" >1.27</td>\n",
       "                        <td id=\"T_7389b076_ec38_11eb_913e_dce5e656eb51row4_col6\" class=\"data row4 col6\" >98.05</td>\n",
       "                        <td id=\"T_7389b076_ec38_11eb_913e_dce5e656eb51row4_col7\" class=\"data row4 col7\" >0.68</td>\n",
       "            </tr>\n",
       "            <tr>\n",
       "                        <th id=\"T_7389b076_ec38_11eb_913e_dce5e656eb51level0_row5\" class=\"row_heading level0 row5\" >5</th>\n",
       "                        <td id=\"T_7389b076_ec38_11eb_913e_dce5e656eb51row5_col0\" class=\"data row5 col0\" >Uttar Pradesh</td>\n",
       "                        <td id=\"T_7389b076_ec38_11eb_913e_dce5e656eb51row5_col1\" class=\"data row5 col1\" >1707847</td>\n",
       "                        <td id=\"T_7389b076_ec38_11eb_913e_dce5e656eb51row5_col2\" class=\"data row5 col2\" >1262</td>\n",
       "                        <td id=\"T_7389b076_ec38_11eb_913e_dce5e656eb51row5_col3\" class=\"data row5 col3\" >1683866</td>\n",
       "                        <td id=\"T_7389b076_ec38_11eb_913e_dce5e656eb51row5_col4\" class=\"data row5 col4\" >22719</td>\n",
       "                        <td id=\"T_7389b076_ec38_11eb_913e_dce5e656eb51row5_col5\" class=\"data row5 col5\" >0.07</td>\n",
       "                        <td id=\"T_7389b076_ec38_11eb_913e_dce5e656eb51row5_col6\" class=\"data row5 col6\" >98.6</td>\n",
       "                        <td id=\"T_7389b076_ec38_11eb_913e_dce5e656eb51row5_col7\" class=\"data row5 col7\" >1.33</td>\n",
       "            </tr>\n",
       "            <tr>\n",
       "                        <th id=\"T_7389b076_ec38_11eb_913e_dce5e656eb51level0_row6\" class=\"row_heading level0 row6\" >6</th>\n",
       "                        <td id=\"T_7389b076_ec38_11eb_913e_dce5e656eb51row6_col0\" class=\"data row6 col0\" >West Bengal</td>\n",
       "                        <td id=\"T_7389b076_ec38_11eb_913e_dce5e656eb51row6_col1\" class=\"data row6 col1\" >1518181</td>\n",
       "                        <td id=\"T_7389b076_ec38_11eb_913e_dce5e656eb51row6_col2\" class=\"data row6 col2\" >13111</td>\n",
       "                        <td id=\"T_7389b076_ec38_11eb_913e_dce5e656eb51row6_col3\" class=\"data row6 col3\" >1487071</td>\n",
       "                        <td id=\"T_7389b076_ec38_11eb_913e_dce5e656eb51row6_col4\" class=\"data row6 col4\" >17999</td>\n",
       "                        <td id=\"T_7389b076_ec38_11eb_913e_dce5e656eb51row6_col5\" class=\"data row6 col5\" >0.86</td>\n",
       "                        <td id=\"T_7389b076_ec38_11eb_913e_dce5e656eb51row6_col6\" class=\"data row6 col6\" >97.95</td>\n",
       "                        <td id=\"T_7389b076_ec38_11eb_913e_dce5e656eb51row6_col7\" class=\"data row6 col7\" >1.19</td>\n",
       "            </tr>\n",
       "            <tr>\n",
       "                        <th id=\"T_7389b076_ec38_11eb_913e_dce5e656eb51level0_row7\" class=\"row_heading level0 row7\" >7</th>\n",
       "                        <td id=\"T_7389b076_ec38_11eb_913e_dce5e656eb51row7_col0\" class=\"data row7 col0\" >Delhi</td>\n",
       "                        <td id=\"T_7389b076_ec38_11eb_913e_dce5e656eb51row7_col1\" class=\"data row7 col1\" >1435529</td>\n",
       "                        <td id=\"T_7389b076_ec38_11eb_913e_dce5e656eb51row7_col2\" class=\"data row7 col2\" >592</td>\n",
       "                        <td id=\"T_7389b076_ec38_11eb_913e_dce5e656eb51row7_col3\" class=\"data row7 col3\" >1409910</td>\n",
       "                        <td id=\"T_7389b076_ec38_11eb_913e_dce5e656eb51row7_col4\" class=\"data row7 col4\" >25027</td>\n",
       "                        <td id=\"T_7389b076_ec38_11eb_913e_dce5e656eb51row7_col5\" class=\"data row7 col5\" >0.04</td>\n",
       "                        <td id=\"T_7389b076_ec38_11eb_913e_dce5e656eb51row7_col6\" class=\"data row7 col6\" >98.22</td>\n",
       "                        <td id=\"T_7389b076_ec38_11eb_913e_dce5e656eb51row7_col7\" class=\"data row7 col7\" >1.74</td>\n",
       "            </tr>\n",
       "            <tr>\n",
       "                        <th id=\"T_7389b076_ec38_11eb_913e_dce5e656eb51level0_row8\" class=\"row_heading level0 row8\" >8</th>\n",
       "                        <td id=\"T_7389b076_ec38_11eb_913e_dce5e656eb51row8_col0\" class=\"data row8 col0\" >Chhattisgarh</td>\n",
       "                        <td id=\"T_7389b076_ec38_11eb_913e_dce5e656eb51row8_col1\" class=\"data row8 col1\" >999853</td>\n",
       "                        <td id=\"T_7389b076_ec38_11eb_913e_dce5e656eb51row8_col2\" class=\"data row8 col2\" >3719</td>\n",
       "                        <td id=\"T_7389b076_ec38_11eb_913e_dce5e656eb51row8_col3\" class=\"data row8 col3\" >982638</td>\n",
       "                        <td id=\"T_7389b076_ec38_11eb_913e_dce5e656eb51row8_col4\" class=\"data row8 col4\" >13496</td>\n",
       "                        <td id=\"T_7389b076_ec38_11eb_913e_dce5e656eb51row8_col5\" class=\"data row8 col5\" >0.37</td>\n",
       "                        <td id=\"T_7389b076_ec38_11eb_913e_dce5e656eb51row8_col6\" class=\"data row8 col6\" >98.28</td>\n",
       "                        <td id=\"T_7389b076_ec38_11eb_913e_dce5e656eb51row8_col7\" class=\"data row8 col7\" >1.35</td>\n",
       "            </tr>\n",
       "            <tr>\n",
       "                        <th id=\"T_7389b076_ec38_11eb_913e_dce5e656eb51level0_row9\" class=\"row_heading level0 row9\" >9</th>\n",
       "                        <td id=\"T_7389b076_ec38_11eb_913e_dce5e656eb51row9_col0\" class=\"data row9 col0\" >Odisha</td>\n",
       "                        <td id=\"T_7389b076_ec38_11eb_913e_dce5e656eb51row9_col1\" class=\"data row9 col1\" >954326</td>\n",
       "                        <td id=\"T_7389b076_ec38_11eb_913e_dce5e656eb51row9_col2\" class=\"data row9 col2\" >18850</td>\n",
       "                        <td id=\"T_7389b076_ec38_11eb_913e_dce5e656eb51row9_col3\" class=\"data row9 col3\" >930418</td>\n",
       "                        <td id=\"T_7389b076_ec38_11eb_913e_dce5e656eb51row9_col4\" class=\"data row9 col4\" >5058</td>\n",
       "                        <td id=\"T_7389b076_ec38_11eb_913e_dce5e656eb51row9_col5\" class=\"data row9 col5\" >1.98</td>\n",
       "                        <td id=\"T_7389b076_ec38_11eb_913e_dce5e656eb51row9_col6\" class=\"data row9 col6\" >97.49</td>\n",
       "                        <td id=\"T_7389b076_ec38_11eb_913e_dce5e656eb51row9_col7\" class=\"data row9 col7\" >0.53</td>\n",
       "            </tr>\n",
       "            <tr>\n",
       "                        <th id=\"T_7389b076_ec38_11eb_913e_dce5e656eb51level0_row10\" class=\"row_heading level0 row10\" >10</th>\n",
       "                        <td id=\"T_7389b076_ec38_11eb_913e_dce5e656eb51row10_col0\" class=\"data row10 col0\" >Rajasthan</td>\n",
       "                        <td id=\"T_7389b076_ec38_11eb_913e_dce5e656eb51row10_col1\" class=\"data row10 col1\" >953360</td>\n",
       "                        <td id=\"T_7389b076_ec38_11eb_913e_dce5e656eb51row10_col2\" class=\"data row10 col2\" >472</td>\n",
       "                        <td id=\"T_7389b076_ec38_11eb_913e_dce5e656eb51row10_col3\" class=\"data row10 col3\" >943938</td>\n",
       "                        <td id=\"T_7389b076_ec38_11eb_913e_dce5e656eb51row10_col4\" class=\"data row10 col4\" >8950</td>\n",
       "                        <td id=\"T_7389b076_ec38_11eb_913e_dce5e656eb51row10_col5\" class=\"data row10 col5\" >0.05</td>\n",
       "                        <td id=\"T_7389b076_ec38_11eb_913e_dce5e656eb51row10_col6\" class=\"data row10 col6\" >99.01</td>\n",
       "                        <td id=\"T_7389b076_ec38_11eb_913e_dce5e656eb51row10_col7\" class=\"data row10 col7\" >0.94</td>\n",
       "            </tr>\n",
       "            <tr>\n",
       "                        <th id=\"T_7389b076_ec38_11eb_913e_dce5e656eb51level0_row11\" class=\"row_heading level0 row11\" >11</th>\n",
       "                        <td id=\"T_7389b076_ec38_11eb_913e_dce5e656eb51row11_col0\" class=\"data row11 col0\" >Gujarat</td>\n",
       "                        <td id=\"T_7389b076_ec38_11eb_913e_dce5e656eb51row11_col1\" class=\"data row11 col1\" >824497</td>\n",
       "                        <td id=\"T_7389b076_ec38_11eb_913e_dce5e656eb51row11_col2\" class=\"data row11 col2\" >493</td>\n",
       "                        <td id=\"T_7389b076_ec38_11eb_913e_dce5e656eb51row11_col3\" class=\"data row11 col3\" >813928</td>\n",
       "                        <td id=\"T_7389b076_ec38_11eb_913e_dce5e656eb51row11_col4\" class=\"data row11 col4\" >10076</td>\n",
       "                        <td id=\"T_7389b076_ec38_11eb_913e_dce5e656eb51row11_col5\" class=\"data row11 col5\" >0.06</td>\n",
       "                        <td id=\"T_7389b076_ec38_11eb_913e_dce5e656eb51row11_col6\" class=\"data row11 col6\" >98.72</td>\n",
       "                        <td id=\"T_7389b076_ec38_11eb_913e_dce5e656eb51row11_col7\" class=\"data row11 col7\" >1.22</td>\n",
       "            </tr>\n",
       "            <tr>\n",
       "                        <th id=\"T_7389b076_ec38_11eb_913e_dce5e656eb51level0_row12\" class=\"row_heading level0 row12\" >12</th>\n",
       "                        <td id=\"T_7389b076_ec38_11eb_913e_dce5e656eb51row12_col0\" class=\"data row12 col0\" >Madhya Pradesh</td>\n",
       "                        <td id=\"T_7389b076_ec38_11eb_913e_dce5e656eb51row12_col1\" class=\"data row12 col1\" >791658</td>\n",
       "                        <td id=\"T_7389b076_ec38_11eb_913e_dce5e656eb51row12_col2\" class=\"data row12 col2\" >219</td>\n",
       "                        <td id=\"T_7389b076_ec38_11eb_913e_dce5e656eb51row12_col3\" class=\"data row12 col3\" >780927</td>\n",
       "                        <td id=\"T_7389b076_ec38_11eb_913e_dce5e656eb51row12_col4\" class=\"data row12 col4\" >10512</td>\n",
       "                        <td id=\"T_7389b076_ec38_11eb_913e_dce5e656eb51row12_col5\" class=\"data row12 col5\" >0.03</td>\n",
       "                        <td id=\"T_7389b076_ec38_11eb_913e_dce5e656eb51row12_col6\" class=\"data row12 col6\" >98.64</td>\n",
       "                        <td id=\"T_7389b076_ec38_11eb_913e_dce5e656eb51row12_col7\" class=\"data row12 col7\" >1.33</td>\n",
       "            </tr>\n",
       "            <tr>\n",
       "                        <th id=\"T_7389b076_ec38_11eb_913e_dce5e656eb51level0_row13\" class=\"row_heading level0 row13\" >13</th>\n",
       "                        <td id=\"T_7389b076_ec38_11eb_913e_dce5e656eb51row13_col0\" class=\"data row13 col0\" >Haryana</td>\n",
       "                        <td id=\"T_7389b076_ec38_11eb_913e_dce5e656eb51row13_col1\" class=\"data row13 col1\" >769539</td>\n",
       "                        <td id=\"T_7389b076_ec38_11eb_913e_dce5e656eb51row13_col2\" class=\"data row13 col2\" >817</td>\n",
       "                        <td id=\"T_7389b076_ec38_11eb_913e_dce5e656eb51row13_col3\" class=\"data row13 col3\" >759123</td>\n",
       "                        <td id=\"T_7389b076_ec38_11eb_913e_dce5e656eb51row13_col4\" class=\"data row13 col4\" >9599</td>\n",
       "                        <td id=\"T_7389b076_ec38_11eb_913e_dce5e656eb51row13_col5\" class=\"data row13 col5\" >0.11</td>\n",
       "                        <td id=\"T_7389b076_ec38_11eb_913e_dce5e656eb51row13_col6\" class=\"data row13 col6\" >98.65</td>\n",
       "                        <td id=\"T_7389b076_ec38_11eb_913e_dce5e656eb51row13_col7\" class=\"data row13 col7\" >1.25</td>\n",
       "            </tr>\n",
       "            <tr>\n",
       "                        <th id=\"T_7389b076_ec38_11eb_913e_dce5e656eb51level0_row14\" class=\"row_heading level0 row14\" >14</th>\n",
       "                        <td id=\"T_7389b076_ec38_11eb_913e_dce5e656eb51row14_col0\" class=\"data row14 col0\" >Bihar</td>\n",
       "                        <td id=\"T_7389b076_ec38_11eb_913e_dce5e656eb51row14_col1\" class=\"data row14 col1\" >723945</td>\n",
       "                        <td id=\"T_7389b076_ec38_11eb_913e_dce5e656eb51row14_col2\" class=\"data row14 col2\" >725</td>\n",
       "                        <td id=\"T_7389b076_ec38_11eb_913e_dce5e656eb51row14_col3\" class=\"data row14 col3\" >713591</td>\n",
       "                        <td id=\"T_7389b076_ec38_11eb_913e_dce5e656eb51row14_col4\" class=\"data row14 col4\" >9629</td>\n",
       "                        <td id=\"T_7389b076_ec38_11eb_913e_dce5e656eb51row14_col5\" class=\"data row14 col5\" >0.1</td>\n",
       "                        <td id=\"T_7389b076_ec38_11eb_913e_dce5e656eb51row14_col6\" class=\"data row14 col6\" >98.57</td>\n",
       "                        <td id=\"T_7389b076_ec38_11eb_913e_dce5e656eb51row14_col7\" class=\"data row14 col7\" >1.33</td>\n",
       "            </tr>\n",
       "            <tr>\n",
       "                        <th id=\"T_7389b076_ec38_11eb_913e_dce5e656eb51level0_row15\" class=\"row_heading level0 row15\" >15</th>\n",
       "                        <td id=\"T_7389b076_ec38_11eb_913e_dce5e656eb51row15_col0\" class=\"data row15 col0\" >Telengana</td>\n",
       "                        <td id=\"T_7389b076_ec38_11eb_913e_dce5e656eb51row15_col1\" class=\"data row15 col1\" >636627</td>\n",
       "                        <td id=\"T_7389b076_ec38_11eb_913e_dce5e656eb51row15_col2\" class=\"data row15 col2\" >9824</td>\n",
       "                        <td id=\"T_7389b076_ec38_11eb_913e_dce5e656eb51row15_col3\" class=\"data row15 col3\" >623044</td>\n",
       "                        <td id=\"T_7389b076_ec38_11eb_913e_dce5e656eb51row15_col4\" class=\"data row15 col4\" >3759</td>\n",
       "                        <td id=\"T_7389b076_ec38_11eb_913e_dce5e656eb51row15_col5\" class=\"data row15 col5\" >1.54</td>\n",
       "                        <td id=\"T_7389b076_ec38_11eb_913e_dce5e656eb51row15_col6\" class=\"data row15 col6\" >97.87</td>\n",
       "                        <td id=\"T_7389b076_ec38_11eb_913e_dce5e656eb51row15_col7\" class=\"data row15 col7\" >0.59</td>\n",
       "            </tr>\n",
       "            <tr>\n",
       "                        <th id=\"T_7389b076_ec38_11eb_913e_dce5e656eb51level0_row16\" class=\"row_heading level0 row16\" >16</th>\n",
       "                        <td id=\"T_7389b076_ec38_11eb_913e_dce5e656eb51row16_col0\" class=\"data row16 col0\" >Punjab</td>\n",
       "                        <td id=\"T_7389b076_ec38_11eb_913e_dce5e656eb51row16_col1\" class=\"data row16 col1\" >598334</td>\n",
       "                        <td id=\"T_7389b076_ec38_11eb_913e_dce5e656eb51row16_col2\" class=\"data row16 col2\" >1046</td>\n",
       "                        <td id=\"T_7389b076_ec38_11eb_913e_dce5e656eb51row16_col3\" class=\"data row16 col3\" >581055</td>\n",
       "                        <td id=\"T_7389b076_ec38_11eb_913e_dce5e656eb51row16_col4\" class=\"data row16 col4\" >16233</td>\n",
       "                        <td id=\"T_7389b076_ec38_11eb_913e_dce5e656eb51row16_col5\" class=\"data row16 col5\" >0.17</td>\n",
       "                        <td id=\"T_7389b076_ec38_11eb_913e_dce5e656eb51row16_col6\" class=\"data row16 col6\" >97.11</td>\n",
       "                        <td id=\"T_7389b076_ec38_11eb_913e_dce5e656eb51row16_col7\" class=\"data row16 col7\" >2.71</td>\n",
       "            </tr>\n",
       "            <tr>\n",
       "                        <th id=\"T_7389b076_ec38_11eb_913e_dce5e656eb51level0_row17\" class=\"row_heading level0 row17\" >17</th>\n",
       "                        <td id=\"T_7389b076_ec38_11eb_913e_dce5e656eb51row17_col0\" class=\"data row17 col0\" >Assam</td>\n",
       "                        <td id=\"T_7389b076_ec38_11eb_913e_dce5e656eb51row17_col1\" class=\"data row17 col1\" >547283</td>\n",
       "                        <td id=\"T_7389b076_ec38_11eb_913e_dce5e656eb51row17_col2\" class=\"data row17 col2\" >17815</td>\n",
       "                        <td id=\"T_7389b076_ec38_11eb_913e_dce5e656eb51row17_col3\" class=\"data row17 col3\" >524469</td>\n",
       "                        <td id=\"T_7389b076_ec38_11eb_913e_dce5e656eb51row17_col4\" class=\"data row17 col4\" >4999</td>\n",
       "                        <td id=\"T_7389b076_ec38_11eb_913e_dce5e656eb51row17_col5\" class=\"data row17 col5\" >3.26</td>\n",
       "                        <td id=\"T_7389b076_ec38_11eb_913e_dce5e656eb51row17_col6\" class=\"data row17 col6\" >95.83</td>\n",
       "                        <td id=\"T_7389b076_ec38_11eb_913e_dce5e656eb51row17_col7\" class=\"data row17 col7\" >0.91</td>\n",
       "            </tr>\n",
       "            <tr>\n",
       "                        <th id=\"T_7389b076_ec38_11eb_913e_dce5e656eb51level0_row18\" class=\"row_heading level0 row18\" >18</th>\n",
       "                        <td id=\"T_7389b076_ec38_11eb_913e_dce5e656eb51row18_col0\" class=\"data row18 col0\" >Jharkhand</td>\n",
       "                        <td id=\"T_7389b076_ec38_11eb_913e_dce5e656eb51row18_col1\" class=\"data row18 col1\" >346681</td>\n",
       "                        <td id=\"T_7389b076_ec38_11eb_913e_dce5e656eb51row18_col2\" class=\"data row18 col2\" >327</td>\n",
       "                        <td id=\"T_7389b076_ec38_11eb_913e_dce5e656eb51row18_col3\" class=\"data row18 col3\" >341234</td>\n",
       "                        <td id=\"T_7389b076_ec38_11eb_913e_dce5e656eb51row18_col4\" class=\"data row18 col4\" >5120</td>\n",
       "                        <td id=\"T_7389b076_ec38_11eb_913e_dce5e656eb51row18_col5\" class=\"data row18 col5\" >0.09</td>\n",
       "                        <td id=\"T_7389b076_ec38_11eb_913e_dce5e656eb51row18_col6\" class=\"data row18 col6\" >98.43</td>\n",
       "                        <td id=\"T_7389b076_ec38_11eb_913e_dce5e656eb51row18_col7\" class=\"data row18 col7\" >1.48</td>\n",
       "            </tr>\n",
       "            <tr>\n",
       "                        <th id=\"T_7389b076_ec38_11eb_913e_dce5e656eb51level0_row19\" class=\"row_heading level0 row19\" >19</th>\n",
       "                        <td id=\"T_7389b076_ec38_11eb_913e_dce5e656eb51row19_col0\" class=\"data row19 col0\" >Uttarakhand</td>\n",
       "                        <td id=\"T_7389b076_ec38_11eb_913e_dce5e656eb51row19_col1\" class=\"data row19 col1\" >341452</td>\n",
       "                        <td id=\"T_7389b076_ec38_11eb_913e_dce5e656eb51row19_col2\" class=\"data row19 col2\" >623</td>\n",
       "                        <td id=\"T_7389b076_ec38_11eb_913e_dce5e656eb51row19_col3\" class=\"data row19 col3\" >333473</td>\n",
       "                        <td id=\"T_7389b076_ec38_11eb_913e_dce5e656eb51row19_col4\" class=\"data row19 col4\" >7356</td>\n",
       "                        <td id=\"T_7389b076_ec38_11eb_913e_dce5e656eb51row19_col5\" class=\"data row19 col5\" >0.18</td>\n",
       "                        <td id=\"T_7389b076_ec38_11eb_913e_dce5e656eb51row19_col6\" class=\"data row19 col6\" >97.66</td>\n",
       "                        <td id=\"T_7389b076_ec38_11eb_913e_dce5e656eb51row19_col7\" class=\"data row19 col7\" >2.15</td>\n",
       "            </tr>\n",
       "            <tr>\n",
       "                        <th id=\"T_7389b076_ec38_11eb_913e_dce5e656eb51level0_row20\" class=\"row_heading level0 row20\" >20</th>\n",
       "                        <td id=\"T_7389b076_ec38_11eb_913e_dce5e656eb51row20_col0\" class=\"data row20 col0\" >Jammu and Kashmir</td>\n",
       "                        <td id=\"T_7389b076_ec38_11eb_913e_dce5e656eb51row20_col1\" class=\"data row20 col1\" >319901</td>\n",
       "                        <td id=\"T_7389b076_ec38_11eb_913e_dce5e656eb51row20_col2\" class=\"data row20 col2\" >1919</td>\n",
       "                        <td id=\"T_7389b076_ec38_11eb_913e_dce5e656eb51row20_col3\" class=\"data row20 col3\" >313618</td>\n",
       "                        <td id=\"T_7389b076_ec38_11eb_913e_dce5e656eb51row20_col4\" class=\"data row20 col4\" >4364</td>\n",
       "                        <td id=\"T_7389b076_ec38_11eb_913e_dce5e656eb51row20_col5\" class=\"data row20 col5\" >0.6</td>\n",
       "                        <td id=\"T_7389b076_ec38_11eb_913e_dce5e656eb51row20_col6\" class=\"data row20 col6\" >98.04</td>\n",
       "                        <td id=\"T_7389b076_ec38_11eb_913e_dce5e656eb51row20_col7\" class=\"data row20 col7\" >1.36</td>\n",
       "            </tr>\n",
       "            <tr>\n",
       "                        <th id=\"T_7389b076_ec38_11eb_913e_dce5e656eb51level0_row21\" class=\"row_heading level0 row21\" >21</th>\n",
       "                        <td id=\"T_7389b076_ec38_11eb_913e_dce5e656eb51row21_col0\" class=\"data row21 col0\" >Himachal Pradesh</td>\n",
       "                        <td id=\"T_7389b076_ec38_11eb_913e_dce5e656eb51row21_col1\" class=\"data row21 col1\" >204391</td>\n",
       "                        <td id=\"T_7389b076_ec38_11eb_913e_dce5e656eb51row21_col2\" class=\"data row21 col2\" >1007</td>\n",
       "                        <td id=\"T_7389b076_ec38_11eb_913e_dce5e656eb51row21_col3\" class=\"data row21 col3\" >199877</td>\n",
       "                        <td id=\"T_7389b076_ec38_11eb_913e_dce5e656eb51row21_col4\" class=\"data row21 col4\" >3507</td>\n",
       "                        <td id=\"T_7389b076_ec38_11eb_913e_dce5e656eb51row21_col5\" class=\"data row21 col5\" >0.49</td>\n",
       "                        <td id=\"T_7389b076_ec38_11eb_913e_dce5e656eb51row21_col6\" class=\"data row21 col6\" >97.79</td>\n",
       "                        <td id=\"T_7389b076_ec38_11eb_913e_dce5e656eb51row21_col7\" class=\"data row21 col7\" >1.72</td>\n",
       "            </tr>\n",
       "            <tr>\n",
       "                        <th id=\"T_7389b076_ec38_11eb_913e_dce5e656eb51level0_row22\" class=\"row_heading level0 row22\" >22</th>\n",
       "                        <td id=\"T_7389b076_ec38_11eb_913e_dce5e656eb51row22_col0\" class=\"data row22 col0\" >Goa</td>\n",
       "                        <td id=\"T_7389b076_ec38_11eb_913e_dce5e656eb51row22_col1\" class=\"data row22 col1\" >169740</td>\n",
       "                        <td id=\"T_7389b076_ec38_11eb_913e_dce5e656eb51row22_col2\" class=\"data row22 col2\" >1562</td>\n",
       "                        <td id=\"T_7389b076_ec38_11eb_913e_dce5e656eb51row22_col3\" class=\"data row22 col3\" >165067</td>\n",
       "                        <td id=\"T_7389b076_ec38_11eb_913e_dce5e656eb51row22_col4\" class=\"data row22 col4\" >3111</td>\n",
       "                        <td id=\"T_7389b076_ec38_11eb_913e_dce5e656eb51row22_col5\" class=\"data row22 col5\" >0.92</td>\n",
       "                        <td id=\"T_7389b076_ec38_11eb_913e_dce5e656eb51row22_col6\" class=\"data row22 col6\" >97.25</td>\n",
       "                        <td id=\"T_7389b076_ec38_11eb_913e_dce5e656eb51row22_col7\" class=\"data row22 col7\" >1.83</td>\n",
       "            </tr>\n",
       "            <tr>\n",
       "                        <th id=\"T_7389b076_ec38_11eb_913e_dce5e656eb51level0_row23\" class=\"row_heading level0 row23\" >23</th>\n",
       "                        <td id=\"T_7389b076_ec38_11eb_913e_dce5e656eb51row23_col0\" class=\"data row23 col0\" >Puducherry</td>\n",
       "                        <td id=\"T_7389b076_ec38_11eb_913e_dce5e656eb51row23_col1\" class=\"data row23 col1\" >119703</td>\n",
       "                        <td id=\"T_7389b076_ec38_11eb_913e_dce5e656eb51row23_col2\" class=\"data row23 col2\" >1124</td>\n",
       "                        <td id=\"T_7389b076_ec38_11eb_913e_dce5e656eb51row23_col3\" class=\"data row23 col3\" >116801</td>\n",
       "                        <td id=\"T_7389b076_ec38_11eb_913e_dce5e656eb51row23_col4\" class=\"data row23 col4\" >1778</td>\n",
       "                        <td id=\"T_7389b076_ec38_11eb_913e_dce5e656eb51row23_col5\" class=\"data row23 col5\" >0.94</td>\n",
       "                        <td id=\"T_7389b076_ec38_11eb_913e_dce5e656eb51row23_col6\" class=\"data row23 col6\" >97.58</td>\n",
       "                        <td id=\"T_7389b076_ec38_11eb_913e_dce5e656eb51row23_col7\" class=\"data row23 col7\" >1.49</td>\n",
       "            </tr>\n",
       "            <tr>\n",
       "                        <th id=\"T_7389b076_ec38_11eb_913e_dce5e656eb51level0_row24\" class=\"row_heading level0 row24\" >24</th>\n",
       "                        <td id=\"T_7389b076_ec38_11eb_913e_dce5e656eb51row24_col0\" class=\"data row24 col0\" >Manipur</td>\n",
       "                        <td id=\"T_7389b076_ec38_11eb_913e_dce5e656eb51row24_col1\" class=\"data row24 col1\" >84822</td>\n",
       "                        <td id=\"T_7389b076_ec38_11eb_913e_dce5e656eb51row24_col2\" class=\"data row24 col2\" >9676</td>\n",
       "                        <td id=\"T_7389b076_ec38_11eb_913e_dce5e656eb51row24_col3\" class=\"data row24 col3\" >73770</td>\n",
       "                        <td id=\"T_7389b076_ec38_11eb_913e_dce5e656eb51row24_col4\" class=\"data row24 col4\" >1376</td>\n",
       "                        <td id=\"T_7389b076_ec38_11eb_913e_dce5e656eb51row24_col5\" class=\"data row24 col5\" >11.41</td>\n",
       "                        <td id=\"T_7389b076_ec38_11eb_913e_dce5e656eb51row24_col6\" class=\"data row24 col6\" >86.97</td>\n",
       "                        <td id=\"T_7389b076_ec38_11eb_913e_dce5e656eb51row24_col7\" class=\"data row24 col7\" >1.62</td>\n",
       "            </tr>\n",
       "            <tr>\n",
       "                        <th id=\"T_7389b076_ec38_11eb_913e_dce5e656eb51level0_row25\" class=\"row_heading level0 row25\" >25</th>\n",
       "                        <td id=\"T_7389b076_ec38_11eb_913e_dce5e656eb51row25_col0\" class=\"data row25 col0\" >Tripura</td>\n",
       "                        <td id=\"T_7389b076_ec38_11eb_913e_dce5e656eb51row25_col1\" class=\"data row25 col1\" >73901</td>\n",
       "                        <td id=\"T_7389b076_ec38_11eb_913e_dce5e656eb51row25_col2\" class=\"data row25 col2\" >4314</td>\n",
       "                        <td id=\"T_7389b076_ec38_11eb_913e_dce5e656eb51row25_col3\" class=\"data row25 col3\" >68859</td>\n",
       "                        <td id=\"T_7389b076_ec38_11eb_913e_dce5e656eb51row25_col4\" class=\"data row25 col4\" >728</td>\n",
       "                        <td id=\"T_7389b076_ec38_11eb_913e_dce5e656eb51row25_col5\" class=\"data row25 col5\" >5.84</td>\n",
       "                        <td id=\"T_7389b076_ec38_11eb_913e_dce5e656eb51row25_col6\" class=\"data row25 col6\" >93.18</td>\n",
       "                        <td id=\"T_7389b076_ec38_11eb_913e_dce5e656eb51row25_col7\" class=\"data row25 col7\" >0.99</td>\n",
       "            </tr>\n",
       "            <tr>\n",
       "                        <th id=\"T_7389b076_ec38_11eb_913e_dce5e656eb51level0_row26\" class=\"row_heading level0 row26\" >26</th>\n",
       "                        <td id=\"T_7389b076_ec38_11eb_913e_dce5e656eb51row26_col0\" class=\"data row26 col0\" >Chandigarh</td>\n",
       "                        <td id=\"T_7389b076_ec38_11eb_913e_dce5e656eb51row26_col1\" class=\"data row26 col1\" >61889</td>\n",
       "                        <td id=\"T_7389b076_ec38_11eb_913e_dce5e656eb51row26_col2\" class=\"data row26 col2\" >50</td>\n",
       "                        <td id=\"T_7389b076_ec38_11eb_913e_dce5e656eb51row26_col3\" class=\"data row26 col3\" >61030</td>\n",
       "                        <td id=\"T_7389b076_ec38_11eb_913e_dce5e656eb51row26_col4\" class=\"data row26 col4\" >809</td>\n",
       "                        <td id=\"T_7389b076_ec38_11eb_913e_dce5e656eb51row26_col5\" class=\"data row26 col5\" >0.08</td>\n",
       "                        <td id=\"T_7389b076_ec38_11eb_913e_dce5e656eb51row26_col6\" class=\"data row26 col6\" >98.61</td>\n",
       "                        <td id=\"T_7389b076_ec38_11eb_913e_dce5e656eb51row26_col7\" class=\"data row26 col7\" >1.31</td>\n",
       "            </tr>\n",
       "            <tr>\n",
       "                        <th id=\"T_7389b076_ec38_11eb_913e_dce5e656eb51level0_row27\" class=\"row_heading level0 row27\" >27</th>\n",
       "                        <td id=\"T_7389b076_ec38_11eb_913e_dce5e656eb51row27_col0\" class=\"data row27 col0\" >Meghalaya</td>\n",
       "                        <td id=\"T_7389b076_ec38_11eb_913e_dce5e656eb51row27_col1\" class=\"data row27 col1\" >57388</td>\n",
       "                        <td id=\"T_7389b076_ec38_11eb_913e_dce5e656eb51row27_col2\" class=\"data row27 col2\" >3979</td>\n",
       "                        <td id=\"T_7389b076_ec38_11eb_913e_dce5e656eb51row27_col3\" class=\"data row27 col3\" >52464</td>\n",
       "                        <td id=\"T_7389b076_ec38_11eb_913e_dce5e656eb51row27_col4\" class=\"data row27 col4\" >945</td>\n",
       "                        <td id=\"T_7389b076_ec38_11eb_913e_dce5e656eb51row27_col5\" class=\"data row27 col5\" >6.93</td>\n",
       "                        <td id=\"T_7389b076_ec38_11eb_913e_dce5e656eb51row27_col6\" class=\"data row27 col6\" >91.42</td>\n",
       "                        <td id=\"T_7389b076_ec38_11eb_913e_dce5e656eb51row27_col7\" class=\"data row27 col7\" >1.65</td>\n",
       "            </tr>\n",
       "            <tr>\n",
       "                        <th id=\"T_7389b076_ec38_11eb_913e_dce5e656eb51level0_row28\" class=\"row_heading level0 row28\" >28</th>\n",
       "                        <td id=\"T_7389b076_ec38_11eb_913e_dce5e656eb51row28_col0\" class=\"data row28 col0\" >Arunachal Pradesh</td>\n",
       "                        <td id=\"T_7389b076_ec38_11eb_913e_dce5e656eb51row28_col1\" class=\"data row28 col1\" >42820</td>\n",
       "                        <td id=\"T_7389b076_ec38_11eb_913e_dce5e656eb51row28_col2\" class=\"data row28 col2\" >4211</td>\n",
       "                        <td id=\"T_7389b076_ec38_11eb_913e_dce5e656eb51row28_col3\" class=\"data row28 col3\" >38407</td>\n",
       "                        <td id=\"T_7389b076_ec38_11eb_913e_dce5e656eb51row28_col4\" class=\"data row28 col4\" >202</td>\n",
       "                        <td id=\"T_7389b076_ec38_11eb_913e_dce5e656eb51row28_col5\" class=\"data row28 col5\" >9.83</td>\n",
       "                        <td id=\"T_7389b076_ec38_11eb_913e_dce5e656eb51row28_col6\" class=\"data row28 col6\" >89.69</td>\n",
       "                        <td id=\"T_7389b076_ec38_11eb_913e_dce5e656eb51row28_col7\" class=\"data row28 col7\" >0.47</td>\n",
       "            </tr>\n",
       "            <tr>\n",
       "                        <th id=\"T_7389b076_ec38_11eb_913e_dce5e656eb51level0_row29\" class=\"row_heading level0 row29\" >29</th>\n",
       "                        <td id=\"T_7389b076_ec38_11eb_913e_dce5e656eb51row29_col0\" class=\"data row29 col0\" >Mizoram</td>\n",
       "                        <td id=\"T_7389b076_ec38_11eb_913e_dce5e656eb51row29_col1\" class=\"data row29 col1\" >27488</td>\n",
       "                        <td id=\"T_7389b076_ec38_11eb_913e_dce5e656eb51row29_col2\" class=\"data row29 col2\" >6003</td>\n",
       "                        <td id=\"T_7389b076_ec38_11eb_913e_dce5e656eb51row29_col3\" class=\"data row29 col3\" >21363</td>\n",
       "                        <td id=\"T_7389b076_ec38_11eb_913e_dce5e656eb51row29_col4\" class=\"data row29 col4\" >122</td>\n",
       "                        <td id=\"T_7389b076_ec38_11eb_913e_dce5e656eb51row29_col5\" class=\"data row29 col5\" >21.84</td>\n",
       "                        <td id=\"T_7389b076_ec38_11eb_913e_dce5e656eb51row29_col6\" class=\"data row29 col6\" >77.72</td>\n",
       "                        <td id=\"T_7389b076_ec38_11eb_913e_dce5e656eb51row29_col7\" class=\"data row29 col7\" >0.44</td>\n",
       "            </tr>\n",
       "            <tr>\n",
       "                        <th id=\"T_7389b076_ec38_11eb_913e_dce5e656eb51level0_row30\" class=\"row_heading level0 row30\" >30</th>\n",
       "                        <td id=\"T_7389b076_ec38_11eb_913e_dce5e656eb51row30_col0\" class=\"data row30 col0\" >Nagaland</td>\n",
       "                        <td id=\"T_7389b076_ec38_11eb_913e_dce5e656eb51row30_col1\" class=\"data row30 col1\" >26682</td>\n",
       "                        <td id=\"T_7389b076_ec38_11eb_913e_dce5e656eb51row30_col2\" class=\"data row30 col2\" >1149</td>\n",
       "                        <td id=\"T_7389b076_ec38_11eb_913e_dce5e656eb51row30_col3\" class=\"data row30 col3\" >25005</td>\n",
       "                        <td id=\"T_7389b076_ec38_11eb_913e_dce5e656eb51row30_col4\" class=\"data row30 col4\" >528</td>\n",
       "                        <td id=\"T_7389b076_ec38_11eb_913e_dce5e656eb51row30_col5\" class=\"data row30 col5\" >4.31</td>\n",
       "                        <td id=\"T_7389b076_ec38_11eb_913e_dce5e656eb51row30_col6\" class=\"data row30 col6\" >93.71</td>\n",
       "                        <td id=\"T_7389b076_ec38_11eb_913e_dce5e656eb51row30_col7\" class=\"data row30 col7\" >1.98</td>\n",
       "            </tr>\n",
       "            <tr>\n",
       "                        <th id=\"T_7389b076_ec38_11eb_913e_dce5e656eb51level0_row31\" class=\"row_heading level0 row31\" >31</th>\n",
       "                        <td id=\"T_7389b076_ec38_11eb_913e_dce5e656eb51row31_col0\" class=\"data row31 col0\" >Sikkim</td>\n",
       "                        <td id=\"T_7389b076_ec38_11eb_913e_dce5e656eb51row31_col1\" class=\"data row31 col1\" >23392</td>\n",
       "                        <td id=\"T_7389b076_ec38_11eb_913e_dce5e656eb51row31_col2\" class=\"data row31 col2\" >2308</td>\n",
       "                        <td id=\"T_7389b076_ec38_11eb_913e_dce5e656eb51row31_col3\" class=\"data row31 col3\" >20760</td>\n",
       "                        <td id=\"T_7389b076_ec38_11eb_913e_dce5e656eb51row31_col4\" class=\"data row31 col4\" >324</td>\n",
       "                        <td id=\"T_7389b076_ec38_11eb_913e_dce5e656eb51row31_col5\" class=\"data row31 col5\" >9.87</td>\n",
       "                        <td id=\"T_7389b076_ec38_11eb_913e_dce5e656eb51row31_col6\" class=\"data row31 col6\" >88.75</td>\n",
       "                        <td id=\"T_7389b076_ec38_11eb_913e_dce5e656eb51row31_col7\" class=\"data row31 col7\" >1.39</td>\n",
       "            </tr>\n",
       "            <tr>\n",
       "                        <th id=\"T_7389b076_ec38_11eb_913e_dce5e656eb51level0_row32\" class=\"row_heading level0 row32\" >32</th>\n",
       "                        <td id=\"T_7389b076_ec38_11eb_913e_dce5e656eb51row32_col0\" class=\"data row32 col0\" >Ladakh</td>\n",
       "                        <td id=\"T_7389b076_ec38_11eb_913e_dce5e656eb51row32_col1\" class=\"data row32 col1\" >20257</td>\n",
       "                        <td id=\"T_7389b076_ec38_11eb_913e_dce5e656eb51row32_col2\" class=\"data row32 col2\" >103</td>\n",
       "                        <td id=\"T_7389b076_ec38_11eb_913e_dce5e656eb51row32_col3\" class=\"data row32 col3\" >19948</td>\n",
       "                        <td id=\"T_7389b076_ec38_11eb_913e_dce5e656eb51row32_col4\" class=\"data row32 col4\" >206</td>\n",
       "                        <td id=\"T_7389b076_ec38_11eb_913e_dce5e656eb51row32_col5\" class=\"data row32 col5\" >0.51</td>\n",
       "                        <td id=\"T_7389b076_ec38_11eb_913e_dce5e656eb51row32_col6\" class=\"data row32 col6\" >98.47</td>\n",
       "                        <td id=\"T_7389b076_ec38_11eb_913e_dce5e656eb51row32_col7\" class=\"data row32 col7\" >1.02</td>\n",
       "            </tr>\n",
       "            <tr>\n",
       "                        <th id=\"T_7389b076_ec38_11eb_913e_dce5e656eb51level0_row33\" class=\"row_heading level0 row33\" >33</th>\n",
       "                        <td id=\"T_7389b076_ec38_11eb_913e_dce5e656eb51row33_col0\" class=\"data row33 col0\" >Dadra and Nagar Haveli and Daman and Diu</td>\n",
       "                        <td id=\"T_7389b076_ec38_11eb_913e_dce5e656eb51row33_col1\" class=\"data row33 col1\" >10597</td>\n",
       "                        <td id=\"T_7389b076_ec38_11eb_913e_dce5e656eb51row33_col2\" class=\"data row33 col2\" >18</td>\n",
       "                        <td id=\"T_7389b076_ec38_11eb_913e_dce5e656eb51row33_col3\" class=\"data row33 col3\" >10575</td>\n",
       "                        <td id=\"T_7389b076_ec38_11eb_913e_dce5e656eb51row33_col4\" class=\"data row33 col4\" >4</td>\n",
       "                        <td id=\"T_7389b076_ec38_11eb_913e_dce5e656eb51row33_col5\" class=\"data row33 col5\" >0.17</td>\n",
       "                        <td id=\"T_7389b076_ec38_11eb_913e_dce5e656eb51row33_col6\" class=\"data row33 col6\" >99.79</td>\n",
       "                        <td id=\"T_7389b076_ec38_11eb_913e_dce5e656eb51row33_col7\" class=\"data row33 col7\" >0.04</td>\n",
       "            </tr>\n",
       "            <tr>\n",
       "                        <th id=\"T_7389b076_ec38_11eb_913e_dce5e656eb51level0_row34\" class=\"row_heading level0 row34\" >34</th>\n",
       "                        <td id=\"T_7389b076_ec38_11eb_913e_dce5e656eb51row34_col0\" class=\"data row34 col0\" >Lakshadweep</td>\n",
       "                        <td id=\"T_7389b076_ec38_11eb_913e_dce5e656eb51row34_col1\" class=\"data row34 col1\" >10064</td>\n",
       "                        <td id=\"T_7389b076_ec38_11eb_913e_dce5e656eb51row34_col2\" class=\"data row34 col2\" >68</td>\n",
       "                        <td id=\"T_7389b076_ec38_11eb_913e_dce5e656eb51row34_col3\" class=\"data row34 col3\" >9947</td>\n",
       "                        <td id=\"T_7389b076_ec38_11eb_913e_dce5e656eb51row34_col4\" class=\"data row34 col4\" >49</td>\n",
       "                        <td id=\"T_7389b076_ec38_11eb_913e_dce5e656eb51row34_col5\" class=\"data row34 col5\" >0.68</td>\n",
       "                        <td id=\"T_7389b076_ec38_11eb_913e_dce5e656eb51row34_col6\" class=\"data row34 col6\" >98.84</td>\n",
       "                        <td id=\"T_7389b076_ec38_11eb_913e_dce5e656eb51row34_col7\" class=\"data row34 col7\" >0.49</td>\n",
       "            </tr>\n",
       "            <tr>\n",
       "                        <th id=\"T_7389b076_ec38_11eb_913e_dce5e656eb51level0_row35\" class=\"row_heading level0 row35\" >35</th>\n",
       "                        <td id=\"T_7389b076_ec38_11eb_913e_dce5e656eb51row35_col0\" class=\"data row35 col0\" >Andaman and Nicobar</td>\n",
       "                        <td id=\"T_7389b076_ec38_11eb_913e_dce5e656eb51row35_col1\" class=\"data row35 col1\" >7510</td>\n",
       "                        <td id=\"T_7389b076_ec38_11eb_913e_dce5e656eb51row35_col2\" class=\"data row35 col2\" >16</td>\n",
       "                        <td id=\"T_7389b076_ec38_11eb_913e_dce5e656eb51row35_col3\" class=\"data row35 col3\" >7365</td>\n",
       "                        <td id=\"T_7389b076_ec38_11eb_913e_dce5e656eb51row35_col4\" class=\"data row35 col4\" >129</td>\n",
       "                        <td id=\"T_7389b076_ec38_11eb_913e_dce5e656eb51row35_col5\" class=\"data row35 col5\" >0.21</td>\n",
       "                        <td id=\"T_7389b076_ec38_11eb_913e_dce5e656eb51row35_col6\" class=\"data row35 col6\" >98.07</td>\n",
       "                        <td id=\"T_7389b076_ec38_11eb_913e_dce5e656eb51row35_col7\" class=\"data row35 col7\" >1.72</td>\n",
       "            </tr>\n",
       "    </tbody></table>"
      ],
      "text/plain": [
       "<pandas.io.formats.style.Styler at 0x2096afa0748>"
      ]
     },
     "execution_count": 6,
     "metadata": {},
     "output_type": "execute_result"
    }
   ],
   "source": [
    "df.style.background_gradient(cmap='Reds')"
   ]
  },
  {
   "cell_type": "code",
   "execution_count": 7,
   "metadata": {},
   "outputs": [],
   "source": [
    "Total_Active_Cases=df.groupby('State/UTs')['Total Cases'].sum().sort_values(ascending=False).to_frame()"
   ]
  },
  {
   "cell_type": "code",
   "execution_count": 8,
   "metadata": {},
   "outputs": [
    {
     "data": {
      "text/html": [
       "<div>\n",
       "<style scoped>\n",
       "    .dataframe tbody tr th:only-of-type {\n",
       "        vertical-align: middle;\n",
       "    }\n",
       "\n",
       "    .dataframe tbody tr th {\n",
       "        vertical-align: top;\n",
       "    }\n",
       "\n",
       "    .dataframe thead th {\n",
       "        text-align: right;\n",
       "    }\n",
       "</style>\n",
       "<table border=\"1\" class=\"dataframe\">\n",
       "  <thead>\n",
       "    <tr style=\"text-align: right;\">\n",
       "      <th></th>\n",
       "      <th>Total Cases</th>\n",
       "    </tr>\n",
       "    <tr>\n",
       "      <th>State/UTs</th>\n",
       "      <th></th>\n",
       "    </tr>\n",
       "  </thead>\n",
       "  <tbody>\n",
       "    <tr>\n",
       "      <td>Maharashtra</td>\n",
       "      <td>6214190</td>\n",
       "    </tr>\n",
       "    <tr>\n",
       "      <td>Kerala</td>\n",
       "      <td>3160937</td>\n",
       "    </tr>\n",
       "    <tr>\n",
       "      <td>Karnataka</td>\n",
       "      <td>2883947</td>\n",
       "    </tr>\n",
       "    <tr>\n",
       "      <td>Tamil Nadu</td>\n",
       "      <td>2535402</td>\n",
       "    </tr>\n",
       "    <tr>\n",
       "      <td>Andhra Pradesh</td>\n",
       "      <td>1940096</td>\n",
       "    </tr>\n",
       "    <tr>\n",
       "      <td>Uttar Pradesh</td>\n",
       "      <td>1707847</td>\n",
       "    </tr>\n",
       "    <tr>\n",
       "      <td>West Bengal</td>\n",
       "      <td>1518181</td>\n",
       "    </tr>\n",
       "    <tr>\n",
       "      <td>Delhi</td>\n",
       "      <td>1435529</td>\n",
       "    </tr>\n",
       "    <tr>\n",
       "      <td>Chhattisgarh</td>\n",
       "      <td>999853</td>\n",
       "    </tr>\n",
       "    <tr>\n",
       "      <td>Odisha</td>\n",
       "      <td>954326</td>\n",
       "    </tr>\n",
       "    <tr>\n",
       "      <td>Rajasthan</td>\n",
       "      <td>953360</td>\n",
       "    </tr>\n",
       "    <tr>\n",
       "      <td>Gujarat</td>\n",
       "      <td>824497</td>\n",
       "    </tr>\n",
       "    <tr>\n",
       "      <td>Madhya Pradesh</td>\n",
       "      <td>791658</td>\n",
       "    </tr>\n",
       "    <tr>\n",
       "      <td>Haryana</td>\n",
       "      <td>769539</td>\n",
       "    </tr>\n",
       "    <tr>\n",
       "      <td>Bihar</td>\n",
       "      <td>723945</td>\n",
       "    </tr>\n",
       "    <tr>\n",
       "      <td>Telengana</td>\n",
       "      <td>636627</td>\n",
       "    </tr>\n",
       "    <tr>\n",
       "      <td>Punjab</td>\n",
       "      <td>598334</td>\n",
       "    </tr>\n",
       "    <tr>\n",
       "      <td>Assam</td>\n",
       "      <td>547283</td>\n",
       "    </tr>\n",
       "    <tr>\n",
       "      <td>Jharkhand</td>\n",
       "      <td>346681</td>\n",
       "    </tr>\n",
       "    <tr>\n",
       "      <td>Uttarakhand</td>\n",
       "      <td>341452</td>\n",
       "    </tr>\n",
       "    <tr>\n",
       "      <td>Jammu and Kashmir</td>\n",
       "      <td>319901</td>\n",
       "    </tr>\n",
       "    <tr>\n",
       "      <td>Himachal Pradesh</td>\n",
       "      <td>204391</td>\n",
       "    </tr>\n",
       "    <tr>\n",
       "      <td>Goa</td>\n",
       "      <td>169740</td>\n",
       "    </tr>\n",
       "    <tr>\n",
       "      <td>Puducherry</td>\n",
       "      <td>119703</td>\n",
       "    </tr>\n",
       "    <tr>\n",
       "      <td>Manipur</td>\n",
       "      <td>84822</td>\n",
       "    </tr>\n",
       "    <tr>\n",
       "      <td>Tripura</td>\n",
       "      <td>73901</td>\n",
       "    </tr>\n",
       "    <tr>\n",
       "      <td>Chandigarh</td>\n",
       "      <td>61889</td>\n",
       "    </tr>\n",
       "    <tr>\n",
       "      <td>Meghalaya</td>\n",
       "      <td>57388</td>\n",
       "    </tr>\n",
       "    <tr>\n",
       "      <td>Arunachal Pradesh</td>\n",
       "      <td>42820</td>\n",
       "    </tr>\n",
       "    <tr>\n",
       "      <td>Mizoram</td>\n",
       "      <td>27488</td>\n",
       "    </tr>\n",
       "    <tr>\n",
       "      <td>Nagaland</td>\n",
       "      <td>26682</td>\n",
       "    </tr>\n",
       "    <tr>\n",
       "      <td>Sikkim</td>\n",
       "      <td>23392</td>\n",
       "    </tr>\n",
       "    <tr>\n",
       "      <td>Ladakh</td>\n",
       "      <td>20257</td>\n",
       "    </tr>\n",
       "    <tr>\n",
       "      <td>Dadra and Nagar Haveli and Daman and Diu</td>\n",
       "      <td>10597</td>\n",
       "    </tr>\n",
       "    <tr>\n",
       "      <td>Lakshadweep</td>\n",
       "      <td>10064</td>\n",
       "    </tr>\n",
       "    <tr>\n",
       "      <td>Andaman and Nicobar</td>\n",
       "      <td>7510</td>\n",
       "    </tr>\n",
       "  </tbody>\n",
       "</table>\n",
       "</div>"
      ],
      "text/plain": [
       "                                          Total Cases\n",
       "State/UTs                                            \n",
       "Maharashtra                                   6214190\n",
       "Kerala                                        3160937\n",
       "Karnataka                                     2883947\n",
       "Tamil Nadu                                    2535402\n",
       "Andhra Pradesh                                1940096\n",
       "Uttar Pradesh                                 1707847\n",
       "West Bengal                                   1518181\n",
       "Delhi                                         1435529\n",
       "Chhattisgarh                                   999853\n",
       "Odisha                                         954326\n",
       "Rajasthan                                      953360\n",
       "Gujarat                                        824497\n",
       "Madhya Pradesh                                 791658\n",
       "Haryana                                        769539\n",
       "Bihar                                          723945\n",
       "Telengana                                      636627\n",
       "Punjab                                         598334\n",
       "Assam                                          547283\n",
       "Jharkhand                                      346681\n",
       "Uttarakhand                                    341452\n",
       "Jammu and Kashmir                              319901\n",
       "Himachal Pradesh                               204391\n",
       "Goa                                            169740\n",
       "Puducherry                                     119703\n",
       "Manipur                                         84822\n",
       "Tripura                                         73901\n",
       "Chandigarh                                      61889\n",
       "Meghalaya                                       57388\n",
       "Arunachal Pradesh                               42820\n",
       "Mizoram                                         27488\n",
       "Nagaland                                        26682\n",
       "Sikkim                                          23392\n",
       "Ladakh                                          20257\n",
       "Dadra and Nagar Haveli and Daman and Diu        10597\n",
       "Lakshadweep                                     10064\n",
       "Andaman and Nicobar                              7510"
      ]
     },
     "execution_count": 8,
     "metadata": {},
     "output_type": "execute_result"
    }
   ],
   "source": [
    "Total_Active_Cases"
   ]
  },
  {
   "cell_type": "code",
   "execution_count": 12,
   "metadata": {},
   "outputs": [
    {
     "data": {
      "text/html": [
       "<style  type=\"text/css\" >\n",
       "    #T_13936fa8_ec39_11eb_9168_dce5e656eb51row0_col0 {\n",
       "            background-color:  #67000d;\n",
       "            color:  #f1f1f1;\n",
       "        }    #T_13936fa8_ec39_11eb_9168_dce5e656eb51row1_col0 {\n",
       "            background-color:  #fa6648;\n",
       "            color:  #000000;\n",
       "        }    #T_13936fa8_ec39_11eb_9168_dce5e656eb51row2_col0 {\n",
       "            background-color:  #fb7656;\n",
       "            color:  #000000;\n",
       "        }    #T_13936fa8_ec39_11eb_9168_dce5e656eb51row3_col0 {\n",
       "            background-color:  #fc8767;\n",
       "            color:  #000000;\n",
       "        }    #T_13936fa8_ec39_11eb_9168_dce5e656eb51row4_col0 {\n",
       "            background-color:  #fca78b;\n",
       "            color:  #000000;\n",
       "        }    #T_13936fa8_ec39_11eb_9168_dce5e656eb51row5_col0 {\n",
       "            background-color:  #fcb398;\n",
       "            color:  #000000;\n",
       "        }    #T_13936fa8_ec39_11eb_9168_dce5e656eb51row6_col0 {\n",
       "            background-color:  #fcbda4;\n",
       "            color:  #000000;\n",
       "        }    #T_13936fa8_ec39_11eb_9168_dce5e656eb51row7_col0 {\n",
       "            background-color:  #fcc2aa;\n",
       "            color:  #000000;\n",
       "        }    #T_13936fa8_ec39_11eb_9168_dce5e656eb51row8_col0 {\n",
       "            background-color:  #fdd7c6;\n",
       "            color:  #000000;\n",
       "        }    #T_13936fa8_ec39_11eb_9168_dce5e656eb51row9_col0 {\n",
       "            background-color:  #fed8c7;\n",
       "            color:  #000000;\n",
       "        }    #T_13936fa8_ec39_11eb_9168_dce5e656eb51row10_col0 {\n",
       "            background-color:  #fed8c7;\n",
       "            color:  #000000;\n",
       "        }    #T_13936fa8_ec39_11eb_9168_dce5e656eb51row11_col0 {\n",
       "            background-color:  #fedfd0;\n",
       "            color:  #000000;\n",
       "        }    #T_13936fa8_ec39_11eb_9168_dce5e656eb51row12_col0 {\n",
       "            background-color:  #fee0d2;\n",
       "            color:  #000000;\n",
       "        }    #T_13936fa8_ec39_11eb_9168_dce5e656eb51row13_col0 {\n",
       "            background-color:  #fee1d3;\n",
       "            color:  #000000;\n",
       "        }    #T_13936fa8_ec39_11eb_9168_dce5e656eb51row14_col0 {\n",
       "            background-color:  #fee2d5;\n",
       "            color:  #000000;\n",
       "        }    #T_13936fa8_ec39_11eb_9168_dce5e656eb51row15_col0 {\n",
       "            background-color:  #fee5d8;\n",
       "            color:  #000000;\n",
       "        }    #T_13936fa8_ec39_11eb_9168_dce5e656eb51row16_col0 {\n",
       "            background-color:  #fee5d9;\n",
       "            color:  #000000;\n",
       "        }    #T_13936fa8_ec39_11eb_9168_dce5e656eb51row17_col0 {\n",
       "            background-color:  #fee7db;\n",
       "            color:  #000000;\n",
       "        }    #T_13936fa8_ec39_11eb_9168_dce5e656eb51row18_col0 {\n",
       "            background-color:  #ffece4;\n",
       "            color:  #000000;\n",
       "        }    #T_13936fa8_ec39_11eb_9168_dce5e656eb51row19_col0 {\n",
       "            background-color:  #ffece4;\n",
       "            color:  #000000;\n",
       "        }    #T_13936fa8_ec39_11eb_9168_dce5e656eb51row20_col0 {\n",
       "            background-color:  #ffede5;\n",
       "            color:  #000000;\n",
       "        }    #T_13936fa8_ec39_11eb_9168_dce5e656eb51row21_col0 {\n",
       "            background-color:  #fff0e8;\n",
       "            color:  #000000;\n",
       "        }    #T_13936fa8_ec39_11eb_9168_dce5e656eb51row22_col0 {\n",
       "            background-color:  #fff1ea;\n",
       "            color:  #000000;\n",
       "        }    #T_13936fa8_ec39_11eb_9168_dce5e656eb51row23_col0 {\n",
       "            background-color:  #fff2ec;\n",
       "            color:  #000000;\n",
       "        }    #T_13936fa8_ec39_11eb_9168_dce5e656eb51row24_col0 {\n",
       "            background-color:  #fff3ed;\n",
       "            color:  #000000;\n",
       "        }    #T_13936fa8_ec39_11eb_9168_dce5e656eb51row25_col0 {\n",
       "            background-color:  #fff4ee;\n",
       "            color:  #000000;\n",
       "        }    #T_13936fa8_ec39_11eb_9168_dce5e656eb51row26_col0 {\n",
       "            background-color:  #fff4ee;\n",
       "            color:  #000000;\n",
       "        }    #T_13936fa8_ec39_11eb_9168_dce5e656eb51row27_col0 {\n",
       "            background-color:  #fff4ee;\n",
       "            color:  #000000;\n",
       "        }    #T_13936fa8_ec39_11eb_9168_dce5e656eb51row28_col0 {\n",
       "            background-color:  #fff4ef;\n",
       "            color:  #000000;\n",
       "        }    #T_13936fa8_ec39_11eb_9168_dce5e656eb51row29_col0 {\n",
       "            background-color:  #fff5f0;\n",
       "            color:  #000000;\n",
       "        }    #T_13936fa8_ec39_11eb_9168_dce5e656eb51row30_col0 {\n",
       "            background-color:  #fff5f0;\n",
       "            color:  #000000;\n",
       "        }    #T_13936fa8_ec39_11eb_9168_dce5e656eb51row31_col0 {\n",
       "            background-color:  #fff5f0;\n",
       "            color:  #000000;\n",
       "        }    #T_13936fa8_ec39_11eb_9168_dce5e656eb51row32_col0 {\n",
       "            background-color:  #fff5f0;\n",
       "            color:  #000000;\n",
       "        }    #T_13936fa8_ec39_11eb_9168_dce5e656eb51row33_col0 {\n",
       "            background-color:  #fff5f0;\n",
       "            color:  #000000;\n",
       "        }    #T_13936fa8_ec39_11eb_9168_dce5e656eb51row34_col0 {\n",
       "            background-color:  #fff5f0;\n",
       "            color:  #000000;\n",
       "        }    #T_13936fa8_ec39_11eb_9168_dce5e656eb51row35_col0 {\n",
       "            background-color:  #fff5f0;\n",
       "            color:  #000000;\n",
       "        }</style><table id=\"T_13936fa8_ec39_11eb_9168_dce5e656eb51\" ><thead>    <tr>        <th class=\"blank level0\" ></th>        <th class=\"col_heading level0 col0\" >Total Cases</th>    </tr>    <tr>        <th class=\"index_name level0\" >State/UTs</th>        <th class=\"blank\" ></th>    </tr></thead><tbody>\n",
       "                <tr>\n",
       "                        <th id=\"T_13936fa8_ec39_11eb_9168_dce5e656eb51level0_row0\" class=\"row_heading level0 row0\" >Maharashtra</th>\n",
       "                        <td id=\"T_13936fa8_ec39_11eb_9168_dce5e656eb51row0_col0\" class=\"data row0 col0\" >6214190</td>\n",
       "            </tr>\n",
       "            <tr>\n",
       "                        <th id=\"T_13936fa8_ec39_11eb_9168_dce5e656eb51level0_row1\" class=\"row_heading level0 row1\" >Kerala</th>\n",
       "                        <td id=\"T_13936fa8_ec39_11eb_9168_dce5e656eb51row1_col0\" class=\"data row1 col0\" >3160937</td>\n",
       "            </tr>\n",
       "            <tr>\n",
       "                        <th id=\"T_13936fa8_ec39_11eb_9168_dce5e656eb51level0_row2\" class=\"row_heading level0 row2\" >Karnataka</th>\n",
       "                        <td id=\"T_13936fa8_ec39_11eb_9168_dce5e656eb51row2_col0\" class=\"data row2 col0\" >2883947</td>\n",
       "            </tr>\n",
       "            <tr>\n",
       "                        <th id=\"T_13936fa8_ec39_11eb_9168_dce5e656eb51level0_row3\" class=\"row_heading level0 row3\" >Tamil Nadu</th>\n",
       "                        <td id=\"T_13936fa8_ec39_11eb_9168_dce5e656eb51row3_col0\" class=\"data row3 col0\" >2535402</td>\n",
       "            </tr>\n",
       "            <tr>\n",
       "                        <th id=\"T_13936fa8_ec39_11eb_9168_dce5e656eb51level0_row4\" class=\"row_heading level0 row4\" >Andhra Pradesh</th>\n",
       "                        <td id=\"T_13936fa8_ec39_11eb_9168_dce5e656eb51row4_col0\" class=\"data row4 col0\" >1940096</td>\n",
       "            </tr>\n",
       "            <tr>\n",
       "                        <th id=\"T_13936fa8_ec39_11eb_9168_dce5e656eb51level0_row5\" class=\"row_heading level0 row5\" >Uttar Pradesh</th>\n",
       "                        <td id=\"T_13936fa8_ec39_11eb_9168_dce5e656eb51row5_col0\" class=\"data row5 col0\" >1707847</td>\n",
       "            </tr>\n",
       "            <tr>\n",
       "                        <th id=\"T_13936fa8_ec39_11eb_9168_dce5e656eb51level0_row6\" class=\"row_heading level0 row6\" >West Bengal</th>\n",
       "                        <td id=\"T_13936fa8_ec39_11eb_9168_dce5e656eb51row6_col0\" class=\"data row6 col0\" >1518181</td>\n",
       "            </tr>\n",
       "            <tr>\n",
       "                        <th id=\"T_13936fa8_ec39_11eb_9168_dce5e656eb51level0_row7\" class=\"row_heading level0 row7\" >Delhi</th>\n",
       "                        <td id=\"T_13936fa8_ec39_11eb_9168_dce5e656eb51row7_col0\" class=\"data row7 col0\" >1435529</td>\n",
       "            </tr>\n",
       "            <tr>\n",
       "                        <th id=\"T_13936fa8_ec39_11eb_9168_dce5e656eb51level0_row8\" class=\"row_heading level0 row8\" >Chhattisgarh</th>\n",
       "                        <td id=\"T_13936fa8_ec39_11eb_9168_dce5e656eb51row8_col0\" class=\"data row8 col0\" >999853</td>\n",
       "            </tr>\n",
       "            <tr>\n",
       "                        <th id=\"T_13936fa8_ec39_11eb_9168_dce5e656eb51level0_row9\" class=\"row_heading level0 row9\" >Odisha</th>\n",
       "                        <td id=\"T_13936fa8_ec39_11eb_9168_dce5e656eb51row9_col0\" class=\"data row9 col0\" >954326</td>\n",
       "            </tr>\n",
       "            <tr>\n",
       "                        <th id=\"T_13936fa8_ec39_11eb_9168_dce5e656eb51level0_row10\" class=\"row_heading level0 row10\" >Rajasthan</th>\n",
       "                        <td id=\"T_13936fa8_ec39_11eb_9168_dce5e656eb51row10_col0\" class=\"data row10 col0\" >953360</td>\n",
       "            </tr>\n",
       "            <tr>\n",
       "                        <th id=\"T_13936fa8_ec39_11eb_9168_dce5e656eb51level0_row11\" class=\"row_heading level0 row11\" >Gujarat</th>\n",
       "                        <td id=\"T_13936fa8_ec39_11eb_9168_dce5e656eb51row11_col0\" class=\"data row11 col0\" >824497</td>\n",
       "            </tr>\n",
       "            <tr>\n",
       "                        <th id=\"T_13936fa8_ec39_11eb_9168_dce5e656eb51level0_row12\" class=\"row_heading level0 row12\" >Madhya Pradesh</th>\n",
       "                        <td id=\"T_13936fa8_ec39_11eb_9168_dce5e656eb51row12_col0\" class=\"data row12 col0\" >791658</td>\n",
       "            </tr>\n",
       "            <tr>\n",
       "                        <th id=\"T_13936fa8_ec39_11eb_9168_dce5e656eb51level0_row13\" class=\"row_heading level0 row13\" >Haryana</th>\n",
       "                        <td id=\"T_13936fa8_ec39_11eb_9168_dce5e656eb51row13_col0\" class=\"data row13 col0\" >769539</td>\n",
       "            </tr>\n",
       "            <tr>\n",
       "                        <th id=\"T_13936fa8_ec39_11eb_9168_dce5e656eb51level0_row14\" class=\"row_heading level0 row14\" >Bihar</th>\n",
       "                        <td id=\"T_13936fa8_ec39_11eb_9168_dce5e656eb51row14_col0\" class=\"data row14 col0\" >723945</td>\n",
       "            </tr>\n",
       "            <tr>\n",
       "                        <th id=\"T_13936fa8_ec39_11eb_9168_dce5e656eb51level0_row15\" class=\"row_heading level0 row15\" >Telengana</th>\n",
       "                        <td id=\"T_13936fa8_ec39_11eb_9168_dce5e656eb51row15_col0\" class=\"data row15 col0\" >636627</td>\n",
       "            </tr>\n",
       "            <tr>\n",
       "                        <th id=\"T_13936fa8_ec39_11eb_9168_dce5e656eb51level0_row16\" class=\"row_heading level0 row16\" >Punjab</th>\n",
       "                        <td id=\"T_13936fa8_ec39_11eb_9168_dce5e656eb51row16_col0\" class=\"data row16 col0\" >598334</td>\n",
       "            </tr>\n",
       "            <tr>\n",
       "                        <th id=\"T_13936fa8_ec39_11eb_9168_dce5e656eb51level0_row17\" class=\"row_heading level0 row17\" >Assam</th>\n",
       "                        <td id=\"T_13936fa8_ec39_11eb_9168_dce5e656eb51row17_col0\" class=\"data row17 col0\" >547283</td>\n",
       "            </tr>\n",
       "            <tr>\n",
       "                        <th id=\"T_13936fa8_ec39_11eb_9168_dce5e656eb51level0_row18\" class=\"row_heading level0 row18\" >Jharkhand</th>\n",
       "                        <td id=\"T_13936fa8_ec39_11eb_9168_dce5e656eb51row18_col0\" class=\"data row18 col0\" >346681</td>\n",
       "            </tr>\n",
       "            <tr>\n",
       "                        <th id=\"T_13936fa8_ec39_11eb_9168_dce5e656eb51level0_row19\" class=\"row_heading level0 row19\" >Uttarakhand</th>\n",
       "                        <td id=\"T_13936fa8_ec39_11eb_9168_dce5e656eb51row19_col0\" class=\"data row19 col0\" >341452</td>\n",
       "            </tr>\n",
       "            <tr>\n",
       "                        <th id=\"T_13936fa8_ec39_11eb_9168_dce5e656eb51level0_row20\" class=\"row_heading level0 row20\" >Jammu and Kashmir</th>\n",
       "                        <td id=\"T_13936fa8_ec39_11eb_9168_dce5e656eb51row20_col0\" class=\"data row20 col0\" >319901</td>\n",
       "            </tr>\n",
       "            <tr>\n",
       "                        <th id=\"T_13936fa8_ec39_11eb_9168_dce5e656eb51level0_row21\" class=\"row_heading level0 row21\" >Himachal Pradesh</th>\n",
       "                        <td id=\"T_13936fa8_ec39_11eb_9168_dce5e656eb51row21_col0\" class=\"data row21 col0\" >204391</td>\n",
       "            </tr>\n",
       "            <tr>\n",
       "                        <th id=\"T_13936fa8_ec39_11eb_9168_dce5e656eb51level0_row22\" class=\"row_heading level0 row22\" >Goa</th>\n",
       "                        <td id=\"T_13936fa8_ec39_11eb_9168_dce5e656eb51row22_col0\" class=\"data row22 col0\" >169740</td>\n",
       "            </tr>\n",
       "            <tr>\n",
       "                        <th id=\"T_13936fa8_ec39_11eb_9168_dce5e656eb51level0_row23\" class=\"row_heading level0 row23\" >Puducherry</th>\n",
       "                        <td id=\"T_13936fa8_ec39_11eb_9168_dce5e656eb51row23_col0\" class=\"data row23 col0\" >119703</td>\n",
       "            </tr>\n",
       "            <tr>\n",
       "                        <th id=\"T_13936fa8_ec39_11eb_9168_dce5e656eb51level0_row24\" class=\"row_heading level0 row24\" >Manipur</th>\n",
       "                        <td id=\"T_13936fa8_ec39_11eb_9168_dce5e656eb51row24_col0\" class=\"data row24 col0\" >84822</td>\n",
       "            </tr>\n",
       "            <tr>\n",
       "                        <th id=\"T_13936fa8_ec39_11eb_9168_dce5e656eb51level0_row25\" class=\"row_heading level0 row25\" >Tripura</th>\n",
       "                        <td id=\"T_13936fa8_ec39_11eb_9168_dce5e656eb51row25_col0\" class=\"data row25 col0\" >73901</td>\n",
       "            </tr>\n",
       "            <tr>\n",
       "                        <th id=\"T_13936fa8_ec39_11eb_9168_dce5e656eb51level0_row26\" class=\"row_heading level0 row26\" >Chandigarh</th>\n",
       "                        <td id=\"T_13936fa8_ec39_11eb_9168_dce5e656eb51row26_col0\" class=\"data row26 col0\" >61889</td>\n",
       "            </tr>\n",
       "            <tr>\n",
       "                        <th id=\"T_13936fa8_ec39_11eb_9168_dce5e656eb51level0_row27\" class=\"row_heading level0 row27\" >Meghalaya</th>\n",
       "                        <td id=\"T_13936fa8_ec39_11eb_9168_dce5e656eb51row27_col0\" class=\"data row27 col0\" >57388</td>\n",
       "            </tr>\n",
       "            <tr>\n",
       "                        <th id=\"T_13936fa8_ec39_11eb_9168_dce5e656eb51level0_row28\" class=\"row_heading level0 row28\" >Arunachal Pradesh</th>\n",
       "                        <td id=\"T_13936fa8_ec39_11eb_9168_dce5e656eb51row28_col0\" class=\"data row28 col0\" >42820</td>\n",
       "            </tr>\n",
       "            <tr>\n",
       "                        <th id=\"T_13936fa8_ec39_11eb_9168_dce5e656eb51level0_row29\" class=\"row_heading level0 row29\" >Mizoram</th>\n",
       "                        <td id=\"T_13936fa8_ec39_11eb_9168_dce5e656eb51row29_col0\" class=\"data row29 col0\" >27488</td>\n",
       "            </tr>\n",
       "            <tr>\n",
       "                        <th id=\"T_13936fa8_ec39_11eb_9168_dce5e656eb51level0_row30\" class=\"row_heading level0 row30\" >Nagaland</th>\n",
       "                        <td id=\"T_13936fa8_ec39_11eb_9168_dce5e656eb51row30_col0\" class=\"data row30 col0\" >26682</td>\n",
       "            </tr>\n",
       "            <tr>\n",
       "                        <th id=\"T_13936fa8_ec39_11eb_9168_dce5e656eb51level0_row31\" class=\"row_heading level0 row31\" >Sikkim</th>\n",
       "                        <td id=\"T_13936fa8_ec39_11eb_9168_dce5e656eb51row31_col0\" class=\"data row31 col0\" >23392</td>\n",
       "            </tr>\n",
       "            <tr>\n",
       "                        <th id=\"T_13936fa8_ec39_11eb_9168_dce5e656eb51level0_row32\" class=\"row_heading level0 row32\" >Ladakh</th>\n",
       "                        <td id=\"T_13936fa8_ec39_11eb_9168_dce5e656eb51row32_col0\" class=\"data row32 col0\" >20257</td>\n",
       "            </tr>\n",
       "            <tr>\n",
       "                        <th id=\"T_13936fa8_ec39_11eb_9168_dce5e656eb51level0_row33\" class=\"row_heading level0 row33\" >Dadra and Nagar Haveli and Daman and Diu</th>\n",
       "                        <td id=\"T_13936fa8_ec39_11eb_9168_dce5e656eb51row33_col0\" class=\"data row33 col0\" >10597</td>\n",
       "            </tr>\n",
       "            <tr>\n",
       "                        <th id=\"T_13936fa8_ec39_11eb_9168_dce5e656eb51level0_row34\" class=\"row_heading level0 row34\" >Lakshadweep</th>\n",
       "                        <td id=\"T_13936fa8_ec39_11eb_9168_dce5e656eb51row34_col0\" class=\"data row34 col0\" >10064</td>\n",
       "            </tr>\n",
       "            <tr>\n",
       "                        <th id=\"T_13936fa8_ec39_11eb_9168_dce5e656eb51level0_row35\" class=\"row_heading level0 row35\" >Andaman and Nicobar</th>\n",
       "                        <td id=\"T_13936fa8_ec39_11eb_9168_dce5e656eb51row35_col0\" class=\"data row35 col0\" >7510</td>\n",
       "            </tr>\n",
       "    </tbody></table>"
      ],
      "text/plain": [
       "<pandas.io.formats.style.Styler at 0x2096c345cc8>"
      ]
     },
     "execution_count": 12,
     "metadata": {},
     "output_type": "execute_result"
    }
   ],
   "source": [
    "Total_Active_Cases.style.background_gradient(cmap='Reds')"
   ]
  },
  {
   "cell_type": "markdown",
   "metadata": {},
   "source": [
    "# Graphical visuals"
   ]
  },
  {
   "cell_type": "code",
   "execution_count": 33,
   "metadata": {},
   "outputs": [
    {
     "data": {
      "image/png": "[encoded data removed]",
      "text/plain": [
       "<Figure size 432x288 with 1 Axes>"
      ]
     },
     "metadata": {},
     "output_type": "display_data"
    }
   ],
   "source": [
    "plt.pie(df['Deaths'],labels=df['State/UTs'])\n",
    "plt.show()"
   ]
  },
  {
   "cell_type": "code",
   "execution_count": 34,
   "metadata": {},
   "outputs": [
    {
     "data": {
      "image/png": "[encoded data removed]",
      "text/plain": [
       "<Figure size 432x288 with 1 Axes>"
      ]
     },
     "metadata": {
      "needs_background": "light"
     },
     "output_type": "display_data"
    },
    {
     "data": {
      "application/vnd.plotly.v1+json": {
       "config": {
        "linkText": "Export to plot.ly",
        "plotlyServerURL": "https://plot.ly",
        "showLink": true
       },
       "data": [
        {
         "marker": {
          "color": "rgba(255, 153, 51, 0.6)",
          "line": {
           "color": "rgba(255, 153, 51, 1.0)",
           "width": 1
          }
         },
         "name": "Total Cases",
         "orientation": "v",
         "text": "",
         "type": "bar",
         "x": [
          "Maharashtra",
          "Kerala",
          "Karnataka",
          "Tamil Nadu",
          "Andhra Pradesh",
          "Uttar Pradesh",
          "West Bengal",
          "Delhi",
          "Chhattisgarh",
          "Odisha",
          "Rajasthan",
          "Gujarat",
          "Madhya Pradesh",
          "Haryana",
          "Bihar",
          "Telengana",
          "Punjab",
          "Assam",
          "Jharkhand",
          "Uttarakhand",
          "Jammu and Kashmir",
          "Himachal Pradesh",
          "Goa",
          "Puducherry",
          "Manipur",
          "Tripura",
          "Chandigarh",
          "Meghalaya",
          "Arunachal Pradesh",
          "Mizoram",
          "Nagaland",
          "Sikkim",
          "Ladakh",
          "Dadra and Nagar Haveli and Daman and Diu",
          "Lakshadweep",
          "Andaman and Nicobar"
         ],
         "y": [
          6214190,
          3160937,
          2883947,
          2535402,
          1940096,
          1707847,
          1518181,
          1435529,
          999853,
          954326,
          953360,
          824497,
          791658,
          769539,
          723945,
          636627,
          598334,
          547283,
          346681,
          341452,
          319901,
          204391,
          169740,
          119703,
          84822,
          73901,
          61889,
          57388,
          42820,
          27488,
          26682,
          23392,
          20257,
          10597,
          10064,
          7510
         ]
        }
       ],
       "layout": {
        "legend": {
         "bgcolor": "#F5F6F9",
         "font": {
          "color": "#4D5663"
         }
        },
        "paper_bgcolor": "#F5F6F9",
        "plot_bgcolor": "#F5F6F9",
        "template": {
         "data": {
          "bar": [
           {
            "error_x": {
             "color": "#2a3f5f"
            },
            "error_y": {
             "color": "#2a3f5f"
            },
            "marker": {
             "line": {
              "color": "#E5ECF6",
              "width": 0.5
             },
             "pattern": {
              "fillmode": "overlay",
              "size": 10,
              "solidity": 0.2
             }
            },
            "type": "bar"
           }
          ],
          "barpolar": [
           {
            "marker": {
             "line": {
              "color": "#E5ECF6",
              "width": 0.5
             },
             "pattern": {
              "fillmode": "overlay",
              "size": 10,
              "solidity": 0.2
             }
            },
            "type": "barpolar"
           }
          ],
          "carpet": [
           {
            "aaxis": {
             "endlinecolor": "#2a3f5f",
             "gridcolor": "white",
             "linecolor": "white",
             "minorgridcolor": "white",
             "startlinecolor": "#2a3f5f"
            },
            "baxis": {
             "endlinecolor": "#2a3f5f",
             "gridcolor": "white",
             "linecolor": "white",
             "minorgridcolor": "white",
             "startlinecolor": "#2a3f5f"
            },
            "type": "carpet"
           }
          ],
          "choropleth": [
           {
            "colorbar": {
             "outlinewidth": 0,
             "ticks": ""
            },
            "type": "choropleth"
           }
          ],
          "contour": [
           {
            "colorbar": {
             "outlinewidth": 0,
             "ticks": ""
            },
            "colorscale": [
             [
              0,
              "#0d0887"
             ],
             [
              0.1111111111111111,
              "#46039f"
             ],
             [
              0.2222222222222222,
              "#7201a8"
             ],
             [
              0.3333333333333333,
              "#9c179e"
             ],
             [
              0.4444444444444444,
              "#bd3786"
             ],
             [
              0.5555555555555556,
              "#d8576b"
             ],
             [
              0.6666666666666666,
              "#ed7953"
             ],
             [
              0.7777777777777778,
              "#fb9f3a"
             ],
             [
              0.8888888888888888,
              "#fdca26"
             ],
             [
              1,
              "#f0f921"
             ]
            ],
            "type": "contour"
           }
          ],
          "contourcarpet": [
           {
            "colorbar": {
             "outlinewidth": 0,
             "ticks": ""
            },
            "type": "contourcarpet"
           }
          ],
          "heatmap": [
           {
            "colorbar": {
             "outlinewidth": 0,
             "ticks": ""
            },
            "colorscale": [
             [
              0,
              "#0d0887"
             ],
             [
              0.1111111111111111,
              "#46039f"
             ],
             [
              0.2222222222222222,
              "#7201a8"
             ],
             [
              0.3333333333333333,
              "#9c179e"
             ],
             [
              0.4444444444444444,
              "#bd3786"
             ],
             [
              0.5555555555555556,
              "#d8576b"
             ],
             [
              0.6666666666666666,
              "#ed7953"
             ],
             [
              0.7777777777777778,
              "#fb9f3a"
             ],
             [
              0.8888888888888888,
              "#fdca26"
             ],
             [
              1,
              "#f0f921"
             ]
            ],
            "type": "heatmap"
           }
          ],
          "heatmapgl": [
           {
            "colorbar": {
             "outlinewidth": 0,
             "ticks": ""
            },
            "colorscale": [
             [
              0,
              "#0d0887"
             ],
             [
              0.1111111111111111,
              "#46039f"
             ],
             [
              0.2222222222222222,
              "#7201a8"
             ],
             [
              0.3333333333333333,
              "#9c179e"
             ],
             [
              0.4444444444444444,
              "#bd3786"
             ],
             [
              0.5555555555555556,
              "#d8576b"
             ],
             [
              0.6666666666666666,
              "#ed7953"
             ],
             [
              0.7777777777777778,
              "#fb9f3a"
             ],
             [
              0.8888888888888888,
              "#fdca26"
             ],
             [
              1,
              "#f0f921"
             ]
            ],
            "type": "heatmapgl"
           }
          ],
          "histogram": [
           {
            "marker": {
             "pattern": {
              "fillmode": "overlay",
              "size": 10,
              "solidity": 0.2
             }
            },
            "type": "histogram"
           }
          ],
          "histogram2d": [
           {
            "colorbar": {
             "outlinewidth": 0,
             "ticks": ""
            },
            "colorscale": [
             [
              0,
              "#0d0887"
             ],
             [
              0.1111111111111111,
              "#46039f"
             ],
             [
              0.2222222222222222,
              "#7201a8"
             ],
             [
              0.3333333333333333,
              "#9c179e"
             ],
             [
              0.4444444444444444,
              "#bd3786"
             ],
             [
              0.5555555555555556,
              "#d8576b"
             ],
             [
              0.6666666666666666,
              "#ed7953"
             ],
             [
              0.7777777777777778,
              "#fb9f3a"
             ],
             [
              0.8888888888888888,
              "#fdca26"
             ],
             [
              1,
              "#f0f921"
             ]
            ],
            "type": "histogram2d"
           }
          ],
          "histogram2dcontour": [
           {
            "colorbar": {
             "outlinewidth": 0,
             "ticks": ""
            },
            "colorscale": [
             [
              0,
              "#0d0887"
             ],
             [
              0.1111111111111111,
              "#46039f"
             ],
             [
              0.2222222222222222,
              "#7201a8"
             ],
             [
              0.3333333333333333,
              "#9c179e"
             ],
             [
              0.4444444444444444,
              "#bd3786"
             ],
             [
              0.5555555555555556,
              "#d8576b"
             ],
             [
              0.6666666666666666,
              "#ed7953"
             ],
             [
              0.7777777777777778,
              "#fb9f3a"
             ],
             [
              0.8888888888888888,
              "#fdca26"
             ],
             [
              1,
              "#f0f921"
             ]
            ],
            "type": "histogram2dcontour"
           }
          ],
          "mesh3d": [
           {
            "colorbar": {
             "outlinewidth": 0,
             "ticks": ""
            },
            "type": "mesh3d"
           }
          ],
          "parcoords": [
           {
            "line": {
             "colorbar": {
              "outlinewidth": 0,
              "ticks": ""
             }
            },
            "type": "parcoords"
           }
          ],
          "pie": [
           {
            "automargin": true,
            "type": "pie"
           }
          ],
          "scatter": [
           {
            "marker": {
             "colorbar": {
              "outlinewidth": 0,
              "ticks": ""
             }
            },
            "type": "scatter"
           }
          ],
          "scatter3d": [
           {
            "line": {
             "colorbar": {
              "outlinewidth": 0,
              "ticks": ""
             }
            },
            "marker": {
             "colorbar": {
              "outlinewidth": 0,
              "ticks": ""
             }
            },
            "type": "scatter3d"
           }
          ],
          "scattercarpet": [
           {
            "marker": {
             "colorbar": {
              "outlinewidth": 0,
              "ticks": ""
             }
            },
            "type": "scattercarpet"
           }
          ],
          "scattergeo": [
           {
            "marker": {
             "colorbar": {
              "outlinewidth": 0,
              "ticks": ""
             }
            },
            "type": "scattergeo"
           }
          ],
          "scattergl": [
           {
            "marker": {
             "colorbar": {
              "outlinewidth": 0,
              "ticks": ""
             }
            },
            "type": "scattergl"
           }
          ],
          "scattermapbox": [
           {
            "marker": {
             "colorbar": {
              "outlinewidth": 0,
              "ticks": ""
             }
            },
            "type": "scattermapbox"
           }
          ],
          "scatterpolar": [
           {
            "marker": {
             "colorbar": {
              "outlinewidth": 0,
              "ticks": ""
             }
            },
            "type": "scatterpolar"
           }
          ],
          "scatterpolargl": [
           {
            "marker": {
             "colorbar": {
              "outlinewidth": 0,
              "ticks": ""
             }
            },
            "type": "scatterpolargl"
           }
          ],
          "scatterternary": [
           {
            "marker": {
             "colorbar": {
              "outlinewidth": 0,
              "ticks": ""
             }
            },
            "type": "scatterternary"
           }
          ],
          "surface": [
           {
            "colorbar": {
             "outlinewidth": 0,
             "ticks": ""
            },
            "colorscale": [
             [
              0,
              "#0d0887"
             ],
             [
              0.1111111111111111,
              "#46039f"
             ],
             [
              0.2222222222222222,
              "#7201a8"
             ],
             [
              0.3333333333333333,
              "#9c179e"
             ],
             [
              0.4444444444444444,
              "#bd3786"
             ],
             [
              0.5555555555555556,
              "#d8576b"
             ],
             [
              0.6666666666666666,
              "#ed7953"
             ],
             [
              0.7777777777777778,
              "#fb9f3a"
             ],
             [
              0.8888888888888888,
              "#fdca26"
             ],
             [
              1,
              "#f0f921"
             ]
            ],
            "type": "surface"
           }
          ],
          "table": [
           {
            "cells": {
             "fill": {
              "color": "#EBF0F8"
             },
             "line": {
              "color": "white"
             }
            },
            "header": {
             "fill": {
              "color": "#C8D4E3"
             },
             "line": {
              "color": "white"
             }
            },
            "type": "table"
           }
          ]
         },
         "layout": {
          "annotationdefaults": {
           "arrowcolor": "#2a3f5f",
           "arrowhead": 0,
           "arrowwidth": 1
          },
          "autotypenumbers": "strict",
          "coloraxis": {
           "colorbar": {
            "outlinewidth": 0,
            "ticks": ""
           }
          },
          "colorscale": {
           "diverging": [
            [
             0,
             "#8e0152"
            ],
            [
             0.1,
             "#c51b7d"
            ],
            [
             0.2,
             "#de77ae"
            ],
            [
             0.3,
             "#f1b6da"
            ],
            [
             0.4,
             "#fde0ef"
            ],
            [
             0.5,
             "#f7f7f7"
            ],
            [
             0.6,
             "#e6f5d0"
            ],
            [
             0.7,
             "#b8e186"
            ],
            [
             0.8,
             "#7fbc41"
            ],
            [
             0.9,
             "#4d9221"
            ],
            [
             1,
             "#276419"
            ]
           ],
           "sequential": [
            [
             0,
             "#0d0887"
            ],
            [
             0.1111111111111111,
             "#46039f"
            ],
            [
             0.2222222222222222,
             "#7201a8"
            ],
            [
             0.3333333333333333,
             "#9c179e"
            ],
            [
             0.4444444444444444,
             "#bd3786"
            ],
            [
             0.5555555555555556,
             "#d8576b"
            ],
            [
             0.6666666666666666,
             "#ed7953"
            ],
            [
             0.7777777777777778,
             "#fb9f3a"
            ],
            [
             0.8888888888888888,
             "#fdca26"
            ],
            [
             1,
             "#f0f921"
            ]
           ],
           "sequentialminus": [
            [
             0,
             "#0d0887"
            ],
            [
             0.1111111111111111,
             "#46039f"
            ],
            [
             0.2222222222222222,
             "#7201a8"
            ],
            [
             0.3333333333333333,
             "#9c179e"
            ],
            [
             0.4444444444444444,
             "#bd3786"
            ],
            [
             0.5555555555555556,
             "#d8576b"
            ],
            [
             0.6666666666666666,
             "#ed7953"
            ],
            [
             0.7777777777777778,
             "#fb9f3a"
            ],
            [
             0.8888888888888888,
             "#fdca26"
            ],
            [
             1,
             "#f0f921"
            ]
           ]
          },
          "colorway": [
           "#636efa",
           "#EF553B",
           "#00cc96",
           "#ab63fa",
           "#FFA15A",
           "#19d3f3",
           "#FF6692",
           "#B6E880",
           "#FF97FF",
           "#FECB52"
          ],
          "font": {
           "color": "#2a3f5f"
          },
          "geo": {
           "bgcolor": "white",
           "lakecolor": "white",
           "landcolor": "#E5ECF6",
           "showlakes": true,
           "showland": true,
           "subunitcolor": "white"
          },
          "hoverlabel": {
           "align": "left"
          },
          "hovermode": "closest",
          "mapbox": {
           "style": "light"
          },
          "paper_bgcolor": "white",
          "plot_bgcolor": "#E5ECF6",
          "polar": {
           "angularaxis": {
            "gridcolor": "white",
            "linecolor": "white",
            "ticks": ""
           },
           "bgcolor": "#E5ECF6",
           "radialaxis": {
            "gridcolor": "white",
            "linecolor": "white",
            "ticks": ""
           }
          },
          "scene": {
           "xaxis": {
            "backgroundcolor": "#E5ECF6",
            "gridcolor": "white",
            "gridwidth": 2,
            "linecolor": "white",
            "showbackground": true,
            "ticks": "",
            "zerolinecolor": "white"
           },
           "yaxis": {
            "backgroundcolor": "#E5ECF6",
            "gridcolor": "white",
            "gridwidth": 2,
            "linecolor": "white",
            "showbackground": true,
            "ticks": "",
            "zerolinecolor": "white"
           },
           "zaxis": {
            "backgroundcolor": "#E5ECF6",
            "gridcolor": "white",
            "gridwidth": 2,
            "linecolor": "white",
            "showbackground": true,
            "ticks": "",
            "zerolinecolor": "white"
           }
          },
          "shapedefaults": {
           "line": {
            "color": "#2a3f5f"
           }
          },
          "ternary": {
           "aaxis": {
            "gridcolor": "white",
            "linecolor": "white",
            "ticks": ""
           },
           "baxis": {
            "gridcolor": "white",
            "linecolor": "white",
            "ticks": ""
           },
           "bgcolor": "#E5ECF6",
           "caxis": {
            "gridcolor": "white",
            "linecolor": "white",
            "ticks": ""
           }
          },
          "title": {
           "x": 0.05
          },
          "xaxis": {
           "automargin": true,
           "gridcolor": "white",
           "linecolor": "white",
           "ticks": "",
           "title": {
            "standoff": 15
           },
           "zerolinecolor": "white",
           "zerolinewidth": 2
          },
          "yaxis": {
           "automargin": true,
           "gridcolor": "white",
           "linecolor": "white",
           "ticks": "",
           "title": {
            "standoff": 15
           },
           "zerolinecolor": "white",
           "zerolinewidth": 2
          }
         }
        },
        "title": {
         "font": {
          "color": "#4D5663"
         }
        },
        "xaxis": {
         "gridcolor": "#E1E5ED",
         "showgrid": true,
         "tickfont": {
          "color": "#4D5663"
         },
         "title": {
          "font": {
           "color": "#4D5663"
          },
          "text": ""
         },
         "zerolinecolor": "#E1E5ED"
        },
        "yaxis": {
         "gridcolor": "#E1E5ED",
         "showgrid": true,
         "tickfont": {
          "color": "#4D5663"
         },
         "title": {
          "font": {
           "color": "#4D5663"
          },
          "text": ""
         },
         "zerolinecolor": "#E1E5ED"
        }
       }
      },
      "text/html": [
       "<div>                            <div id=\"a5c853e3-323a-4900-9786-79142266e381\" class=\"plotly-graph-div\" style=\"height:525px; width:100%;\"></div>            <script type=\"text/javascript\">                require([\"plotly\"], function(Plotly) {                    window.PLOTLYENV=window.PLOTLYENV || {};\n",
       "                    window.PLOTLYENV.BASE_URL='https://plot.ly';                                    if (document.getElementById(\"a5c853e3-323a-4900-9786-79142266e381\")) {                    Plotly.newPlot(                        \"a5c853e3-323a-4900-9786-79142266e381\",                        [{\"marker\":{\"color\":\"rgba(255, 153, 51, 0.6)\",\"line\":{\"color\":\"rgba(255, 153, 51, 1.0)\",\"width\":1}},\"name\":\"Total Cases\",\"orientation\":\"v\",\"text\":\"\",\"type\":\"bar\",\"x\":[\"Maharashtra\",\"Kerala\",\"Karnataka\",\"Tamil Nadu\",\"Andhra Pradesh\",\"Uttar Pradesh\",\"West Bengal\",\"Delhi\",\"Chhattisgarh\",\"Odisha\",\"Rajasthan\",\"Gujarat\",\"Madhya Pradesh\",\"Haryana\",\"Bihar\",\"Telengana\",\"Punjab\",\"Assam\",\"Jharkhand\",\"Uttarakhand\",\"Jammu and Kashmir\",\"Himachal Pradesh\",\"Goa\",\"Puducherry\",\"Manipur\",\"Tripura\",\"Chandigarh\",\"Meghalaya\",\"Arunachal Pradesh\",\"Mizoram\",\"Nagaland\",\"Sikkim\",\"Ladakh\",\"Dadra and Nagar Haveli and Daman and Diu\",\"Lakshadweep\",\"Andaman and Nicobar\"],\"y\":[6214190,3160937,2883947,2535402,1940096,1707847,1518181,1435529,999853,954326,953360,824497,791658,769539,723945,636627,598334,547283,346681,341452,319901,204391,169740,119703,84822,73901,61889,57388,42820,27488,26682,23392,20257,10597,10064,7510]}],                        {\"legend\":{\"bgcolor\":\"#F5F6F9\",\"font\":{\"color\":\"#4D5663\"}},\"paper_bgcolor\":\"#F5F6F9\",\"plot_bgcolor\":\"#F5F6F9\",\"template\":{\"data\":{\"bar\":[{\"error_x\":{\"color\":\"#2a3f5f\"},\"error_y\":{\"color\":\"#2a3f5f\"},\"marker\":{\"line\":{\"color\":\"#E5ECF6\",\"width\":0.5},\"pattern\":{\"fillmode\":\"overlay\",\"size\":10,\"solidity\":0.2}},\"type\":\"bar\"}],\"barpolar\":[{\"marker\":{\"line\":{\"color\":\"#E5ECF6\",\"width\":0.5},\"pattern\":{\"fillmode\":\"overlay\",\"size\":10,\"solidity\":0.2}},\"type\":\"barpolar\"}],\"carpet\":[{\"aaxis\":{\"endlinecolor\":\"#2a3f5f\",\"gridcolor\":\"white\",\"linecolor\":\"white\",\"minorgridcolor\":\"white\",\"startlinecolor\":\"#2a3f5f\"},\"baxis\":{\"endlinecolor\":\"#2a3f5f\",\"gridcolor\":\"white\",\"linecolor\":\"white\",\"minorgridcolor\":\"white\",\"startlinecolor\":\"#2a3f5f\"},\"type\":\"carpet\"}],\"choropleth\":[{\"colorbar\":{\"outlinewidth\":0,\"ticks\":\"\"},\"type\":\"choropleth\"}],\"contour\":[{\"colorbar\":{\"outlinewidth\":0,\"ticks\":\"\"},\"colorscale\":[[0.0,\"#0d0887\"],[0.1111111111111111,\"#46039f\"],[0.2222222222222222,\"#7201a8\"],[0.3333333333333333,\"#9c179e\"],[0.4444444444444444,\"#bd3786\"],[0.5555555555555556,\"#d8576b\"],[0.6666666666666666,\"#ed7953\"],[0.7777777777777778,\"#fb9f3a\"],[0.8888888888888888,\"#fdca26\"],[1.0,\"#f0f921\"]],\"type\":\"contour\"}],\"contourcarpet\":[{\"colorbar\":{\"outlinewidth\":0,\"ticks\":\"\"},\"type\":\"contourcarpet\"}],\"heatmap\":[{\"colorbar\":{\"outlinewidth\":0,\"ticks\":\"\"},\"colorscale\":[[0.0,\"#0d0887\"],[0.1111111111111111,\"#46039f\"],[0.2222222222222222,\"#7201a8\"],[0.3333333333333333,\"#9c179e\"],[0.4444444444444444,\"#bd3786\"],[0.5555555555555556,\"#d8576b\"],[0.6666666666666666,\"#ed7953\"],[0.7777777777777778,\"#fb9f3a\"],[0.8888888888888888,\"#fdca26\"],[1.0,\"#f0f921\"]],\"type\":\"heatmap\"}],\"heatmapgl\":[{\"colorbar\":{\"outlinewidth\":0,\"ticks\":\"\"},\"colorscale\":[[0.0,\"#0d0887\"],[0.1111111111111111,\"#46039f\"],[0.2222222222222222,\"#7201a8\"],[0.3333333333333333,\"#9c179e\"],[0.4444444444444444,\"#bd3786\"],[0.5555555555555556,\"#d8576b\"],[0.6666666666666666,\"#ed7953\"],[0.7777777777777778,\"#fb9f3a\"],[0.8888888888888888,\"#fdca26\"],[1.0,\"#f0f921\"]],\"type\":\"heatmapgl\"}],\"histogram\":[{\"marker\":{\"pattern\":{\"fillmode\":\"overlay\",\"size\":10,\"solidity\":0.2}},\"type\":\"histogram\"}],\"histogram2d\":[{\"colorbar\":{\"outlinewidth\":0,\"ticks\":\"\"},\"colorscale\":[[0.0,\"#0d0887\"],[0.1111111111111111,\"#46039f\"],[0.2222222222222222,\"#7201a8\"],[0.3333333333333333,\"#9c179e\"],[0.4444444444444444,\"#bd3786\"],[0.5555555555555556,\"#d8576b\"],[0.6666666666666666,\"#ed7953\"],[0.7777777777777778,\"#fb9f3a\"],[0.8888888888888888,\"#fdca26\"],[1.0,\"#f0f921\"]],\"type\":\"histogram2d\"}],\"histogram2dcontour\":[{\"colorbar\":{\"outlinewidth\":0,\"ticks\":\"\"},\"colorscale\":[[0.0,\"#0d0887\"],[0.1111111111111111,\"#46039f\"],[0.2222222222222222,\"#7201a8\"],[0.3333333333333333,\"#9c179e\"],[0.4444444444444444,\"#bd3786\"],[0.5555555555555556,\"#d8576b\"],[0.6666666666666666,\"#ed7953\"],[0.7777777777777778,\"#fb9f3a\"],[0.8888888888888888,\"#fdca26\"],[1.0,\"#f0f921\"]],\"type\":\"histogram2dcontour\"}],\"mesh3d\":[{\"colorbar\":{\"outlinewidth\":0,\"ticks\":\"\"},\"type\":\"mesh3d\"}],\"parcoords\":[{\"line\":{\"colorbar\":{\"outlinewidth\":0,\"ticks\":\"\"}},\"type\":\"parcoords\"}],\"pie\":[{\"automargin\":true,\"type\":\"pie\"}],\"scatter\":[{\"marker\":{\"colorbar\":{\"outlinewidth\":0,\"ticks\":\"\"}},\"type\":\"scatter\"}],\"scatter3d\":[{\"line\":{\"colorbar\":{\"outlinewidth\":0,\"ticks\":\"\"}},\"marker\":{\"colorbar\":{\"outlinewidth\":0,\"ticks\":\"\"}},\"type\":\"scatter3d\"}],\"scattercarpet\":[{\"marker\":{\"colorbar\":{\"outlinewidth\":0,\"ticks\":\"\"}},\"type\":\"scattercarpet\"}],\"scattergeo\":[{\"marker\":{\"colorbar\":{\"outlinewidth\":0,\"ticks\":\"\"}},\"type\":\"scattergeo\"}],\"scattergl\":[{\"marker\":{\"colorbar\":{\"outlinewidth\":0,\"ticks\":\"\"}},\"type\":\"scattergl\"}],\"scattermapbox\":[{\"marker\":{\"colorbar\":{\"outlinewidth\":0,\"ticks\":\"\"}},\"type\":\"scattermapbox\"}],\"scatterpolar\":[{\"marker\":{\"colorbar\":{\"outlinewidth\":0,\"ticks\":\"\"}},\"type\":\"scatterpolar\"}],\"scatterpolargl\":[{\"marker\":{\"colorbar\":{\"outlinewidth\":0,\"ticks\":\"\"}},\"type\":\"scatterpolargl\"}],\"scatterternary\":[{\"marker\":{\"colorbar\":{\"outlinewidth\":0,\"ticks\":\"\"}},\"type\":\"scatterternary\"}],\"surface\":[{\"colorbar\":{\"outlinewidth\":0,\"ticks\":\"\"},\"colorscale\":[[0.0,\"#0d0887\"],[0.1111111111111111,\"#46039f\"],[0.2222222222222222,\"#7201a8\"],[0.3333333333333333,\"#9c179e\"],[0.4444444444444444,\"#bd3786\"],[0.5555555555555556,\"#d8576b\"],[0.6666666666666666,\"#ed7953\"],[0.7777777777777778,\"#fb9f3a\"],[0.8888888888888888,\"#fdca26\"],[1.0,\"#f0f921\"]],\"type\":\"surface\"}],\"table\":[{\"cells\":{\"fill\":{\"color\":\"#EBF0F8\"},\"line\":{\"color\":\"white\"}},\"header\":{\"fill\":{\"color\":\"#C8D4E3\"},\"line\":{\"color\":\"white\"}},\"type\":\"table\"}]},\"layout\":{\"annotationdefaults\":{\"arrowcolor\":\"#2a3f5f\",\"arrowhead\":0,\"arrowwidth\":1},\"autotypenumbers\":\"strict\",\"coloraxis\":{\"colorbar\":{\"outlinewidth\":0,\"ticks\":\"\"}},\"colorscale\":{\"diverging\":[[0,\"#8e0152\"],[0.1,\"#c51b7d\"],[0.2,\"#de77ae\"],[0.3,\"#f1b6da\"],[0.4,\"#fde0ef\"],[0.5,\"#f7f7f7\"],[0.6,\"#e6f5d0\"],[0.7,\"#b8e186\"],[0.8,\"#7fbc41\"],[0.9,\"#4d9221\"],[1,\"#276419\"]],\"sequential\":[[0.0,\"#0d0887\"],[0.1111111111111111,\"#46039f\"],[0.2222222222222222,\"#7201a8\"],[0.3333333333333333,\"#9c179e\"],[0.4444444444444444,\"#bd3786\"],[0.5555555555555556,\"#d8576b\"],[0.6666666666666666,\"#ed7953\"],[0.7777777777777778,\"#fb9f3a\"],[0.8888888888888888,\"#fdca26\"],[1.0,\"#f0f921\"]],\"sequentialminus\":[[0.0,\"#0d0887\"],[0.1111111111111111,\"#46039f\"],[0.2222222222222222,\"#7201a8\"],[0.3333333333333333,\"#9c179e\"],[0.4444444444444444,\"#bd3786\"],[0.5555555555555556,\"#d8576b\"],[0.6666666666666666,\"#ed7953\"],[0.7777777777777778,\"#fb9f3a\"],[0.8888888888888888,\"#fdca26\"],[1.0,\"#f0f921\"]]},\"colorway\":[\"#636efa\",\"#EF553B\",\"#00cc96\",\"#ab63fa\",\"#FFA15A\",\"#19d3f3\",\"#FF6692\",\"#B6E880\",\"#FF97FF\",\"#FECB52\"],\"font\":{\"color\":\"#2a3f5f\"},\"geo\":{\"bgcolor\":\"white\",\"lakecolor\":\"white\",\"landcolor\":\"#E5ECF6\",\"showlakes\":true,\"showland\":true,\"subunitcolor\":\"white\"},\"hoverlabel\":{\"align\":\"left\"},\"hovermode\":\"closest\",\"mapbox\":{\"style\":\"light\"},\"paper_bgcolor\":\"white\",\"plot_bgcolor\":\"#E5ECF6\",\"polar\":{\"angularaxis\":{\"gridcolor\":\"white\",\"linecolor\":\"white\",\"ticks\":\"\"},\"bgcolor\":\"#E5ECF6\",\"radialaxis\":{\"gridcolor\":\"white\",\"linecolor\":\"white\",\"ticks\":\"\"}},\"scene\":{\"xaxis\":{\"backgroundcolor\":\"#E5ECF6\",\"gridcolor\":\"white\",\"gridwidth\":2,\"linecolor\":\"white\",\"showbackground\":true,\"ticks\":\"\",\"zerolinecolor\":\"white\"},\"yaxis\":{\"backgroundcolor\":\"#E5ECF6\",\"gridcolor\":\"white\",\"gridwidth\":2,\"linecolor\":\"white\",\"showbackground\":true,\"ticks\":\"\",\"zerolinecolor\":\"white\"},\"zaxis\":{\"backgroundcolor\":\"#E5ECF6\",\"gridcolor\":\"white\",\"gridwidth\":2,\"linecolor\":\"white\",\"showbackground\":true,\"ticks\":\"\",\"zerolinecolor\":\"white\"}},\"shapedefaults\":{\"line\":{\"color\":\"#2a3f5f\"}},\"ternary\":{\"aaxis\":{\"gridcolor\":\"white\",\"linecolor\":\"white\",\"ticks\":\"\"},\"baxis\":{\"gridcolor\":\"white\",\"linecolor\":\"white\",\"ticks\":\"\"},\"bgcolor\":\"#E5ECF6\",\"caxis\":{\"gridcolor\":\"white\",\"linecolor\":\"white\",\"ticks\":\"\"}},\"title\":{\"x\":0.05},\"xaxis\":{\"automargin\":true,\"gridcolor\":\"white\",\"linecolor\":\"white\",\"ticks\":\"\",\"title\":{\"standoff\":15},\"zerolinecolor\":\"white\",\"zerolinewidth\":2},\"yaxis\":{\"automargin\":true,\"gridcolor\":\"white\",\"linecolor\":\"white\",\"ticks\":\"\",\"title\":{\"standoff\":15},\"zerolinecolor\":\"white\",\"zerolinewidth\":2}}},\"title\":{\"font\":{\"color\":\"#4D5663\"}},\"xaxis\":{\"gridcolor\":\"#E1E5ED\",\"showgrid\":true,\"tickfont\":{\"color\":\"#4D5663\"},\"title\":{\"font\":{\"color\":\"#4D5663\"},\"text\":\"\"},\"zerolinecolor\":\"#E1E5ED\"},\"yaxis\":{\"gridcolor\":\"#E1E5ED\",\"showgrid\":true,\"tickfont\":{\"color\":\"#4D5663\"},\"title\":{\"font\":{\"color\":\"#4D5663\"},\"text\":\"\"},\"zerolinecolor\":\"#E1E5ED\"}},                        {\"showLink\": true, \"linkText\": \"Export to plot.ly\", \"plotlyServerURL\": \"https://plot.ly\", \"responsive\": true}                    ).then(function(){\n",
       "                            \n",
       "var gd = document.getElementById('a5c853e3-323a-4900-9786-79142266e381');\n",
       "var x = new MutationObserver(function (mutations, observer) {{\n",
       "        var display = window.getComputedStyle(gd).display;\n",
       "        if (!display || display === 'none') {{\n",
       "            console.log([gd, 'removed!']);\n",
       "            Plotly.purge(gd);\n",
       "            observer.disconnect();\n",
       "        }}\n",
       "}});\n",
       "\n",
       "// Listen for the removal of the full notebook cells\n",
       "var notebookContainer = gd.closest('#notebook-container');\n",
       "if (notebookContainer) {{\n",
       "    x.observe(notebookContainer, {childList: true});\n",
       "}}\n",
       "\n",
       "// Listen for the clearing of the current output cell\n",
       "var outputEl = gd.closest('.output');\n",
       "if (outputEl) {{\n",
       "    x.observe(outputEl, {childList: true});\n",
       "}}\n",
       "\n",
       "                        })                };                });            </script>        </div>"
      ]
     },
     "metadata": {},
     "output_type": "display_data"
    }
   ],
   "source": [
    "df.plot(kind='bar',x='State/UTs',y='Total Cases')\n",
    "plt.show()\n",
    "#interactive\n",
    "df.iplot(kind='bar',x='State/UTs',y='Total Cases')"
   ]
  },
  {
   "cell_type": "code",
   "execution_count": 20,
   "metadata": {},
   "outputs": [
    {
     "data": {
      "application/vnd.plotly.v1+json": {
       "config": {
        "plotlyServerURL": "https://plot.ly"
       },
       "data": [
        {
         "alignmentgroup": "True",
         "hovertemplate": "State/UTs=%{x}<br>Deaths=%{y}<extra></extra>",
         "legendgroup": "",
         "marker": {
          "color": "#636efa",
          "pattern": {
           "shape": ""
          }
         },
         "name": "",
         "offsetgroup": "",
         "orientation": "v",
         "showlegend": false,
         "textposition": "auto",
         "type": "bar",
         "x": [
          "Maharashtra",
          "Kerala",
          "Karnataka",
          "Tamil Nadu",
          "Andhra Pradesh",
          "Uttar Pradesh",
          "West Bengal",
          "Delhi",
          "Chhattisgarh",
          "Odisha",
          "Rajasthan",
          "Gujarat",
          "Madhya Pradesh",
          "Haryana",
          "Bihar",
          "Telengana",
          "Punjab",
          "Assam",
          "Jharkhand",
          "Uttarakhand",
          "Jammu and Kashmir",
          "Himachal Pradesh",
          "Goa",
          "Puducherry",
          "Manipur",
          "Tripura",
          "Chandigarh",
          "Meghalaya",
          "Arunachal Pradesh",
          "Mizoram",
          "Nagaland",
          "Sikkim",
          "Ladakh",
          "Dadra and Nagar Haveli and Daman and Diu",
          "Lakshadweep",
          "Andaman and Nicobar"
         ],
         "xaxis": "x",
         "y": [
          127031,
          15350,
          36157,
          33724,
          13132,
          22719,
          17999,
          25027,
          13496,
          5058,
          8950,
          10076,
          10512,
          9599,
          9629,
          3759,
          16233,
          4999,
          5120,
          7356,
          4364,
          3507,
          3111,
          1778,
          1376,
          728,
          809,
          945,
          202,
          122,
          528,
          324,
          206,
          4,
          49,
          129
         ],
         "yaxis": "y"
        }
       ],
       "layout": {
        "barmode": "relative",
        "legend": {
         "tracegroupgap": 0
        },
        "margin": {
         "t": 60
        },
        "template": {
         "data": {
          "bar": [
           {
            "error_x": {
             "color": "#2a3f5f"
            },
            "error_y": {
             "color": "#2a3f5f"
            },
            "marker": {
             "line": {
              "color": "#E5ECF6",
              "width": 0.5
             },
             "pattern": {
              "fillmode": "overlay",
              "size": 10,
              "solidity": 0.2
             }
            },
            "type": "bar"
           }
          ],
          "barpolar": [
           {
            "marker": {
             "line": {
              "color": "#E5ECF6",
              "width": 0.5
             },
             "pattern": {
              "fillmode": "overlay",
              "size": 10,
              "solidity": 0.2
             }
            },
            "type": "barpolar"
           }
          ],
          "carpet": [
           {
            "aaxis": {
             "endlinecolor": "#2a3f5f",
             "gridcolor": "white",
             "linecolor": "white",
             "minorgridcolor": "white",
             "startlinecolor": "#2a3f5f"
            },
            "baxis": {
             "endlinecolor": "#2a3f5f",
             "gridcolor": "white",
             "linecolor": "white",
             "minorgridcolor": "white",
             "startlinecolor": "#2a3f5f"
            },
            "type": "carpet"
           }
          ],
          "choropleth": [
           {
            "colorbar": {
             "outlinewidth": 0,
             "ticks": ""
            },
            "type": "choropleth"
           }
          ],
          "contour": [
           {
            "colorbar": {
             "outlinewidth": 0,
             "ticks": ""
            },
            "colorscale": [
             [
              0,
              "#0d0887"
             ],
             [
              0.1111111111111111,
              "#46039f"
             ],
             [
              0.2222222222222222,
              "#7201a8"
             ],
             [
              0.3333333333333333,
              "#9c179e"
             ],
             [
              0.4444444444444444,
              "#bd3786"
             ],
             [
              0.5555555555555556,
              "#d8576b"
             ],
             [
              0.6666666666666666,
              "#ed7953"
             ],
             [
              0.7777777777777778,
              "#fb9f3a"
             ],
             [
              0.8888888888888888,
              "#fdca26"
             ],
             [
              1,
              "#f0f921"
             ]
            ],
            "type": "contour"
           }
          ],
          "contourcarpet": [
           {
            "colorbar": {
             "outlinewidth": 0,
             "ticks": ""
            },
            "type": "contourcarpet"
           }
          ],
          "heatmap": [
           {
            "colorbar": {
             "outlinewidth": 0,
             "ticks": ""
            },
            "colorscale": [
             [
              0,
              "#0d0887"
             ],
             [
              0.1111111111111111,
              "#46039f"
             ],
             [
              0.2222222222222222,
              "#7201a8"
             ],
             [
              0.3333333333333333,
              "#9c179e"
             ],
             [
              0.4444444444444444,
              "#bd3786"
             ],
             [
              0.5555555555555556,
              "#d8576b"
             ],
             [
              0.6666666666666666,
              "#ed7953"
             ],
             [
              0.7777777777777778,
              "#fb9f3a"
             ],
             [
              0.8888888888888888,
              "#fdca26"
             ],
             [
              1,
              "#f0f921"
             ]
            ],
            "type": "heatmap"
           }
          ],
          "heatmapgl": [
           {
            "colorbar": {
             "outlinewidth": 0,
             "ticks": ""
            },
            "colorscale": [
             [
              0,
              "#0d0887"
             ],
             [
              0.1111111111111111,
              "#46039f"
             ],
             [
              0.2222222222222222,
              "#7201a8"
             ],
             [
              0.3333333333333333,
              "#9c179e"
             ],
             [
              0.4444444444444444,
              "#bd3786"
             ],
             [
              0.5555555555555556,
              "#d8576b"
             ],
             [
              0.6666666666666666,
              "#ed7953"
             ],
             [
              0.7777777777777778,
              "#fb9f3a"
             ],
             [
              0.8888888888888888,
              "#fdca26"
             ],
             [
              1,
              "#f0f921"
             ]
            ],
            "type": "heatmapgl"
           }
          ],
          "histogram": [
           {
            "marker": {
             "pattern": {
              "fillmode": "overlay",
              "size": 10,
              "solidity": 0.2
             }
            },
            "type": "histogram"
           }
          ],
          "histogram2d": [
           {
            "colorbar": {
             "outlinewidth": 0,
             "ticks": ""
            },
            "colorscale": [
             [
              0,
              "#0d0887"
             ],
             [
              0.1111111111111111,
              "#46039f"
             ],
             [
              0.2222222222222222,
              "#7201a8"
             ],
             [
              0.3333333333333333,
              "#9c179e"
             ],
             [
              0.4444444444444444,
              "#bd3786"
             ],
             [
              0.5555555555555556,
              "#d8576b"
             ],
             [
              0.6666666666666666,
              "#ed7953"
             ],
             [
              0.7777777777777778,
              "#fb9f3a"
             ],
             [
              0.8888888888888888,
              "#fdca26"
             ],
             [
              1,
              "#f0f921"
             ]
            ],
            "type": "histogram2d"
           }
          ],
          "histogram2dcontour": [
           {
            "colorbar": {
             "outlinewidth": 0,
             "ticks": ""
            },
            "colorscale": [
             [
              0,
              "#0d0887"
             ],
             [
              0.1111111111111111,
              "#46039f"
             ],
             [
              0.2222222222222222,
              "#7201a8"
             ],
             [
              0.3333333333333333,
              "#9c179e"
             ],
             [
              0.4444444444444444,
              "#bd3786"
             ],
             [
              0.5555555555555556,
              "#d8576b"
             ],
             [
              0.6666666666666666,
              "#ed7953"
             ],
             [
              0.7777777777777778,
              "#fb9f3a"
             ],
             [
              0.8888888888888888,
              "#fdca26"
             ],
             [
              1,
              "#f0f921"
             ]
            ],
            "type": "histogram2dcontour"
           }
          ],
          "mesh3d": [
           {
            "colorbar": {
             "outlinewidth": 0,
             "ticks": ""
            },
            "type": "mesh3d"
           }
          ],
          "parcoords": [
           {
            "line": {
             "colorbar": {
              "outlinewidth": 0,
              "ticks": ""
             }
            },
            "type": "parcoords"
           }
          ],
          "pie": [
           {
            "automargin": true,
            "type": "pie"
           }
          ],
          "scatter": [
           {
            "marker": {
             "colorbar": {
              "outlinewidth": 0,
              "ticks": ""
             }
            },
            "type": "scatter"
           }
          ],
          "scatter3d": [
           {
            "line": {
             "colorbar": {
              "outlinewidth": 0,
              "ticks": ""
             }
            },
            "marker": {
             "colorbar": {
              "outlinewidth": 0,
              "ticks": ""
             }
            },
            "type": "scatter3d"
           }
          ],
          "scattercarpet": [
           {
            "marker": {
             "colorbar": {
              "outlinewidth": 0,
              "ticks": ""
             }
            },
            "type": "scattercarpet"
           }
          ],
          "scattergeo": [
           {
            "marker": {
             "colorbar": {
              "outlinewidth": 0,
              "ticks": ""
             }
            },
            "type": "scattergeo"
           }
          ],
          "scattergl": [
           {
            "marker": {
             "colorbar": {
              "outlinewidth": 0,
              "ticks": ""
             }
            },
            "type": "scattergl"
           }
          ],
          "scattermapbox": [
           {
            "marker": {
             "colorbar": {
              "outlinewidth": 0,
              "ticks": ""
             }
            },
            "type": "scattermapbox"
           }
          ],
          "scatterpolar": [
           {
            "marker": {
             "colorbar": {
              "outlinewidth": 0,
              "ticks": ""
             }
            },
            "type": "scatterpolar"
           }
          ],
          "scatterpolargl": [
           {
            "marker": {
             "colorbar": {
              "outlinewidth": 0,
              "ticks": ""
             }
            },
            "type": "scatterpolargl"
           }
          ],
          "scatterternary": [
           {
            "marker": {
             "colorbar": {
              "outlinewidth": 0,
              "ticks": ""
             }
            },
            "type": "scatterternary"
           }
          ],
          "surface": [
           {
            "colorbar": {
             "outlinewidth": 0,
             "ticks": ""
            },
            "colorscale": [
             [
              0,
              "#0d0887"
             ],
             [
              0.1111111111111111,
              "#46039f"
             ],
             [
              0.2222222222222222,
              "#7201a8"
             ],
             [
              0.3333333333333333,
              "#9c179e"
             ],
             [
              0.4444444444444444,
              "#bd3786"
             ],
             [
              0.5555555555555556,
              "#d8576b"
             ],
             [
              0.6666666666666666,
              "#ed7953"
             ],
             [
              0.7777777777777778,
              "#fb9f3a"
             ],
             [
              0.8888888888888888,
              "#fdca26"
             ],
             [
              1,
              "#f0f921"
             ]
            ],
            "type": "surface"
           }
          ],
          "table": [
           {
            "cells": {
             "fill": {
              "color": "#EBF0F8"
             },
             "line": {
              "color": "white"
             }
            },
            "header": {
             "fill": {
              "color": "#C8D4E3"
             },
             "line": {
              "color": "white"
             }
            },
            "type": "table"
           }
          ]
         },
         "layout": {
          "annotationdefaults": {
           "arrowcolor": "#2a3f5f",
           "arrowhead": 0,
           "arrowwidth": 1
          },
          "autotypenumbers": "strict",
          "coloraxis": {
           "colorbar": {
            "outlinewidth": 0,
            "ticks": ""
           }
          },
          "colorscale": {
           "diverging": [
            [
             0,
             "#8e0152"
            ],
            [
             0.1,
             "#c51b7d"
            ],
            [
             0.2,
             "#de77ae"
            ],
            [
             0.3,
             "#f1b6da"
            ],
            [
             0.4,
             "#fde0ef"
            ],
            [
             0.5,
             "#f7f7f7"
            ],
            [
             0.6,
             "#e6f5d0"
            ],
            [
             0.7,
             "#b8e186"
            ],
            [
             0.8,
             "#7fbc41"
            ],
            [
             0.9,
             "#4d9221"
            ],
            [
             1,
             "#276419"
            ]
           ],
           "sequential": [
            [
             0,
             "#0d0887"
            ],
            [
             0.1111111111111111,
             "#46039f"
            ],
            [
             0.2222222222222222,
             "#7201a8"
            ],
            [
             0.3333333333333333,
             "#9c179e"
            ],
            [
             0.4444444444444444,
             "#bd3786"
            ],
            [
             0.5555555555555556,
             "#d8576b"
            ],
            [
             0.6666666666666666,
             "#ed7953"
            ],
            [
             0.7777777777777778,
             "#fb9f3a"
            ],
            [
             0.8888888888888888,
             "#fdca26"
            ],
            [
             1,
             "#f0f921"
            ]
           ],
           "sequentialminus": [
            [
             0,
             "#0d0887"
            ],
            [
             0.1111111111111111,
             "#46039f"
            ],
            [
             0.2222222222222222,
             "#7201a8"
            ],
            [
             0.3333333333333333,
             "#9c179e"
            ],
            [
             0.4444444444444444,
             "#bd3786"
            ],
            [
             0.5555555555555556,
             "#d8576b"
            ],
            [
             0.6666666666666666,
             "#ed7953"
            ],
            [
             0.7777777777777778,
             "#fb9f3a"
            ],
            [
             0.8888888888888888,
             "#fdca26"
            ],
            [
             1,
             "#f0f921"
            ]
           ]
          },
          "colorway": [
           "#636efa",
           "#EF553B",
           "#00cc96",
           "#ab63fa",
           "#FFA15A",
           "#19d3f3",
           "#FF6692",
           "#B6E880",
           "#FF97FF",
           "#FECB52"
          ],
          "font": {
           "color": "#2a3f5f"
          },
          "geo": {
           "bgcolor": "white",
           "lakecolor": "white",
           "landcolor": "#E5ECF6",
           "showlakes": true,
           "showland": true,
           "subunitcolor": "white"
          },
          "hoverlabel": {
           "align": "left"
          },
          "hovermode": "closest",
          "mapbox": {
           "style": "light"
          },
          "paper_bgcolor": "white",
          "plot_bgcolor": "#E5ECF6",
          "polar": {
           "angularaxis": {
            "gridcolor": "white",
            "linecolor": "white",
            "ticks": ""
           },
           "bgcolor": "#E5ECF6",
           "radialaxis": {
            "gridcolor": "white",
            "linecolor": "white",
            "ticks": ""
           }
          },
          "scene": {
           "xaxis": {
            "backgroundcolor": "#E5ECF6",
            "gridcolor": "white",
            "gridwidth": 2,
            "linecolor": "white",
            "showbackground": true,
            "ticks": "",
            "zerolinecolor": "white"
           },
           "yaxis": {
            "backgroundcolor": "#E5ECF6",
            "gridcolor": "white",
            "gridwidth": 2,
            "linecolor": "white",
            "showbackground": true,
            "ticks": "",
            "zerolinecolor": "white"
           },
           "zaxis": {
            "backgroundcolor": "#E5ECF6",
            "gridcolor": "white",
            "gridwidth": 2,
            "linecolor": "white",
            "showbackground": true,
            "ticks": "",
            "zerolinecolor": "white"
           }
          },
          "shapedefaults": {
           "line": {
            "color": "#2a3f5f"
           }
          },
          "ternary": {
           "aaxis": {
            "gridcolor": "white",
            "linecolor": "white",
            "ticks": ""
           },
           "baxis": {
            "gridcolor": "white",
            "linecolor": "white",
            "ticks": ""
           },
           "bgcolor": "#E5ECF6",
           "caxis": {
            "gridcolor": "white",
            "linecolor": "white",
            "ticks": ""
           }
          },
          "title": {
           "x": 0.05
          },
          "xaxis": {
           "automargin": true,
           "gridcolor": "white",
           "linecolor": "white",
           "ticks": "",
           "title": {
            "standoff": 15
           },
           "zerolinecolor": "white",
           "zerolinewidth": 2
          },
          "yaxis": {
           "automargin": true,
           "gridcolor": "white",
           "linecolor": "white",
           "ticks": "",
           "title": {
            "standoff": 15
           },
           "zerolinecolor": "white",
           "zerolinewidth": 2
          }
         }
        },
        "xaxis": {
         "anchor": "y",
         "domain": [
          0,
          1
         ],
         "title": {
          "text": "State/UTs"
         }
        },
        "yaxis": {
         "anchor": "x",
         "domain": [
          0,
          1
         ],
         "title": {
          "text": "Deaths"
         }
        }
       }
      },
      "text/html": [
       "<div>                            <div id=\"60734398-b0c7-4dc8-8873-3e06dbc08dd0\" class=\"plotly-graph-div\" style=\"height:525px; width:100%;\"></div>            <script type=\"text/javascript\">                require([\"plotly\"], function(Plotly) {                    window.PLOTLYENV=window.PLOTLYENV || {};                                    if (document.getElementById(\"60734398-b0c7-4dc8-8873-3e06dbc08dd0\")) {                    Plotly.newPlot(                        \"60734398-b0c7-4dc8-8873-3e06dbc08dd0\",                        [{\"alignmentgroup\":\"True\",\"hovertemplate\":\"State/UTs=%{x}<br>Deaths=%{y}<extra></extra>\",\"legendgroup\":\"\",\"marker\":{\"color\":\"#636efa\",\"pattern\":{\"shape\":\"\"}},\"name\":\"\",\"offsetgroup\":\"\",\"orientation\":\"v\",\"showlegend\":false,\"textposition\":\"auto\",\"type\":\"bar\",\"x\":[\"Maharashtra\",\"Kerala\",\"Karnataka\",\"Tamil Nadu\",\"Andhra Pradesh\",\"Uttar Pradesh\",\"West Bengal\",\"Delhi\",\"Chhattisgarh\",\"Odisha\",\"Rajasthan\",\"Gujarat\",\"Madhya Pradesh\",\"Haryana\",\"Bihar\",\"Telengana\",\"Punjab\",\"Assam\",\"Jharkhand\",\"Uttarakhand\",\"Jammu and Kashmir\",\"Himachal Pradesh\",\"Goa\",\"Puducherry\",\"Manipur\",\"Tripura\",\"Chandigarh\",\"Meghalaya\",\"Arunachal Pradesh\",\"Mizoram\",\"Nagaland\",\"Sikkim\",\"Ladakh\",\"Dadra and Nagar Haveli and Daman and Diu\",\"Lakshadweep\",\"Andaman and Nicobar\"],\"xaxis\":\"x\",\"y\":[127031,15350,36157,33724,13132,22719,17999,25027,13496,5058,8950,10076,10512,9599,9629,3759,16233,4999,5120,7356,4364,3507,3111,1778,1376,728,809,945,202,122,528,324,206,4,49,129],\"yaxis\":\"y\"}],                        {\"barmode\":\"relative\",\"legend\":{\"tracegroupgap\":0},\"margin\":{\"t\":60},\"template\":{\"data\":{\"bar\":[{\"error_x\":{\"color\":\"#2a3f5f\"},\"error_y\":{\"color\":\"#2a3f5f\"},\"marker\":{\"line\":{\"color\":\"#E5ECF6\",\"width\":0.5},\"pattern\":{\"fillmode\":\"overlay\",\"size\":10,\"solidity\":0.2}},\"type\":\"bar\"}],\"barpolar\":[{\"marker\":{\"line\":{\"color\":\"#E5ECF6\",\"width\":0.5},\"pattern\":{\"fillmode\":\"overlay\",\"size\":10,\"solidity\":0.2}},\"type\":\"barpolar\"}],\"carpet\":[{\"aaxis\":{\"endlinecolor\":\"#2a3f5f\",\"gridcolor\":\"white\",\"linecolor\":\"white\",\"minorgridcolor\":\"white\",\"startlinecolor\":\"#2a3f5f\"},\"baxis\":{\"endlinecolor\":\"#2a3f5f\",\"gridcolor\":\"white\",\"linecolor\":\"white\",\"minorgridcolor\":\"white\",\"startlinecolor\":\"#2a3f5f\"},\"type\":\"carpet\"}],\"choropleth\":[{\"colorbar\":{\"outlinewidth\":0,\"ticks\":\"\"},\"type\":\"choropleth\"}],\"contour\":[{\"colorbar\":{\"outlinewidth\":0,\"ticks\":\"\"},\"colorscale\":[[0.0,\"#0d0887\"],[0.1111111111111111,\"#46039f\"],[0.2222222222222222,\"#7201a8\"],[0.3333333333333333,\"#9c179e\"],[0.4444444444444444,\"#bd3786\"],[0.5555555555555556,\"#d8576b\"],[0.6666666666666666,\"#ed7953\"],[0.7777777777777778,\"#fb9f3a\"],[0.8888888888888888,\"#fdca26\"],[1.0,\"#f0f921\"]],\"type\":\"contour\"}],\"contourcarpet\":[{\"colorbar\":{\"outlinewidth\":0,\"ticks\":\"\"},\"type\":\"contourcarpet\"}],\"heatmap\":[{\"colorbar\":{\"outlinewidth\":0,\"ticks\":\"\"},\"colorscale\":[[0.0,\"#0d0887\"],[0.1111111111111111,\"#46039f\"],[0.2222222222222222,\"#7201a8\"],[0.3333333333333333,\"#9c179e\"],[0.4444444444444444,\"#bd3786\"],[0.5555555555555556,\"#d8576b\"],[0.6666666666666666,\"#ed7953\"],[0.7777777777777778,\"#fb9f3a\"],[0.8888888888888888,\"#fdca26\"],[1.0,\"#f0f921\"]],\"type\":\"heatmap\"}],\"heatmapgl\":[{\"colorbar\":{\"outlinewidth\":0,\"ticks\":\"\"},\"colorscale\":[[0.0,\"#0d0887\"],[0.1111111111111111,\"#46039f\"],[0.2222222222222222,\"#7201a8\"],[0.3333333333333333,\"#9c179e\"],[0.4444444444444444,\"#bd3786\"],[0.5555555555555556,\"#d8576b\"],[0.6666666666666666,\"#ed7953\"],[0.7777777777777778,\"#fb9f3a\"],[0.8888888888888888,\"#fdca26\"],[1.0,\"#f0f921\"]],\"type\":\"heatmapgl\"}],\"histogram\":[{\"marker\":{\"pattern\":{\"fillmode\":\"overlay\",\"size\":10,\"solidity\":0.2}},\"type\":\"histogram\"}],\"histogram2d\":[{\"colorbar\":{\"outlinewidth\":0,\"ticks\":\"\"},\"colorscale\":[[0.0,\"#0d0887\"],[0.1111111111111111,\"#46039f\"],[0.2222222222222222,\"#7201a8\"],[0.3333333333333333,\"#9c179e\"],[0.4444444444444444,\"#bd3786\"],[0.5555555555555556,\"#d8576b\"],[0.6666666666666666,\"#ed7953\"],[0.7777777777777778,\"#fb9f3a\"],[0.8888888888888888,\"#fdca26\"],[1.0,\"#f0f921\"]],\"type\":\"histogram2d\"}],\"histogram2dcontour\":[{\"colorbar\":{\"outlinewidth\":0,\"ticks\":\"\"},\"colorscale\":[[0.0,\"#0d0887\"],[0.1111111111111111,\"#46039f\"],[0.2222222222222222,\"#7201a8\"],[0.3333333333333333,\"#9c179e\"],[0.4444444444444444,\"#bd3786\"],[0.5555555555555556,\"#d8576b\"],[0.6666666666666666,\"#ed7953\"],[0.7777777777777778,\"#fb9f3a\"],[0.8888888888888888,\"#fdca26\"],[1.0,\"#f0f921\"]],\"type\":\"histogram2dcontour\"}],\"mesh3d\":[{\"colorbar\":{\"outlinewidth\":0,\"ticks\":\"\"},\"type\":\"mesh3d\"}],\"parcoords\":[{\"line\":{\"colorbar\":{\"outlinewidth\":0,\"ticks\":\"\"}},\"type\":\"parcoords\"}],\"pie\":[{\"automargin\":true,\"type\":\"pie\"}],\"scatter\":[{\"marker\":{\"colorbar\":{\"outlinewidth\":0,\"ticks\":\"\"}},\"type\":\"scatter\"}],\"scatter3d\":[{\"line\":{\"colorbar\":{\"outlinewidth\":0,\"ticks\":\"\"}},\"marker\":{\"colorbar\":{\"outlinewidth\":0,\"ticks\":\"\"}},\"type\":\"scatter3d\"}],\"scattercarpet\":[{\"marker\":{\"colorbar\":{\"outlinewidth\":0,\"ticks\":\"\"}},\"type\":\"scattercarpet\"}],\"scattergeo\":[{\"marker\":{\"colorbar\":{\"outlinewidth\":0,\"ticks\":\"\"}},\"type\":\"scattergeo\"}],\"scattergl\":[{\"marker\":{\"colorbar\":{\"outlinewidth\":0,\"ticks\":\"\"}},\"type\":\"scattergl\"}],\"scattermapbox\":[{\"marker\":{\"colorbar\":{\"outlinewidth\":0,\"ticks\":\"\"}},\"type\":\"scattermapbox\"}],\"scatterpolar\":[{\"marker\":{\"colorbar\":{\"outlinewidth\":0,\"ticks\":\"\"}},\"type\":\"scatterpolar\"}],\"scatterpolargl\":[{\"marker\":{\"colorbar\":{\"outlinewidth\":0,\"ticks\":\"\"}},\"type\":\"scatterpolargl\"}],\"scatterternary\":[{\"marker\":{\"colorbar\":{\"outlinewidth\":0,\"ticks\":\"\"}},\"type\":\"scatterternary\"}],\"surface\":[{\"colorbar\":{\"outlinewidth\":0,\"ticks\":\"\"},\"colorscale\":[[0.0,\"#0d0887\"],[0.1111111111111111,\"#46039f\"],[0.2222222222222222,\"#7201a8\"],[0.3333333333333333,\"#9c179e\"],[0.4444444444444444,\"#bd3786\"],[0.5555555555555556,\"#d8576b\"],[0.6666666666666666,\"#ed7953\"],[0.7777777777777778,\"#fb9f3a\"],[0.8888888888888888,\"#fdca26\"],[1.0,\"#f0f921\"]],\"type\":\"surface\"}],\"table\":[{\"cells\":{\"fill\":{\"color\":\"#EBF0F8\"},\"line\":{\"color\":\"white\"}},\"header\":{\"fill\":{\"color\":\"#C8D4E3\"},\"line\":{\"color\":\"white\"}},\"type\":\"table\"}]},\"layout\":{\"annotationdefaults\":{\"arrowcolor\":\"#2a3f5f\",\"arrowhead\":0,\"arrowwidth\":1},\"autotypenumbers\":\"strict\",\"coloraxis\":{\"colorbar\":{\"outlinewidth\":0,\"ticks\":\"\"}},\"colorscale\":{\"diverging\":[[0,\"#8e0152\"],[0.1,\"#c51b7d\"],[0.2,\"#de77ae\"],[0.3,\"#f1b6da\"],[0.4,\"#fde0ef\"],[0.5,\"#f7f7f7\"],[0.6,\"#e6f5d0\"],[0.7,\"#b8e186\"],[0.8,\"#7fbc41\"],[0.9,\"#4d9221\"],[1,\"#276419\"]],\"sequential\":[[0.0,\"#0d0887\"],[0.1111111111111111,\"#46039f\"],[0.2222222222222222,\"#7201a8\"],[0.3333333333333333,\"#9c179e\"],[0.4444444444444444,\"#bd3786\"],[0.5555555555555556,\"#d8576b\"],[0.6666666666666666,\"#ed7953\"],[0.7777777777777778,\"#fb9f3a\"],[0.8888888888888888,\"#fdca26\"],[1.0,\"#f0f921\"]],\"sequentialminus\":[[0.0,\"#0d0887\"],[0.1111111111111111,\"#46039f\"],[0.2222222222222222,\"#7201a8\"],[0.3333333333333333,\"#9c179e\"],[0.4444444444444444,\"#bd3786\"],[0.5555555555555556,\"#d8576b\"],[0.6666666666666666,\"#ed7953\"],[0.7777777777777778,\"#fb9f3a\"],[0.8888888888888888,\"#fdca26\"],[1.0,\"#f0f921\"]]},\"colorway\":[\"#636efa\",\"#EF553B\",\"#00cc96\",\"#ab63fa\",\"#FFA15A\",\"#19d3f3\",\"#FF6692\",\"#B6E880\",\"#FF97FF\",\"#FECB52\"],\"font\":{\"color\":\"#2a3f5f\"},\"geo\":{\"bgcolor\":\"white\",\"lakecolor\":\"white\",\"landcolor\":\"#E5ECF6\",\"showlakes\":true,\"showland\":true,\"subunitcolor\":\"white\"},\"hoverlabel\":{\"align\":\"left\"},\"hovermode\":\"closest\",\"mapbox\":{\"style\":\"light\"},\"paper_bgcolor\":\"white\",\"plot_bgcolor\":\"#E5ECF6\",\"polar\":{\"angularaxis\":{\"gridcolor\":\"white\",\"linecolor\":\"white\",\"ticks\":\"\"},\"bgcolor\":\"#E5ECF6\",\"radialaxis\":{\"gridcolor\":\"white\",\"linecolor\":\"white\",\"ticks\":\"\"}},\"scene\":{\"xaxis\":{\"backgroundcolor\":\"#E5ECF6\",\"gridcolor\":\"white\",\"gridwidth\":2,\"linecolor\":\"white\",\"showbackground\":true,\"ticks\":\"\",\"zerolinecolor\":\"white\"},\"yaxis\":{\"backgroundcolor\":\"#E5ECF6\",\"gridcolor\":\"white\",\"gridwidth\":2,\"linecolor\":\"white\",\"showbackground\":true,\"ticks\":\"\",\"zerolinecolor\":\"white\"},\"zaxis\":{\"backgroundcolor\":\"#E5ECF6\",\"gridcolor\":\"white\",\"gridwidth\":2,\"linecolor\":\"white\",\"showbackground\":true,\"ticks\":\"\",\"zerolinecolor\":\"white\"}},\"shapedefaults\":{\"line\":{\"color\":\"#2a3f5f\"}},\"ternary\":{\"aaxis\":{\"gridcolor\":\"white\",\"linecolor\":\"white\",\"ticks\":\"\"},\"baxis\":{\"gridcolor\":\"white\",\"linecolor\":\"white\",\"ticks\":\"\"},\"bgcolor\":\"#E5ECF6\",\"caxis\":{\"gridcolor\":\"white\",\"linecolor\":\"white\",\"ticks\":\"\"}},\"title\":{\"x\":0.05},\"xaxis\":{\"automargin\":true,\"gridcolor\":\"white\",\"linecolor\":\"white\",\"ticks\":\"\",\"title\":{\"standoff\":15},\"zerolinecolor\":\"white\",\"zerolinewidth\":2},\"yaxis\":{\"automargin\":true,\"gridcolor\":\"white\",\"linecolor\":\"white\",\"ticks\":\"\",\"title\":{\"standoff\":15},\"zerolinecolor\":\"white\",\"zerolinewidth\":2}}},\"xaxis\":{\"anchor\":\"y\",\"domain\":[0.0,1.0],\"title\":{\"text\":\"State/UTs\"}},\"yaxis\":{\"anchor\":\"x\",\"domain\":[0.0,1.0],\"title\":{\"text\":\"Deaths\"}}},                        {\"responsive\": true}                    ).then(function(){\n",
       "                            \n",
       "var gd = document.getElementById('60734398-b0c7-4dc8-8873-3e06dbc08dd0');\n",
       "var x = new MutationObserver(function (mutations, observer) {{\n",
       "        var display = window.getComputedStyle(gd).display;\n",
       "        if (!display || display === 'none') {{\n",
       "            console.log([gd, 'removed!']);\n",
       "            Plotly.purge(gd);\n",
       "            observer.disconnect();\n",
       "        }}\n",
       "}});\n",
       "\n",
       "// Listen for the removal of the full notebook cells\n",
       "var notebookContainer = gd.closest('#notebook-container');\n",
       "if (notebookContainer) {{\n",
       "    x.observe(notebookContainer, {childList: true});\n",
       "}}\n",
       "\n",
       "// Listen for the clearing of the current output cell\n",
       "var outputEl = gd.closest('.output');\n",
       "if (outputEl) {{\n",
       "    x.observe(outputEl, {childList: true});\n",
       "}}\n",
       "\n",
       "                        })                };                });            </script>        </div>"
      ]
     },
     "metadata": {},
     "output_type": "display_data"
    }
   ],
   "source": [
    "px.bar(df,x='State/UTs',y='Deaths')"
   ]
  },
  {
   "cell_type": "code",
   "execution_count": 19,
   "metadata": {},
   "outputs": [
    {
     "data": {
      "application/vnd.plotly.v1+json": {
       "config": {
        "linkText": "Export to plot.ly",
        "plotlyServerURL": "https://plot.ly",
        "showLink": true
       },
       "data": [
        {
         "line": {
          "color": "rgba(219, 64, 82, 1.0)",
          "dash": "solid",
          "shape": "linear",
          "width": 1.3
         },
         "marker": {
          "size": 10,
          "symbol": "circle"
         },
         "mode": "markers+lines",
         "name": "Total Cases",
         "text": "",
         "type": "scatter",
         "x": [
          "Maharashtra",
          "Kerala",
          "Karnataka",
          "Tamil Nadu",
          "Andhra Pradesh",
          "Uttar Pradesh",
          "West Bengal",
          "Delhi",
          "Chhattisgarh",
          "Odisha",
          "Rajasthan",
          "Gujarat",
          "Madhya Pradesh",
          "Haryana",
          "Bihar",
          "Telengana",
          "Punjab",
          "Assam",
          "Jharkhand",
          "Uttarakhand",
          "Jammu and Kashmir",
          "Himachal Pradesh",
          "Goa",
          "Puducherry",
          "Manipur",
          "Tripura",
          "Chandigarh",
          "Meghalaya",
          "Arunachal Pradesh",
          "Mizoram",
          "Nagaland",
          "Sikkim",
          "Ladakh",
          "Dadra and Nagar Haveli and Daman and Diu",
          "Lakshadweep",
          "Andaman and Nicobar"
         ],
         "y": [
          6214190,
          3160937,
          2883947,
          2535402,
          1940096,
          1707847,
          1518181,
          1435529,
          999853,
          954326,
          953360,
          824497,
          791658,
          769539,
          723945,
          636627,
          598334,
          547283,
          346681,
          341452,
          319901,
          204391,
          169740,
          119703,
          84822,
          73901,
          61889,
          57388,
          42820,
          27488,
          26682,
          23392,
          20257,
          10597,
          10064,
          7510
         ]
        }
       ],
       "layout": {
        "legend": {
         "bgcolor": "#F5F6F9",
         "font": {
          "color": "#4D5663"
         }
        },
        "paper_bgcolor": "#F5F6F9",
        "plot_bgcolor": "#F5F6F9",
        "template": {
         "data": {
          "bar": [
           {
            "error_x": {
             "color": "#2a3f5f"
            },
            "error_y": {
             "color": "#2a3f5f"
            },
            "marker": {
             "line": {
              "color": "#E5ECF6",
              "width": 0.5
             },
             "pattern": {
              "fillmode": "overlay",
              "size": 10,
              "solidity": 0.2
             }
            },
            "type": "bar"
           }
          ],
          "barpolar": [
           {
            "marker": {
             "line": {
              "color": "#E5ECF6",
              "width": 0.5
             },
             "pattern": {
              "fillmode": "overlay",
              "size": 10,
              "solidity": 0.2
             }
            },
            "type": "barpolar"
           }
          ],
          "carpet": [
           {
            "aaxis": {
             "endlinecolor": "#2a3f5f",
             "gridcolor": "white",
             "linecolor": "white",
             "minorgridcolor": "white",
             "startlinecolor": "#2a3f5f"
            },
            "baxis": {
             "endlinecolor": "#2a3f5f",
             "gridcolor": "white",
             "linecolor": "white",
             "minorgridcolor": "white",
             "startlinecolor": "#2a3f5f"
            },
            "type": "carpet"
           }
          ],
          "choropleth": [
           {
            "colorbar": {
             "outlinewidth": 0,
             "ticks": ""
            },
            "type": "choropleth"
           }
          ],
          "contour": [
           {
            "colorbar": {
             "outlinewidth": 0,
             "ticks": ""
            },
            "colorscale": [
             [
              0,
              "#0d0887"
             ],
             [
              0.1111111111111111,
              "#46039f"
             ],
             [
              0.2222222222222222,
              "#7201a8"
             ],
             [
              0.3333333333333333,
              "#9c179e"
             ],
             [
              0.4444444444444444,
              "#bd3786"
             ],
             [
              0.5555555555555556,
              "#d8576b"
             ],
             [
              0.6666666666666666,
              "#ed7953"
             ],
             [
              0.7777777777777778,
              "#fb9f3a"
             ],
             [
              0.8888888888888888,
              "#fdca26"
             ],
             [
              1,
              "#f0f921"
             ]
            ],
            "type": "contour"
           }
          ],
          "contourcarpet": [
           {
            "colorbar": {
             "outlinewidth": 0,
             "ticks": ""
            },
            "type": "contourcarpet"
           }
          ],
          "heatmap": [
           {
            "colorbar": {
             "outlinewidth": 0,
             "ticks": ""
            },
            "colorscale": [
             [
              0,
              "#0d0887"
             ],
             [
              0.1111111111111111,
              "#46039f"
             ],
             [
              0.2222222222222222,
              "#7201a8"
             ],
             [
              0.3333333333333333,
              "#9c179e"
             ],
             [
              0.4444444444444444,
              "#bd3786"
             ],
             [
              0.5555555555555556,
              "#d8576b"
             ],
             [
              0.6666666666666666,
              "#ed7953"
             ],
             [
              0.7777777777777778,
              "#fb9f3a"
             ],
             [
              0.8888888888888888,
              "#fdca26"
             ],
             [
              1,
              "#f0f921"
             ]
            ],
            "type": "heatmap"
           }
          ],
          "heatmapgl": [
           {
            "colorbar": {
             "outlinewidth": 0,
             "ticks": ""
            },
            "colorscale": [
             [
              0,
              "#0d0887"
             ],
             [
              0.1111111111111111,
              "#46039f"
             ],
             [
              0.2222222222222222,
              "#7201a8"
             ],
             [
              0.3333333333333333,
              "#9c179e"
             ],
             [
              0.4444444444444444,
              "#bd3786"
             ],
             [
              0.5555555555555556,
              "#d8576b"
             ],
             [
              0.6666666666666666,
              "#ed7953"
             ],
             [
              0.7777777777777778,
              "#fb9f3a"
             ],
             [
              0.8888888888888888,
              "#fdca26"
             ],
             [
              1,
              "#f0f921"
             ]
            ],
            "type": "heatmapgl"
           }
          ],
          "histogram": [
           {
            "marker": {
             "pattern": {
              "fillmode": "overlay",
              "size": 10,
              "solidity": 0.2
             }
            },
            "type": "histogram"
           }
          ],
          "histogram2d": [
           {
            "colorbar": {
             "outlinewidth": 0,
             "ticks": ""
            },
            "colorscale": [
             [
              0,
              "#0d0887"
             ],
             [
              0.1111111111111111,
              "#46039f"
             ],
             [
              0.2222222222222222,
              "#7201a8"
             ],
             [
              0.3333333333333333,
              "#9c179e"
             ],
             [
              0.4444444444444444,
              "#bd3786"
             ],
             [
              0.5555555555555556,
              "#d8576b"
             ],
             [
              0.6666666666666666,
              "#ed7953"
             ],
             [
              0.7777777777777778,
              "#fb9f3a"
             ],
             [
              0.8888888888888888,
              "#fdca26"
             ],
             [
              1,
              "#f0f921"
             ]
            ],
            "type": "histogram2d"
           }
          ],
          "histogram2dcontour": [
           {
            "colorbar": {
             "outlinewidth": 0,
             "ticks": ""
            },
            "colorscale": [
             [
              0,
              "#0d0887"
             ],
             [
              0.1111111111111111,
              "#46039f"
             ],
             [
              0.2222222222222222,
              "#7201a8"
             ],
             [
              0.3333333333333333,
              "#9c179e"
             ],
             [
              0.4444444444444444,
              "#bd3786"
             ],
             [
              0.5555555555555556,
              "#d8576b"
             ],
             [
              0.6666666666666666,
              "#ed7953"
             ],
             [
              0.7777777777777778,
              "#fb9f3a"
             ],
             [
              0.8888888888888888,
              "#fdca26"
             ],
             [
              1,
              "#f0f921"
             ]
            ],
            "type": "histogram2dcontour"
           }
          ],
          "mesh3d": [
           {
            "colorbar": {
             "outlinewidth": 0,
             "ticks": ""
            },
            "type": "mesh3d"
           }
          ],
          "parcoords": [
           {
            "line": {
             "colorbar": {
              "outlinewidth": 0,
              "ticks": ""
             }
            },
            "type": "parcoords"
           }
          ],
          "pie": [
           {
            "automargin": true,
            "type": "pie"
           }
          ],
          "scatter": [
           {
            "marker": {
             "colorbar": {
              "outlinewidth": 0,
              "ticks": ""
             }
            },
            "type": "scatter"
           }
          ],
          "scatter3d": [
           {
            "line": {
             "colorbar": {
              "outlinewidth": 0,
              "ticks": ""
             }
            },
            "marker": {
             "colorbar": {
              "outlinewidth": 0,
              "ticks": ""
             }
            },
            "type": "scatter3d"
           }
          ],
          "scattercarpet": [
           {
            "marker": {
             "colorbar": {
              "outlinewidth": 0,
              "ticks": ""
             }
            },
            "type": "scattercarpet"
           }
          ],
          "scattergeo": [
           {
            "marker": {
             "colorbar": {
              "outlinewidth": 0,
              "ticks": ""
             }
            },
            "type": "scattergeo"
           }
          ],
          "scattergl": [
           {
            "marker": {
             "colorbar": {
              "outlinewidth": 0,
              "ticks": ""
             }
            },
            "type": "scattergl"
           }
          ],
          "scattermapbox": [
           {
            "marker": {
             "colorbar": {
              "outlinewidth": 0,
              "ticks": ""
             }
            },
            "type": "scattermapbox"
           }
          ],
          "scatterpolar": [
           {
            "marker": {
             "colorbar": {
              "outlinewidth": 0,
              "ticks": ""
             }
            },
            "type": "scatterpolar"
           }
          ],
          "scatterpolargl": [
           {
            "marker": {
             "colorbar": {
              "outlinewidth": 0,
              "ticks": ""
             }
            },
            "type": "scatterpolargl"
           }
          ],
          "scatterternary": [
           {
            "marker": {
             "colorbar": {
              "outlinewidth": 0,
              "ticks": ""
             }
            },
            "type": "scatterternary"
           }
          ],
          "surface": [
           {
            "colorbar": {
             "outlinewidth": 0,
             "ticks": ""
            },
            "colorscale": [
             [
              0,
              "#0d0887"
             ],
             [
              0.1111111111111111,
              "#46039f"
             ],
             [
              0.2222222222222222,
              "#7201a8"
             ],
             [
              0.3333333333333333,
              "#9c179e"
             ],
             [
              0.4444444444444444,
              "#bd3786"
             ],
             [
              0.5555555555555556,
              "#d8576b"
             ],
             [
              0.6666666666666666,
              "#ed7953"
             ],
             [
              0.7777777777777778,
              "#fb9f3a"
             ],
             [
              0.8888888888888888,
              "#fdca26"
             ],
             [
              1,
              "#f0f921"
             ]
            ],
            "type": "surface"
           }
          ],
          "table": [
           {
            "cells": {
             "fill": {
              "color": "#EBF0F8"
             },
             "line": {
              "color": "white"
             }
            },
            "header": {
             "fill": {
              "color": "#C8D4E3"
             },
             "line": {
              "color": "white"
             }
            },
            "type": "table"
           }
          ]
         },
         "layout": {
          "annotationdefaults": {
           "arrowcolor": "#2a3f5f",
           "arrowhead": 0,
           "arrowwidth": 1
          },
          "autotypenumbers": "strict",
          "coloraxis": {
           "colorbar": {
            "outlinewidth": 0,
            "ticks": ""
           }
          },
          "colorscale": {
           "diverging": [
            [
             0,
             "#8e0152"
            ],
            [
             0.1,
             "#c51b7d"
            ],
            [
             0.2,
             "#de77ae"
            ],
            [
             0.3,
             "#f1b6da"
            ],
            [
             0.4,
             "#fde0ef"
            ],
            [
             0.5,
             "#f7f7f7"
            ],
            [
             0.6,
             "#e6f5d0"
            ],
            [
             0.7,
             "#b8e186"
            ],
            [
             0.8,
             "#7fbc41"
            ],
            [
             0.9,
             "#4d9221"
            ],
            [
             1,
             "#276419"
            ]
           ],
           "sequential": [
            [
             0,
             "#0d0887"
            ],
            [
             0.1111111111111111,
             "#46039f"
            ],
            [
             0.2222222222222222,
             "#7201a8"
            ],
            [
             0.3333333333333333,
             "#9c179e"
            ],
            [
             0.4444444444444444,
             "#bd3786"
            ],
            [
             0.5555555555555556,
             "#d8576b"
            ],
            [
             0.6666666666666666,
             "#ed7953"
            ],
            [
             0.7777777777777778,
             "#fb9f3a"
            ],
            [
             0.8888888888888888,
             "#fdca26"
            ],
            [
             1,
             "#f0f921"
            ]
           ],
           "sequentialminus": [
            [
             0,
             "#0d0887"
            ],
            [
             0.1111111111111111,
             "#46039f"
            ],
            [
             0.2222222222222222,
             "#7201a8"
            ],
            [
             0.3333333333333333,
             "#9c179e"
            ],
            [
             0.4444444444444444,
             "#bd3786"
            ],
            [
             0.5555555555555556,
             "#d8576b"
            ],
            [
             0.6666666666666666,
             "#ed7953"
            ],
            [
             0.7777777777777778,
             "#fb9f3a"
            ],
            [
             0.8888888888888888,
             "#fdca26"
            ],
            [
             1,
             "#f0f921"
            ]
           ]
          },
          "colorway": [
           "#636efa",
           "#EF553B",
           "#00cc96",
           "#ab63fa",
           "#FFA15A",
           "#19d3f3",
           "#FF6692",
           "#B6E880",
           "#FF97FF",
           "#FECB52"
          ],
          "font": {
           "color": "#2a3f5f"
          },
          "geo": {
           "bgcolor": "white",
           "lakecolor": "white",
           "landcolor": "#E5ECF6",
           "showlakes": true,
           "showland": true,
           "subunitcolor": "white"
          },
          "hoverlabel": {
           "align": "left"
          },
          "hovermode": "closest",
          "mapbox": {
           "style": "light"
          },
          "paper_bgcolor": "white",
          "plot_bgcolor": "#E5ECF6",
          "polar": {
           "angularaxis": {
            "gridcolor": "white",
            "linecolor": "white",
            "ticks": ""
           },
           "bgcolor": "#E5ECF6",
           "radialaxis": {
            "gridcolor": "white",
            "linecolor": "white",
            "ticks": ""
           }
          },
          "scene": {
           "xaxis": {
            "backgroundcolor": "#E5ECF6",
            "gridcolor": "white",
            "gridwidth": 2,
            "linecolor": "white",
            "showbackground": true,
            "ticks": "",
            "zerolinecolor": "white"
           },
           "yaxis": {
            "backgroundcolor": "#E5ECF6",
            "gridcolor": "white",
            "gridwidth": 2,
            "linecolor": "white",
            "showbackground": true,
            "ticks": "",
            "zerolinecolor": "white"
           },
           "zaxis": {
            "backgroundcolor": "#E5ECF6",
            "gridcolor": "white",
            "gridwidth": 2,
            "linecolor": "white",
            "showbackground": true,
            "ticks": "",
            "zerolinecolor": "white"
           }
          },
          "shapedefaults": {
           "line": {
            "color": "#2a3f5f"
           }
          },
          "ternary": {
           "aaxis": {
            "gridcolor": "white",
            "linecolor": "white",
            "ticks": ""
           },
           "baxis": {
            "gridcolor": "white",
            "linecolor": "white",
            "ticks": ""
           },
           "bgcolor": "#E5ECF6",
           "caxis": {
            "gridcolor": "white",
            "linecolor": "white",
            "ticks": ""
           }
          },
          "title": {
           "x": 0.05
          },
          "xaxis": {
           "automargin": true,
           "gridcolor": "white",
           "linecolor": "white",
           "ticks": "",
           "title": {
            "standoff": 15
           },
           "zerolinecolor": "white",
           "zerolinewidth": 2
          },
          "yaxis": {
           "automargin": true,
           "gridcolor": "white",
           "linecolor": "white",
           "ticks": "",
           "title": {
            "standoff": 15
           },
           "zerolinecolor": "white",
           "zerolinewidth": 2
          }
         }
        },
        "title": {
         "font": {
          "color": "#4D5663"
         },
         "text": "corona"
        },
        "xaxis": {
         "gridcolor": "#E1E5ED",
         "showgrid": true,
         "tickfont": {
          "color": "#4D5663"
         },
         "title": {
          "font": {
           "color": "#4D5663"
          },
          "text": "State/UTs"
         },
         "zerolinecolor": "#E1E5ED"
        },
        "yaxis": {
         "gridcolor": "#E1E5ED",
         "showgrid": true,
         "tickfont": {
          "color": "#4D5663"
         },
         "title": {
          "font": {
           "color": "#4D5663"
          },
          "text": "Total Cases"
         },
         "zerolinecolor": "#E1E5ED"
        }
       }
      },
      "text/html": [
       "<div>                            <div id=\"85d66a3c-ab9b-4cfb-8760-8be9452c68c3\" class=\"plotly-graph-div\" style=\"height:525px; width:100%;\"></div>            <script type=\"text/javascript\">                require([\"plotly\"], function(Plotly) {                    window.PLOTLYENV=window.PLOTLYENV || {};\n",
       "                    window.PLOTLYENV.BASE_URL='https://plot.ly';                                    if (document.getElementById(\"85d66a3c-ab9b-4cfb-8760-8be9452c68c3\")) {                    Plotly.newPlot(                        \"85d66a3c-ab9b-4cfb-8760-8be9452c68c3\",                        [{\"line\":{\"color\":\"rgba(219, 64, 82, 1.0)\",\"dash\":\"solid\",\"shape\":\"linear\",\"width\":1.3},\"marker\":{\"size\":10,\"symbol\":\"circle\"},\"mode\":\"markers+lines\",\"name\":\"Total Cases\",\"text\":\"\",\"type\":\"scatter\",\"x\":[\"Maharashtra\",\"Kerala\",\"Karnataka\",\"Tamil Nadu\",\"Andhra Pradesh\",\"Uttar Pradesh\",\"West Bengal\",\"Delhi\",\"Chhattisgarh\",\"Odisha\",\"Rajasthan\",\"Gujarat\",\"Madhya Pradesh\",\"Haryana\",\"Bihar\",\"Telengana\",\"Punjab\",\"Assam\",\"Jharkhand\",\"Uttarakhand\",\"Jammu and Kashmir\",\"Himachal Pradesh\",\"Goa\",\"Puducherry\",\"Manipur\",\"Tripura\",\"Chandigarh\",\"Meghalaya\",\"Arunachal Pradesh\",\"Mizoram\",\"Nagaland\",\"Sikkim\",\"Ladakh\",\"Dadra and Nagar Haveli and Daman and Diu\",\"Lakshadweep\",\"Andaman and Nicobar\"],\"y\":[6214190,3160937,2883947,2535402,1940096,1707847,1518181,1435529,999853,954326,953360,824497,791658,769539,723945,636627,598334,547283,346681,341452,319901,204391,169740,119703,84822,73901,61889,57388,42820,27488,26682,23392,20257,10597,10064,7510]}],                        {\"legend\":{\"bgcolor\":\"#F5F6F9\",\"font\":{\"color\":\"#4D5663\"}},\"paper_bgcolor\":\"#F5F6F9\",\"plot_bgcolor\":\"#F5F6F9\",\"template\":{\"data\":{\"bar\":[{\"error_x\":{\"color\":\"#2a3f5f\"},\"error_y\":{\"color\":\"#2a3f5f\"},\"marker\":{\"line\":{\"color\":\"#E5ECF6\",\"width\":0.5},\"pattern\":{\"fillmode\":\"overlay\",\"size\":10,\"solidity\":0.2}},\"type\":\"bar\"}],\"barpolar\":[{\"marker\":{\"line\":{\"color\":\"#E5ECF6\",\"width\":0.5},\"pattern\":{\"fillmode\":\"overlay\",\"size\":10,\"solidity\":0.2}},\"type\":\"barpolar\"}],\"carpet\":[{\"aaxis\":{\"endlinecolor\":\"#2a3f5f\",\"gridcolor\":\"white\",\"linecolor\":\"white\",\"minorgridcolor\":\"white\",\"startlinecolor\":\"#2a3f5f\"},\"baxis\":{\"endlinecolor\":\"#2a3f5f\",\"gridcolor\":\"white\",\"linecolor\":\"white\",\"minorgridcolor\":\"white\",\"startlinecolor\":\"#2a3f5f\"},\"type\":\"carpet\"}],\"choropleth\":[{\"colorbar\":{\"outlinewidth\":0,\"ticks\":\"\"},\"type\":\"choropleth\"}],\"contour\":[{\"colorbar\":{\"outlinewidth\":0,\"ticks\":\"\"},\"colorscale\":[[0.0,\"#0d0887\"],[0.1111111111111111,\"#46039f\"],[0.2222222222222222,\"#7201a8\"],[0.3333333333333333,\"#9c179e\"],[0.4444444444444444,\"#bd3786\"],[0.5555555555555556,\"#d8576b\"],[0.6666666666666666,\"#ed7953\"],[0.7777777777777778,\"#fb9f3a\"],[0.8888888888888888,\"#fdca26\"],[1.0,\"#f0f921\"]],\"type\":\"contour\"}],\"contourcarpet\":[{\"colorbar\":{\"outlinewidth\":0,\"ticks\":\"\"},\"type\":\"contourcarpet\"}],\"heatmap\":[{\"colorbar\":{\"outlinewidth\":0,\"ticks\":\"\"},\"colorscale\":[[0.0,\"#0d0887\"],[0.1111111111111111,\"#46039f\"],[0.2222222222222222,\"#7201a8\"],[0.3333333333333333,\"#9c179e\"],[0.4444444444444444,\"#bd3786\"],[0.5555555555555556,\"#d8576b\"],[0.6666666666666666,\"#ed7953\"],[0.7777777777777778,\"#fb9f3a\"],[0.8888888888888888,\"#fdca26\"],[1.0,\"#f0f921\"]],\"type\":\"heatmap\"}],\"heatmapgl\":[{\"colorbar\":{\"outlinewidth\":0,\"ticks\":\"\"},\"colorscale\":[[0.0,\"#0d0887\"],[0.1111111111111111,\"#46039f\"],[0.2222222222222222,\"#7201a8\"],[0.3333333333333333,\"#9c179e\"],[0.4444444444444444,\"#bd3786\"],[0.5555555555555556,\"#d8576b\"],[0.6666666666666666,\"#ed7953\"],[0.7777777777777778,\"#fb9f3a\"],[0.8888888888888888,\"#fdca26\"],[1.0,\"#f0f921\"]],\"type\":\"heatmapgl\"}],\"histogram\":[{\"marker\":{\"pattern\":{\"fillmode\":\"overlay\",\"size\":10,\"solidity\":0.2}},\"type\":\"histogram\"}],\"histogram2d\":[{\"colorbar\":{\"outlinewidth\":0,\"ticks\":\"\"},\"colorscale\":[[0.0,\"#0d0887\"],[0.1111111111111111,\"#46039f\"],[0.2222222222222222,\"#7201a8\"],[0.3333333333333333,\"#9c179e\"],[0.4444444444444444,\"#bd3786\"],[0.5555555555555556,\"#d8576b\"],[0.6666666666666666,\"#ed7953\"],[0.7777777777777778,\"#fb9f3a\"],[0.8888888888888888,\"#fdca26\"],[1.0,\"#f0f921\"]],\"type\":\"histogram2d\"}],\"histogram2dcontour\":[{\"colorbar\":{\"outlinewidth\":0,\"ticks\":\"\"},\"colorscale\":[[0.0,\"#0d0887\"],[0.1111111111111111,\"#46039f\"],[0.2222222222222222,\"#7201a8\"],[0.3333333333333333,\"#9c179e\"],[0.4444444444444444,\"#bd3786\"],[0.5555555555555556,\"#d8576b\"],[0.6666666666666666,\"#ed7953\"],[0.7777777777777778,\"#fb9f3a\"],[0.8888888888888888,\"#fdca26\"],[1.0,\"#f0f921\"]],\"type\":\"histogram2dcontour\"}],\"mesh3d\":[{\"colorbar\":{\"outlinewidth\":0,\"ticks\":\"\"},\"type\":\"mesh3d\"}],\"parcoords\":[{\"line\":{\"colorbar\":{\"outlinewidth\":0,\"ticks\":\"\"}},\"type\":\"parcoords\"}],\"pie\":[{\"automargin\":true,\"type\":\"pie\"}],\"scatter\":[{\"marker\":{\"colorbar\":{\"outlinewidth\":0,\"ticks\":\"\"}},\"type\":\"scatter\"}],\"scatter3d\":[{\"line\":{\"colorbar\":{\"outlinewidth\":0,\"ticks\":\"\"}},\"marker\":{\"colorbar\":{\"outlinewidth\":0,\"ticks\":\"\"}},\"type\":\"scatter3d\"}],\"scattercarpet\":[{\"marker\":{\"colorbar\":{\"outlinewidth\":0,\"ticks\":\"\"}},\"type\":\"scattercarpet\"}],\"scattergeo\":[{\"marker\":{\"colorbar\":{\"outlinewidth\":0,\"ticks\":\"\"}},\"type\":\"scattergeo\"}],\"scattergl\":[{\"marker\":{\"colorbar\":{\"outlinewidth\":0,\"ticks\":\"\"}},\"type\":\"scattergl\"}],\"scattermapbox\":[{\"marker\":{\"colorbar\":{\"outlinewidth\":0,\"ticks\":\"\"}},\"type\":\"scattermapbox\"}],\"scatterpolar\":[{\"marker\":{\"colorbar\":{\"outlinewidth\":0,\"ticks\":\"\"}},\"type\":\"scatterpolar\"}],\"scatterpolargl\":[{\"marker\":{\"colorbar\":{\"outlinewidth\":0,\"ticks\":\"\"}},\"type\":\"scatterpolargl\"}],\"scatterternary\":[{\"marker\":{\"colorbar\":{\"outlinewidth\":0,\"ticks\":\"\"}},\"type\":\"scatterternary\"}],\"surface\":[{\"colorbar\":{\"outlinewidth\":0,\"ticks\":\"\"},\"colorscale\":[[0.0,\"#0d0887\"],[0.1111111111111111,\"#46039f\"],[0.2222222222222222,\"#7201a8\"],[0.3333333333333333,\"#9c179e\"],[0.4444444444444444,\"#bd3786\"],[0.5555555555555556,\"#d8576b\"],[0.6666666666666666,\"#ed7953\"],[0.7777777777777778,\"#fb9f3a\"],[0.8888888888888888,\"#fdca26\"],[1.0,\"#f0f921\"]],\"type\":\"surface\"}],\"table\":[{\"cells\":{\"fill\":{\"color\":\"#EBF0F8\"},\"line\":{\"color\":\"white\"}},\"header\":{\"fill\":{\"color\":\"#C8D4E3\"},\"line\":{\"color\":\"white\"}},\"type\":\"table\"}]},\"layout\":{\"annotationdefaults\":{\"arrowcolor\":\"#2a3f5f\",\"arrowhead\":0,\"arrowwidth\":1},\"autotypenumbers\":\"strict\",\"coloraxis\":{\"colorbar\":{\"outlinewidth\":0,\"ticks\":\"\"}},\"colorscale\":{\"diverging\":[[0,\"#8e0152\"],[0.1,\"#c51b7d\"],[0.2,\"#de77ae\"],[0.3,\"#f1b6da\"],[0.4,\"#fde0ef\"],[0.5,\"#f7f7f7\"],[0.6,\"#e6f5d0\"],[0.7,\"#b8e186\"],[0.8,\"#7fbc41\"],[0.9,\"#4d9221\"],[1,\"#276419\"]],\"sequential\":[[0.0,\"#0d0887\"],[0.1111111111111111,\"#46039f\"],[0.2222222222222222,\"#7201a8\"],[0.3333333333333333,\"#9c179e\"],[0.4444444444444444,\"#bd3786\"],[0.5555555555555556,\"#d8576b\"],[0.6666666666666666,\"#ed7953\"],[0.7777777777777778,\"#fb9f3a\"],[0.8888888888888888,\"#fdca26\"],[1.0,\"#f0f921\"]],\"sequentialminus\":[[0.0,\"#0d0887\"],[0.1111111111111111,\"#46039f\"],[0.2222222222222222,\"#7201a8\"],[0.3333333333333333,\"#9c179e\"],[0.4444444444444444,\"#bd3786\"],[0.5555555555555556,\"#d8576b\"],[0.6666666666666666,\"#ed7953\"],[0.7777777777777778,\"#fb9f3a\"],[0.8888888888888888,\"#fdca26\"],[1.0,\"#f0f921\"]]},\"colorway\":[\"#636efa\",\"#EF553B\",\"#00cc96\",\"#ab63fa\",\"#FFA15A\",\"#19d3f3\",\"#FF6692\",\"#B6E880\",\"#FF97FF\",\"#FECB52\"],\"font\":{\"color\":\"#2a3f5f\"},\"geo\":{\"bgcolor\":\"white\",\"lakecolor\":\"white\",\"landcolor\":\"#E5ECF6\",\"showlakes\":true,\"showland\":true,\"subunitcolor\":\"white\"},\"hoverlabel\":{\"align\":\"left\"},\"hovermode\":\"closest\",\"mapbox\":{\"style\":\"light\"},\"paper_bgcolor\":\"white\",\"plot_bgcolor\":\"#E5ECF6\",\"polar\":{\"angularaxis\":{\"gridcolor\":\"white\",\"linecolor\":\"white\",\"ticks\":\"\"},\"bgcolor\":\"#E5ECF6\",\"radialaxis\":{\"gridcolor\":\"white\",\"linecolor\":\"white\",\"ticks\":\"\"}},\"scene\":{\"xaxis\":{\"backgroundcolor\":\"#E5ECF6\",\"gridcolor\":\"white\",\"gridwidth\":2,\"linecolor\":\"white\",\"showbackground\":true,\"ticks\":\"\",\"zerolinecolor\":\"white\"},\"yaxis\":{\"backgroundcolor\":\"#E5ECF6\",\"gridcolor\":\"white\",\"gridwidth\":2,\"linecolor\":\"white\",\"showbackground\":true,\"ticks\":\"\",\"zerolinecolor\":\"white\"},\"zaxis\":{\"backgroundcolor\":\"#E5ECF6\",\"gridcolor\":\"white\",\"gridwidth\":2,\"linecolor\":\"white\",\"showbackground\":true,\"ticks\":\"\",\"zerolinecolor\":\"white\"}},\"shapedefaults\":{\"line\":{\"color\":\"#2a3f5f\"}},\"ternary\":{\"aaxis\":{\"gridcolor\":\"white\",\"linecolor\":\"white\",\"ticks\":\"\"},\"baxis\":{\"gridcolor\":\"white\",\"linecolor\":\"white\",\"ticks\":\"\"},\"bgcolor\":\"#E5ECF6\",\"caxis\":{\"gridcolor\":\"white\",\"linecolor\":\"white\",\"ticks\":\"\"}},\"title\":{\"x\":0.05},\"xaxis\":{\"automargin\":true,\"gridcolor\":\"white\",\"linecolor\":\"white\",\"ticks\":\"\",\"title\":{\"standoff\":15},\"zerolinecolor\":\"white\",\"zerolinewidth\":2},\"yaxis\":{\"automargin\":true,\"gridcolor\":\"white\",\"linecolor\":\"white\",\"ticks\":\"\",\"title\":{\"standoff\":15},\"zerolinecolor\":\"white\",\"zerolinewidth\":2}}},\"title\":{\"font\":{\"color\":\"#4D5663\"},\"text\":\"corona\"},\"xaxis\":{\"gridcolor\":\"#E1E5ED\",\"showgrid\":true,\"tickfont\":{\"color\":\"#4D5663\"},\"title\":{\"font\":{\"color\":\"#4D5663\"},\"text\":\"State/UTs\"},\"zerolinecolor\":\"#E1E5ED\"},\"yaxis\":{\"gridcolor\":\"#E1E5ED\",\"showgrid\":true,\"tickfont\":{\"color\":\"#4D5663\"},\"title\":{\"font\":{\"color\":\"#4D5663\"},\"text\":\"Total Cases\"},\"zerolinecolor\":\"#E1E5ED\"}},                        {\"showLink\": true, \"linkText\": \"Export to plot.ly\", \"plotlyServerURL\": \"https://plot.ly\", \"responsive\": true}                    ).then(function(){\n",
       "                            \n",
       "var gd = document.getElementById('85d66a3c-ab9b-4cfb-8760-8be9452c68c3');\n",
       "var x = new MutationObserver(function (mutations, observer) {{\n",
       "        var display = window.getComputedStyle(gd).display;\n",
       "        if (!display || display === 'none') {{\n",
       "            console.log([gd, 'removed!']);\n",
       "            Plotly.purge(gd);\n",
       "            observer.disconnect();\n",
       "        }}\n",
       "}});\n",
       "\n",
       "// Listen for the removal of the full notebook cells\n",
       "var notebookContainer = gd.closest('#notebook-container');\n",
       "if (notebookContainer) {{\n",
       "    x.observe(notebookContainer, {childList: true});\n",
       "}}\n",
       "\n",
       "// Listen for the clearing of the current output cell\n",
       "var outputEl = gd.closest('.output');\n",
       "if (outputEl) {{\n",
       "    x.observe(outputEl, {childList: true});\n",
       "}}\n",
       "\n",
       "                        })                };                });            </script>        </div>"
      ]
     },
     "metadata": {},
     "output_type": "display_data"
    },
    {
     "data": {
      "application/vnd.plotly.v1+json": {
       "config": {
        "plotlyServerURL": "https://plot.ly"
       },
       "data": [
        {
         "hovertemplate": "State/UTs=%{x}<br>Total Cases=%{y}<extra></extra>",
         "legendgroup": "",
         "marker": {
          "color": "#636efa",
          "symbol": "circle"
         },
         "mode": "markers",
         "name": "",
         "orientation": "v",
         "showlegend": false,
         "type": "scatter",
         "x": [
          "Maharashtra",
          "Kerala",
          "Karnataka",
          "Tamil Nadu",
          "Andhra Pradesh",
          "Uttar Pradesh",
          "West Bengal",
          "Delhi",
          "Chhattisgarh",
          "Odisha",
          "Rajasthan",
          "Gujarat",
          "Madhya Pradesh",
          "Haryana",
          "Bihar",
          "Telengana",
          "Punjab",
          "Assam",
          "Jharkhand",
          "Uttarakhand",
          "Jammu and Kashmir",
          "Himachal Pradesh",
          "Goa",
          "Puducherry",
          "Manipur",
          "Tripura",
          "Chandigarh",
          "Meghalaya",
          "Arunachal Pradesh",
          "Mizoram",
          "Nagaland",
          "Sikkim",
          "Ladakh",
          "Dadra and Nagar Haveli and Daman and Diu",
          "Lakshadweep",
          "Andaman and Nicobar"
         ],
         "xaxis": "x",
         "y": [
          6214190,
          3160937,
          2883947,
          2535402,
          1940096,
          1707847,
          1518181,
          1435529,
          999853,
          954326,
          953360,
          824497,
          791658,
          769539,
          723945,
          636627,
          598334,
          547283,
          346681,
          341452,
          319901,
          204391,
          169740,
          119703,
          84822,
          73901,
          61889,
          57388,
          42820,
          27488,
          26682,
          23392,
          20257,
          10597,
          10064,
          7510
         ],
         "yaxis": "y"
        }
       ],
       "layout": {
        "legend": {
         "tracegroupgap": 0
        },
        "margin": {
         "t": 60
        },
        "template": {
         "data": {
          "bar": [
           {
            "error_x": {
             "color": "#2a3f5f"
            },
            "error_y": {
             "color": "#2a3f5f"
            },
            "marker": {
             "line": {
              "color": "#E5ECF6",
              "width": 0.5
             },
             "pattern": {
              "fillmode": "overlay",
              "size": 10,
              "solidity": 0.2
             }
            },
            "type": "bar"
           }
          ],
          "barpolar": [
           {
            "marker": {
             "line": {
              "color": "#E5ECF6",
              "width": 0.5
             },
             "pattern": {
              "fillmode": "overlay",
              "size": 10,
              "solidity": 0.2
             }
            },
            "type": "barpolar"
           }
          ],
          "carpet": [
           {
            "aaxis": {
             "endlinecolor": "#2a3f5f",
             "gridcolor": "white",
             "linecolor": "white",
             "minorgridcolor": "white",
             "startlinecolor": "#2a3f5f"
            },
            "baxis": {
             "endlinecolor": "#2a3f5f",
             "gridcolor": "white",
             "linecolor": "white",
             "minorgridcolor": "white",
             "startlinecolor": "#2a3f5f"
            },
            "type": "carpet"
           }
          ],
          "choropleth": [
           {
            "colorbar": {
             "outlinewidth": 0,
             "ticks": ""
            },
            "type": "choropleth"
           }
          ],
          "contour": [
           {
            "colorbar": {
             "outlinewidth": 0,
             "ticks": ""
            },
            "colorscale": [
             [
              0,
              "#0d0887"
             ],
             [
              0.1111111111111111,
              "#46039f"
             ],
             [
              0.2222222222222222,
              "#7201a8"
             ],
             [
              0.3333333333333333,
              "#9c179e"
             ],
             [
              0.4444444444444444,
              "#bd3786"
             ],
             [
              0.5555555555555556,
              "#d8576b"
             ],
             [
              0.6666666666666666,
              "#ed7953"
             ],
             [
              0.7777777777777778,
              "#fb9f3a"
             ],
             [
              0.8888888888888888,
              "#fdca26"
             ],
             [
              1,
              "#f0f921"
             ]
            ],
            "type": "contour"
           }
          ],
          "contourcarpet": [
           {
            "colorbar": {
             "outlinewidth": 0,
             "ticks": ""
            },
            "type": "contourcarpet"
           }
          ],
          "heatmap": [
           {
            "colorbar": {
             "outlinewidth": 0,
             "ticks": ""
            },
            "colorscale": [
             [
              0,
              "#0d0887"
             ],
             [
              0.1111111111111111,
              "#46039f"
             ],
             [
              0.2222222222222222,
              "#7201a8"
             ],
             [
              0.3333333333333333,
              "#9c179e"
             ],
             [
              0.4444444444444444,
              "#bd3786"
             ],
             [
              0.5555555555555556,
              "#d8576b"
             ],
             [
              0.6666666666666666,
              "#ed7953"
             ],
             [
              0.7777777777777778,
              "#fb9f3a"
             ],
             [
              0.8888888888888888,
              "#fdca26"
             ],
             [
              1,
              "#f0f921"
             ]
            ],
            "type": "heatmap"
           }
          ],
          "heatmapgl": [
           {
            "colorbar": {
             "outlinewidth": 0,
             "ticks": ""
            },
            "colorscale": [
             [
              0,
              "#0d0887"
             ],
             [
              0.1111111111111111,
              "#46039f"
             ],
             [
              0.2222222222222222,
              "#7201a8"
             ],
             [
              0.3333333333333333,
              "#9c179e"
             ],
             [
              0.4444444444444444,
              "#bd3786"
             ],
             [
              0.5555555555555556,
              "#d8576b"
             ],
             [
              0.6666666666666666,
              "#ed7953"
             ],
             [
              0.7777777777777778,
              "#fb9f3a"
             ],
             [
              0.8888888888888888,
              "#fdca26"
             ],
             [
              1,
              "#f0f921"
             ]
            ],
            "type": "heatmapgl"
           }
          ],
          "histogram": [
           {
            "marker": {
             "pattern": {
              "fillmode": "overlay",
              "size": 10,
              "solidity": 0.2
             }
            },
            "type": "histogram"
           }
          ],
          "histogram2d": [
           {
            "colorbar": {
             "outlinewidth": 0,
             "ticks": ""
            },
            "colorscale": [
             [
              0,
              "#0d0887"
             ],
             [
              0.1111111111111111,
              "#46039f"
             ],
             [
              0.2222222222222222,
              "#7201a8"
             ],
             [
              0.3333333333333333,
              "#9c179e"
             ],
             [
              0.4444444444444444,
              "#bd3786"
             ],
             [
              0.5555555555555556,
              "#d8576b"
             ],
             [
              0.6666666666666666,
              "#ed7953"
             ],
             [
              0.7777777777777778,
              "#fb9f3a"
             ],
             [
              0.8888888888888888,
              "#fdca26"
             ],
             [
              1,
              "#f0f921"
             ]
            ],
            "type": "histogram2d"
           }
          ],
          "histogram2dcontour": [
           {
            "colorbar": {
             "outlinewidth": 0,
             "ticks": ""
            },
            "colorscale": [
             [
              0,
              "#0d0887"
             ],
             [
              0.1111111111111111,
              "#46039f"
             ],
             [
              0.2222222222222222,
              "#7201a8"
             ],
             [
              0.3333333333333333,
              "#9c179e"
             ],
             [
              0.4444444444444444,
              "#bd3786"
             ],
             [
              0.5555555555555556,
              "#d8576b"
             ],
             [
              0.6666666666666666,
              "#ed7953"
             ],
             [
              0.7777777777777778,
              "#fb9f3a"
             ],
             [
              0.8888888888888888,
              "#fdca26"
             ],
             [
              1,
              "#f0f921"
             ]
            ],
            "type": "histogram2dcontour"
           }
          ],
          "mesh3d": [
           {
            "colorbar": {
             "outlinewidth": 0,
             "ticks": ""
            },
            "type": "mesh3d"
           }
          ],
          "parcoords": [
           {
            "line": {
             "colorbar": {
              "outlinewidth": 0,
              "ticks": ""
             }
            },
            "type": "parcoords"
           }
          ],
          "pie": [
           {
            "automargin": true,
            "type": "pie"
           }
          ],
          "scatter": [
           {
            "marker": {
             "colorbar": {
              "outlinewidth": 0,
              "ticks": ""
             }
            },
            "type": "scatter"
           }
          ],
          "scatter3d": [
           {
            "line": {
             "colorbar": {
              "outlinewidth": 0,
              "ticks": ""
             }
            },
            "marker": {
             "colorbar": {
              "outlinewidth": 0,
              "ticks": ""
             }
            },
            "type": "scatter3d"
           }
          ],
          "scattercarpet": [
           {
            "marker": {
             "colorbar": {
              "outlinewidth": 0,
              "ticks": ""
             }
            },
            "type": "scattercarpet"
           }
          ],
          "scattergeo": [
           {
            "marker": {
             "colorbar": {
              "outlinewidth": 0,
              "ticks": ""
             }
            },
            "type": "scattergeo"
           }
          ],
          "scattergl": [
           {
            "marker": {
             "colorbar": {
              "outlinewidth": 0,
              "ticks": ""
             }
            },
            "type": "scattergl"
           }
          ],
          "scattermapbox": [
           {
            "marker": {
             "colorbar": {
              "outlinewidth": 0,
              "ticks": ""
             }
            },
            "type": "scattermapbox"
           }
          ],
          "scatterpolar": [
           {
            "marker": {
             "colorbar": {
              "outlinewidth": 0,
              "ticks": ""
             }
            },
            "type": "scatterpolar"
           }
          ],
          "scatterpolargl": [
           {
            "marker": {
             "colorbar": {
              "outlinewidth": 0,
              "ticks": ""
             }
            },
            "type": "scatterpolargl"
           }
          ],
          "scatterternary": [
           {
            "marker": {
             "colorbar": {
              "outlinewidth": 0,
              "ticks": ""
             }
            },
            "type": "scatterternary"
           }
          ],
          "surface": [
           {
            "colorbar": {
             "outlinewidth": 0,
             "ticks": ""
            },
            "colorscale": [
             [
              0,
              "#0d0887"
             ],
             [
              0.1111111111111111,
              "#46039f"
             ],
             [
              0.2222222222222222,
              "#7201a8"
             ],
             [
              0.3333333333333333,
              "#9c179e"
             ],
             [
              0.4444444444444444,
              "#bd3786"
             ],
             [
              0.5555555555555556,
              "#d8576b"
             ],
             [
              0.6666666666666666,
              "#ed7953"
             ],
             [
              0.7777777777777778,
              "#fb9f3a"
             ],
             [
              0.8888888888888888,
              "#fdca26"
             ],
             [
              1,
              "#f0f921"
             ]
            ],
            "type": "surface"
           }
          ],
          "table": [
           {
            "cells": {
             "fill": {
              "color": "#EBF0F8"
             },
             "line": {
              "color": "white"
             }
            },
            "header": {
             "fill": {
              "color": "#C8D4E3"
             },
             "line": {
              "color": "white"
             }
            },
            "type": "table"
           }
          ]
         },
         "layout": {
          "annotationdefaults": {
           "arrowcolor": "#2a3f5f",
           "arrowhead": 0,
           "arrowwidth": 1
          },
          "autotypenumbers": "strict",
          "coloraxis": {
           "colorbar": {
            "outlinewidth": 0,
            "ticks": ""
           }
          },
          "colorscale": {
           "diverging": [
            [
             0,
             "#8e0152"
            ],
            [
             0.1,
             "#c51b7d"
            ],
            [
             0.2,
             "#de77ae"
            ],
            [
             0.3,
             "#f1b6da"
            ],
            [
             0.4,
             "#fde0ef"
            ],
            [
             0.5,
             "#f7f7f7"
            ],
            [
             0.6,
             "#e6f5d0"
            ],
            [
             0.7,
             "#b8e186"
            ],
            [
             0.8,
             "#7fbc41"
            ],
            [
             0.9,
             "#4d9221"
            ],
            [
             1,
             "#276419"
            ]
           ],
           "sequential": [
            [
             0,
             "#0d0887"
            ],
            [
             0.1111111111111111,
             "#46039f"
            ],
            [
             0.2222222222222222,
             "#7201a8"
            ],
            [
             0.3333333333333333,
             "#9c179e"
            ],
            [
             0.4444444444444444,
             "#bd3786"
            ],
            [
             0.5555555555555556,
             "#d8576b"
            ],
            [
             0.6666666666666666,
             "#ed7953"
            ],
            [
             0.7777777777777778,
             "#fb9f3a"
            ],
            [
             0.8888888888888888,
             "#fdca26"
            ],
            [
             1,
             "#f0f921"
            ]
           ],
           "sequentialminus": [
            [
             0,
             "#0d0887"
            ],
            [
             0.1111111111111111,
             "#46039f"
            ],
            [
             0.2222222222222222,
             "#7201a8"
            ],
            [
             0.3333333333333333,
             "#9c179e"
            ],
            [
             0.4444444444444444,
             "#bd3786"
            ],
            [
             0.5555555555555556,
             "#d8576b"
            ],
            [
             0.6666666666666666,
             "#ed7953"
            ],
            [
             0.7777777777777778,
             "#fb9f3a"
            ],
            [
             0.8888888888888888,
             "#fdca26"
            ],
            [
             1,
             "#f0f921"
            ]
           ]
          },
          "colorway": [
           "#636efa",
           "#EF553B",
           "#00cc96",
           "#ab63fa",
           "#FFA15A",
           "#19d3f3",
           "#FF6692",
           "#B6E880",
           "#FF97FF",
           "#FECB52"
          ],
          "font": {
           "color": "#2a3f5f"
          },
          "geo": {
           "bgcolor": "white",
           "lakecolor": "white",
           "landcolor": "#E5ECF6",
           "showlakes": true,
           "showland": true,
           "subunitcolor": "white"
          },
          "hoverlabel": {
           "align": "left"
          },
          "hovermode": "closest",
          "mapbox": {
           "style": "light"
          },
          "paper_bgcolor": "white",
          "plot_bgcolor": "#E5ECF6",
          "polar": {
           "angularaxis": {
            "gridcolor": "white",
            "linecolor": "white",
            "ticks": ""
           },
           "bgcolor": "#E5ECF6",
           "radialaxis": {
            "gridcolor": "white",
            "linecolor": "white",
            "ticks": ""
           }
          },
          "scene": {
           "xaxis": {
            "backgroundcolor": "#E5ECF6",
            "gridcolor": "white",
            "gridwidth": 2,
            "linecolor": "white",
            "showbackground": true,
            "ticks": "",
            "zerolinecolor": "white"
           },
           "yaxis": {
            "backgroundcolor": "#E5ECF6",
            "gridcolor": "white",
            "gridwidth": 2,
            "linecolor": "white",
            "showbackground": true,
            "ticks": "",
            "zerolinecolor": "white"
           },
           "zaxis": {
            "backgroundcolor": "#E5ECF6",
            "gridcolor": "white",
            "gridwidth": 2,
            "linecolor": "white",
            "showbackground": true,
            "ticks": "",
            "zerolinecolor": "white"
           }
          },
          "shapedefaults": {
           "line": {
            "color": "#2a3f5f"
           }
          },
          "ternary": {
           "aaxis": {
            "gridcolor": "white",
            "linecolor": "white",
            "ticks": ""
           },
           "baxis": {
            "gridcolor": "white",
            "linecolor": "white",
            "ticks": ""
           },
           "bgcolor": "#E5ECF6",
           "caxis": {
            "gridcolor": "white",
            "linecolor": "white",
            "ticks": ""
           }
          },
          "title": {
           "x": 0.05
          },
          "xaxis": {
           "automargin": true,
           "gridcolor": "white",
           "linecolor": "white",
           "ticks": "",
           "title": {
            "standoff": 15
           },
           "zerolinecolor": "white",
           "zerolinewidth": 2
          },
          "yaxis": {
           "automargin": true,
           "gridcolor": "white",
           "linecolor": "white",
           "ticks": "",
           "title": {
            "standoff": 15
           },
           "zerolinecolor": "white",
           "zerolinewidth": 2
          }
         }
        },
        "xaxis": {
         "anchor": "y",
         "domain": [
          0,
          1
         ],
         "title": {
          "text": "State/UTs"
         }
        },
        "yaxis": {
         "anchor": "x",
         "domain": [
          0,
          1
         ],
         "title": {
          "text": "Total Cases"
         }
        }
       }
      },
      "text/html": [
       "<div>                            <div id=\"4e6d8639-450d-4090-85a6-f97843ca0196\" class=\"plotly-graph-div\" style=\"height:525px; width:100%;\"></div>            <script type=\"text/javascript\">                require([\"plotly\"], function(Plotly) {                    window.PLOTLYENV=window.PLOTLYENV || {};                                    if (document.getElementById(\"4e6d8639-450d-4090-85a6-f97843ca0196\")) {                    Plotly.newPlot(                        \"4e6d8639-450d-4090-85a6-f97843ca0196\",                        [{\"hovertemplate\":\"State/UTs=%{x}<br>Total Cases=%{y}<extra></extra>\",\"legendgroup\":\"\",\"marker\":{\"color\":\"#636efa\",\"symbol\":\"circle\"},\"mode\":\"markers\",\"name\":\"\",\"orientation\":\"v\",\"showlegend\":false,\"type\":\"scatter\",\"x\":[\"Maharashtra\",\"Kerala\",\"Karnataka\",\"Tamil Nadu\",\"Andhra Pradesh\",\"Uttar Pradesh\",\"West Bengal\",\"Delhi\",\"Chhattisgarh\",\"Odisha\",\"Rajasthan\",\"Gujarat\",\"Madhya Pradesh\",\"Haryana\",\"Bihar\",\"Telengana\",\"Punjab\",\"Assam\",\"Jharkhand\",\"Uttarakhand\",\"Jammu and Kashmir\",\"Himachal Pradesh\",\"Goa\",\"Puducherry\",\"Manipur\",\"Tripura\",\"Chandigarh\",\"Meghalaya\",\"Arunachal Pradesh\",\"Mizoram\",\"Nagaland\",\"Sikkim\",\"Ladakh\",\"Dadra and Nagar Haveli and Daman and Diu\",\"Lakshadweep\",\"Andaman and Nicobar\"],\"xaxis\":\"x\",\"y\":[6214190,3160937,2883947,2535402,1940096,1707847,1518181,1435529,999853,954326,953360,824497,791658,769539,723945,636627,598334,547283,346681,341452,319901,204391,169740,119703,84822,73901,61889,57388,42820,27488,26682,23392,20257,10597,10064,7510],\"yaxis\":\"y\"}],                        {\"legend\":{\"tracegroupgap\":0},\"margin\":{\"t\":60},\"template\":{\"data\":{\"bar\":[{\"error_x\":{\"color\":\"#2a3f5f\"},\"error_y\":{\"color\":\"#2a3f5f\"},\"marker\":{\"line\":{\"color\":\"#E5ECF6\",\"width\":0.5},\"pattern\":{\"fillmode\":\"overlay\",\"size\":10,\"solidity\":0.2}},\"type\":\"bar\"}],\"barpolar\":[{\"marker\":{\"line\":{\"color\":\"#E5ECF6\",\"width\":0.5},\"pattern\":{\"fillmode\":\"overlay\",\"size\":10,\"solidity\":0.2}},\"type\":\"barpolar\"}],\"carpet\":[{\"aaxis\":{\"endlinecolor\":\"#2a3f5f\",\"gridcolor\":\"white\",\"linecolor\":\"white\",\"minorgridcolor\":\"white\",\"startlinecolor\":\"#2a3f5f\"},\"baxis\":{\"endlinecolor\":\"#2a3f5f\",\"gridcolor\":\"white\",\"linecolor\":\"white\",\"minorgridcolor\":\"white\",\"startlinecolor\":\"#2a3f5f\"},\"type\":\"carpet\"}],\"choropleth\":[{\"colorbar\":{\"outlinewidth\":0,\"ticks\":\"\"},\"type\":\"choropleth\"}],\"contour\":[{\"colorbar\":{\"outlinewidth\":0,\"ticks\":\"\"},\"colorscale\":[[0.0,\"#0d0887\"],[0.1111111111111111,\"#46039f\"],[0.2222222222222222,\"#7201a8\"],[0.3333333333333333,\"#9c179e\"],[0.4444444444444444,\"#bd3786\"],[0.5555555555555556,\"#d8576b\"],[0.6666666666666666,\"#ed7953\"],[0.7777777777777778,\"#fb9f3a\"],[0.8888888888888888,\"#fdca26\"],[1.0,\"#f0f921\"]],\"type\":\"contour\"}],\"contourcarpet\":[{\"colorbar\":{\"outlinewidth\":0,\"ticks\":\"\"},\"type\":\"contourcarpet\"}],\"heatmap\":[{\"colorbar\":{\"outlinewidth\":0,\"ticks\":\"\"},\"colorscale\":[[0.0,\"#0d0887\"],[0.1111111111111111,\"#46039f\"],[0.2222222222222222,\"#7201a8\"],[0.3333333333333333,\"#9c179e\"],[0.4444444444444444,\"#bd3786\"],[0.5555555555555556,\"#d8576b\"],[0.6666666666666666,\"#ed7953\"],[0.7777777777777778,\"#fb9f3a\"],[0.8888888888888888,\"#fdca26\"],[1.0,\"#f0f921\"]],\"type\":\"heatmap\"}],\"heatmapgl\":[{\"colorbar\":{\"outlinewidth\":0,\"ticks\":\"\"},\"colorscale\":[[0.0,\"#0d0887\"],[0.1111111111111111,\"#46039f\"],[0.2222222222222222,\"#7201a8\"],[0.3333333333333333,\"#9c179e\"],[0.4444444444444444,\"#bd3786\"],[0.5555555555555556,\"#d8576b\"],[0.6666666666666666,\"#ed7953\"],[0.7777777777777778,\"#fb9f3a\"],[0.8888888888888888,\"#fdca26\"],[1.0,\"#f0f921\"]],\"type\":\"heatmapgl\"}],\"histogram\":[{\"marker\":{\"pattern\":{\"fillmode\":\"overlay\",\"size\":10,\"solidity\":0.2}},\"type\":\"histogram\"}],\"histogram2d\":[{\"colorbar\":{\"outlinewidth\":0,\"ticks\":\"\"},\"colorscale\":[[0.0,\"#0d0887\"],[0.1111111111111111,\"#46039f\"],[0.2222222222222222,\"#7201a8\"],[0.3333333333333333,\"#9c179e\"],[0.4444444444444444,\"#bd3786\"],[0.5555555555555556,\"#d8576b\"],[0.6666666666666666,\"#ed7953\"],[0.7777777777777778,\"#fb9f3a\"],[0.8888888888888888,\"#fdca26\"],[1.0,\"#f0f921\"]],\"type\":\"histogram2d\"}],\"histogram2dcontour\":[{\"colorbar\":{\"outlinewidth\":0,\"ticks\":\"\"},\"colorscale\":[[0.0,\"#0d0887\"],[0.1111111111111111,\"#46039f\"],[0.2222222222222222,\"#7201a8\"],[0.3333333333333333,\"#9c179e\"],[0.4444444444444444,\"#bd3786\"],[0.5555555555555556,\"#d8576b\"],[0.6666666666666666,\"#ed7953\"],[0.7777777777777778,\"#fb9f3a\"],[0.8888888888888888,\"#fdca26\"],[1.0,\"#f0f921\"]],\"type\":\"histogram2dcontour\"}],\"mesh3d\":[{\"colorbar\":{\"outlinewidth\":0,\"ticks\":\"\"},\"type\":\"mesh3d\"}],\"parcoords\":[{\"line\":{\"colorbar\":{\"outlinewidth\":0,\"ticks\":\"\"}},\"type\":\"parcoords\"}],\"pie\":[{\"automargin\":true,\"type\":\"pie\"}],\"scatter\":[{\"marker\":{\"colorbar\":{\"outlinewidth\":0,\"ticks\":\"\"}},\"type\":\"scatter\"}],\"scatter3d\":[{\"line\":{\"colorbar\":{\"outlinewidth\":0,\"ticks\":\"\"}},\"marker\":{\"colorbar\":{\"outlinewidth\":0,\"ticks\":\"\"}},\"type\":\"scatter3d\"}],\"scattercarpet\":[{\"marker\":{\"colorbar\":{\"outlinewidth\":0,\"ticks\":\"\"}},\"type\":\"scattercarpet\"}],\"scattergeo\":[{\"marker\":{\"colorbar\":{\"outlinewidth\":0,\"ticks\":\"\"}},\"type\":\"scattergeo\"}],\"scattergl\":[{\"marker\":{\"colorbar\":{\"outlinewidth\":0,\"ticks\":\"\"}},\"type\":\"scattergl\"}],\"scattermapbox\":[{\"marker\":{\"colorbar\":{\"outlinewidth\":0,\"ticks\":\"\"}},\"type\":\"scattermapbox\"}],\"scatterpolar\":[{\"marker\":{\"colorbar\":{\"outlinewidth\":0,\"ticks\":\"\"}},\"type\":\"scatterpolar\"}],\"scatterpolargl\":[{\"marker\":{\"colorbar\":{\"outlinewidth\":0,\"ticks\":\"\"}},\"type\":\"scatterpolargl\"}],\"scatterternary\":[{\"marker\":{\"colorbar\":{\"outlinewidth\":0,\"ticks\":\"\"}},\"type\":\"scatterternary\"}],\"surface\":[{\"colorbar\":{\"outlinewidth\":0,\"ticks\":\"\"},\"colorscale\":[[0.0,\"#0d0887\"],[0.1111111111111111,\"#46039f\"],[0.2222222222222222,\"#7201a8\"],[0.3333333333333333,\"#9c179e\"],[0.4444444444444444,\"#bd3786\"],[0.5555555555555556,\"#d8576b\"],[0.6666666666666666,\"#ed7953\"],[0.7777777777777778,\"#fb9f3a\"],[0.8888888888888888,\"#fdca26\"],[1.0,\"#f0f921\"]],\"type\":\"surface\"}],\"table\":[{\"cells\":{\"fill\":{\"color\":\"#EBF0F8\"},\"line\":{\"color\":\"white\"}},\"header\":{\"fill\":{\"color\":\"#C8D4E3\"},\"line\":{\"color\":\"white\"}},\"type\":\"table\"}]},\"layout\":{\"annotationdefaults\":{\"arrowcolor\":\"#2a3f5f\",\"arrowhead\":0,\"arrowwidth\":1},\"autotypenumbers\":\"strict\",\"coloraxis\":{\"colorbar\":{\"outlinewidth\":0,\"ticks\":\"\"}},\"colorscale\":{\"diverging\":[[0,\"#8e0152\"],[0.1,\"#c51b7d\"],[0.2,\"#de77ae\"],[0.3,\"#f1b6da\"],[0.4,\"#fde0ef\"],[0.5,\"#f7f7f7\"],[0.6,\"#e6f5d0\"],[0.7,\"#b8e186\"],[0.8,\"#7fbc41\"],[0.9,\"#4d9221\"],[1,\"#276419\"]],\"sequential\":[[0.0,\"#0d0887\"],[0.1111111111111111,\"#46039f\"],[0.2222222222222222,\"#7201a8\"],[0.3333333333333333,\"#9c179e\"],[0.4444444444444444,\"#bd3786\"],[0.5555555555555556,\"#d8576b\"],[0.6666666666666666,\"#ed7953\"],[0.7777777777777778,\"#fb9f3a\"],[0.8888888888888888,\"#fdca26\"],[1.0,\"#f0f921\"]],\"sequentialminus\":[[0.0,\"#0d0887\"],[0.1111111111111111,\"#46039f\"],[0.2222222222222222,\"#7201a8\"],[0.3333333333333333,\"#9c179e\"],[0.4444444444444444,\"#bd3786\"],[0.5555555555555556,\"#d8576b\"],[0.6666666666666666,\"#ed7953\"],[0.7777777777777778,\"#fb9f3a\"],[0.8888888888888888,\"#fdca26\"],[1.0,\"#f0f921\"]]},\"colorway\":[\"#636efa\",\"#EF553B\",\"#00cc96\",\"#ab63fa\",\"#FFA15A\",\"#19d3f3\",\"#FF6692\",\"#B6E880\",\"#FF97FF\",\"#FECB52\"],\"font\":{\"color\":\"#2a3f5f\"},\"geo\":{\"bgcolor\":\"white\",\"lakecolor\":\"white\",\"landcolor\":\"#E5ECF6\",\"showlakes\":true,\"showland\":true,\"subunitcolor\":\"white\"},\"hoverlabel\":{\"align\":\"left\"},\"hovermode\":\"closest\",\"mapbox\":{\"style\":\"light\"},\"paper_bgcolor\":\"white\",\"plot_bgcolor\":\"#E5ECF6\",\"polar\":{\"angularaxis\":{\"gridcolor\":\"white\",\"linecolor\":\"white\",\"ticks\":\"\"},\"bgcolor\":\"#E5ECF6\",\"radialaxis\":{\"gridcolor\":\"white\",\"linecolor\":\"white\",\"ticks\":\"\"}},\"scene\":{\"xaxis\":{\"backgroundcolor\":\"#E5ECF6\",\"gridcolor\":\"white\",\"gridwidth\":2,\"linecolor\":\"white\",\"showbackground\":true,\"ticks\":\"\",\"zerolinecolor\":\"white\"},\"yaxis\":{\"backgroundcolor\":\"#E5ECF6\",\"gridcolor\":\"white\",\"gridwidth\":2,\"linecolor\":\"white\",\"showbackground\":true,\"ticks\":\"\",\"zerolinecolor\":\"white\"},\"zaxis\":{\"backgroundcolor\":\"#E5ECF6\",\"gridcolor\":\"white\",\"gridwidth\":2,\"linecolor\":\"white\",\"showbackground\":true,\"ticks\":\"\",\"zerolinecolor\":\"white\"}},\"shapedefaults\":{\"line\":{\"color\":\"#2a3f5f\"}},\"ternary\":{\"aaxis\":{\"gridcolor\":\"white\",\"linecolor\":\"white\",\"ticks\":\"\"},\"baxis\":{\"gridcolor\":\"white\",\"linecolor\":\"white\",\"ticks\":\"\"},\"bgcolor\":\"#E5ECF6\",\"caxis\":{\"gridcolor\":\"white\",\"linecolor\":\"white\",\"ticks\":\"\"}},\"title\":{\"x\":0.05},\"xaxis\":{\"automargin\":true,\"gridcolor\":\"white\",\"linecolor\":\"white\",\"ticks\":\"\",\"title\":{\"standoff\":15},\"zerolinecolor\":\"white\",\"zerolinewidth\":2},\"yaxis\":{\"automargin\":true,\"gridcolor\":\"white\",\"linecolor\":\"white\",\"ticks\":\"\",\"title\":{\"standoff\":15},\"zerolinecolor\":\"white\",\"zerolinewidth\":2}}},\"xaxis\":{\"anchor\":\"y\",\"domain\":[0.0,1.0],\"title\":{\"text\":\"State/UTs\"}},\"yaxis\":{\"anchor\":\"x\",\"domain\":[0.0,1.0],\"title\":{\"text\":\"Total Cases\"}}},                        {\"responsive\": true}                    ).then(function(){\n",
       "                            \n",
       "var gd = document.getElementById('4e6d8639-450d-4090-85a6-f97843ca0196');\n",
       "var x = new MutationObserver(function (mutations, observer) {{\n",
       "        var display = window.getComputedStyle(gd).display;\n",
       "        if (!display || display === 'none') {{\n",
       "            console.log([gd, 'removed!']);\n",
       "            Plotly.purge(gd);\n",
       "            observer.disconnect();\n",
       "        }}\n",
       "}});\n",
       "\n",
       "// Listen for the removal of the full notebook cells\n",
       "var notebookContainer = gd.closest('#notebook-container');\n",
       "if (notebookContainer) {{\n",
       "    x.observe(notebookContainer, {childList: true});\n",
       "}}\n",
       "\n",
       "// Listen for the clearing of the current output cell\n",
       "var outputEl = gd.closest('.output');\n",
       "if (outputEl) {{\n",
       "    x.observe(outputEl, {childList: true});\n",
       "}}\n",
       "\n",
       "                        })                };                });            </script>        </div>"
      ]
     },
     "metadata": {},
     "output_type": "display_data"
    }
   ],
   "source": [
    "df.iplot(kind='scatter',x='State/UTs',y='Total Cases',mode='markers+lines',title='corona',xTitle='State/UTs',yTitle='Total Cases',colors='red',size=10)\n",
    "px.scatter(df,x='State/UTs',y='Total Cases')"
   ]
  },
  {
   "cell_type": "code",
   "execution_count": 36,
   "metadata": {},
   "outputs": [
    {
     "data": {
      "image/png": "[encoded data removed]",
      "text/plain": [
       "<Figure size 4000x2000 with 1 Axes>"
      ]
     },
     "metadata": {
      "needs_background": "light"
     },
     "output_type": "display_data"
    },
    {
     "data": {
      "application/vnd.plotly.v1+json": {
       "config": {
        "plotlyServerURL": "https://plot.ly"
       },
       "data": [
        {
         "type": "bar",
         "x": [
          "Maharashtra",
          "Kerala",
          "Karnataka",
          "Tamil Nadu",
          "Andhra Pradesh",
          "Uttar Pradesh",
          "West Bengal",
          "Delhi",
          "Chhattisgarh",
          "Odisha",
          "Rajasthan",
          "Gujarat",
          "Madhya Pradesh",
          "Haryana",
          "Bihar",
          "Telengana",
          "Punjab",
          "Assam",
          "Jharkhand",
          "Uttarakhand",
          "Jammu and Kashmir",
          "Himachal Pradesh",
          "Goa",
          "Puducherry",
          "Manipur",
          "Tripura",
          "Chandigarh",
          "Meghalaya",
          "Arunachal Pradesh",
          "Mizoram",
          "Nagaland",
          "Sikkim",
          "Ladakh",
          "Dadra and Nagar Haveli and Daman and Diu",
          "Lakshadweep",
          "Andaman and Nicobar"
         ],
         "y": [
          6214190,
          3160937,
          2883947,
          2535402,
          1940096,
          1707847,
          1518181,
          1435529,
          999853,
          954326,
          953360,
          824497,
          791658,
          769539,
          723945,
          636627,
          598334,
          547283,
          346681,
          341452,
          319901,
          204391,
          169740,
          119703,
          84822,
          73901,
          61889,
          57388,
          42820,
          27488,
          26682,
          23392,
          20257,
          10597,
          10064,
          7510
         ]
        }
       ],
       "layout": {
        "template": {
         "data": {
          "bar": [
           {
            "error_x": {
             "color": "#2a3f5f"
            },
            "error_y": {
             "color": "#2a3f5f"
            },
            "marker": {
             "line": {
              "color": "#E5ECF6",
              "width": 0.5
             },
             "pattern": {
              "fillmode": "overlay",
              "size": 10,
              "solidity": 0.2
             }
            },
            "type": "bar"
           }
          ],
          "barpolar": [
           {
            "marker": {
             "line": {
              "color": "#E5ECF6",
              "width": 0.5
             },
             "pattern": {
              "fillmode": "overlay",
              "size": 10,
              "solidity": 0.2
             }
            },
            "type": "barpolar"
           }
          ],
          "carpet": [
           {
            "aaxis": {
             "endlinecolor": "#2a3f5f",
             "gridcolor": "white",
             "linecolor": "white",
             "minorgridcolor": "white",
             "startlinecolor": "#2a3f5f"
            },
            "baxis": {
             "endlinecolor": "#2a3f5f",
             "gridcolor": "white",
             "linecolor": "white",
             "minorgridcolor": "white",
             "startlinecolor": "#2a3f5f"
            },
            "type": "carpet"
           }
          ],
          "choropleth": [
           {
            "colorbar": {
             "outlinewidth": 0,
             "ticks": ""
            },
            "type": "choropleth"
           }
          ],
          "contour": [
           {
            "colorbar": {
             "outlinewidth": 0,
             "ticks": ""
            },
            "colorscale": [
             [
              0,
              "#0d0887"
             ],
             [
              0.1111111111111111,
              "#46039f"
             ],
             [
              0.2222222222222222,
              "#7201a8"
             ],
             [
              0.3333333333333333,
              "#9c179e"
             ],
             [
              0.4444444444444444,
              "#bd3786"
             ],
             [
              0.5555555555555556,
              "#d8576b"
             ],
             [
              0.6666666666666666,
              "#ed7953"
             ],
             [
              0.7777777777777778,
              "#fb9f3a"
             ],
             [
              0.8888888888888888,
              "#fdca26"
             ],
             [
              1,
              "#f0f921"
             ]
            ],
            "type": "contour"
           }
          ],
          "contourcarpet": [
           {
            "colorbar": {
             "outlinewidth": 0,
             "ticks": ""
            },
            "type": "contourcarpet"
           }
          ],
          "heatmap": [
           {
            "colorbar": {
             "outlinewidth": 0,
             "ticks": ""
            },
            "colorscale": [
             [
              0,
              "#0d0887"
             ],
             [
              0.1111111111111111,
              "#46039f"
             ],
             [
              0.2222222222222222,
              "#7201a8"
             ],
             [
              0.3333333333333333,
              "#9c179e"
             ],
             [
              0.4444444444444444,
              "#bd3786"
             ],
             [
              0.5555555555555556,
              "#d8576b"
             ],
             [
              0.6666666666666666,
              "#ed7953"
             ],
             [
              0.7777777777777778,
              "#fb9f3a"
             ],
             [
              0.8888888888888888,
              "#fdca26"
             ],
             [
              1,
              "#f0f921"
             ]
            ],
            "type": "heatmap"
           }
          ],
          "heatmapgl": [
           {
            "colorbar": {
             "outlinewidth": 0,
             "ticks": ""
            },
            "colorscale": [
             [
              0,
              "#0d0887"
             ],
             [
              0.1111111111111111,
              "#46039f"
             ],
             [
              0.2222222222222222,
              "#7201a8"
             ],
             [
              0.3333333333333333,
              "#9c179e"
             ],
             [
              0.4444444444444444,
              "#bd3786"
             ],
             [
              0.5555555555555556,
              "#d8576b"
             ],
             [
              0.6666666666666666,
              "#ed7953"
             ],
             [
              0.7777777777777778,
              "#fb9f3a"
             ],
             [
              0.8888888888888888,
              "#fdca26"
             ],
             [
              1,
              "#f0f921"
             ]
            ],
            "type": "heatmapgl"
           }
          ],
          "histogram": [
           {
            "marker": {
             "pattern": {
              "fillmode": "overlay",
              "size": 10,
              "solidity": 0.2
             }
            },
            "type": "histogram"
           }
          ],
          "histogram2d": [
           {
            "colorbar": {
             "outlinewidth": 0,
             "ticks": ""
            },
            "colorscale": [
             [
              0,
              "#0d0887"
             ],
             [
              0.1111111111111111,
              "#46039f"
             ],
             [
              0.2222222222222222,
              "#7201a8"
             ],
             [
              0.3333333333333333,
              "#9c179e"
             ],
             [
              0.4444444444444444,
              "#bd3786"
             ],
             [
              0.5555555555555556,
              "#d8576b"
             ],
             [
              0.6666666666666666,
              "#ed7953"
             ],
             [
              0.7777777777777778,
              "#fb9f3a"
             ],
             [
              0.8888888888888888,
              "#fdca26"
             ],
             [
              1,
              "#f0f921"
             ]
            ],
            "type": "histogram2d"
           }
          ],
          "histogram2dcontour": [
           {
            "colorbar": {
             "outlinewidth": 0,
             "ticks": ""
            },
            "colorscale": [
             [
              0,
              "#0d0887"
             ],
             [
              0.1111111111111111,
              "#46039f"
             ],
             [
              0.2222222222222222,
              "#7201a8"
             ],
             [
              0.3333333333333333,
              "#9c179e"
             ],
             [
              0.4444444444444444,
              "#bd3786"
             ],
             [
              0.5555555555555556,
              "#d8576b"
             ],
             [
              0.6666666666666666,
              "#ed7953"
             ],
             [
              0.7777777777777778,
              "#fb9f3a"
             ],
             [
              0.8888888888888888,
              "#fdca26"
             ],
             [
              1,
              "#f0f921"
             ]
            ],
            "type": "histogram2dcontour"
           }
          ],
          "mesh3d": [
           {
            "colorbar": {
             "outlinewidth": 0,
             "ticks": ""
            },
            "type": "mesh3d"
           }
          ],
          "parcoords": [
           {
            "line": {
             "colorbar": {
              "outlinewidth": 0,
              "ticks": ""
             }
            },
            "type": "parcoords"
           }
          ],
          "pie": [
           {
            "automargin": true,
            "type": "pie"
           }
          ],
          "scatter": [
           {
            "marker": {
             "colorbar": {
              "outlinewidth": 0,
              "ticks": ""
             }
            },
            "type": "scatter"
           }
          ],
          "scatter3d": [
           {
            "line": {
             "colorbar": {
              "outlinewidth": 0,
              "ticks": ""
             }
            },
            "marker": {
             "colorbar": {
              "outlinewidth": 0,
              "ticks": ""
             }
            },
            "type": "scatter3d"
           }
          ],
          "scattercarpet": [
           {
            "marker": {
             "colorbar": {
              "outlinewidth": 0,
              "ticks": ""
             }
            },
            "type": "scattercarpet"
           }
          ],
          "scattergeo": [
           {
            "marker": {
             "colorbar": {
              "outlinewidth": 0,
              "ticks": ""
             }
            },
            "type": "scattergeo"
           }
          ],
          "scattergl": [
           {
            "marker": {
             "colorbar": {
              "outlinewidth": 0,
              "ticks": ""
             }
            },
            "type": "scattergl"
           }
          ],
          "scattermapbox": [
           {
            "marker": {
             "colorbar": {
              "outlinewidth": 0,
              "ticks": ""
             }
            },
            "type": "scattermapbox"
           }
          ],
          "scatterpolar": [
           {
            "marker": {
             "colorbar": {
              "outlinewidth": 0,
              "ticks": ""
             }
            },
            "type": "scatterpolar"
           }
          ],
          "scatterpolargl": [
           {
            "marker": {
             "colorbar": {
              "outlinewidth": 0,
              "ticks": ""
             }
            },
            "type": "scatterpolargl"
           }
          ],
          "scatterternary": [
           {
            "marker": {
             "colorbar": {
              "outlinewidth": 0,
              "ticks": ""
             }
            },
            "type": "scatterternary"
           }
          ],
          "surface": [
           {
            "colorbar": {
             "outlinewidth": 0,
             "ticks": ""
            },
            "colorscale": [
             [
              0,
              "#0d0887"
             ],
             [
              0.1111111111111111,
              "#46039f"
             ],
             [
              0.2222222222222222,
              "#7201a8"
             ],
             [
              0.3333333333333333,
              "#9c179e"
             ],
             [
              0.4444444444444444,
              "#bd3786"
             ],
             [
              0.5555555555555556,
              "#d8576b"
             ],
             [
              0.6666666666666666,
              "#ed7953"
             ],
             [
              0.7777777777777778,
              "#fb9f3a"
             ],
             [
              0.8888888888888888,
              "#fdca26"
             ],
             [
              1,
              "#f0f921"
             ]
            ],
            "type": "surface"
           }
          ],
          "table": [
           {
            "cells": {
             "fill": {
              "color": "#EBF0F8"
             },
             "line": {
              "color": "white"
             }
            },
            "header": {
             "fill": {
              "color": "#C8D4E3"
             },
             "line": {
              "color": "white"
             }
            },
            "type": "table"
           }
          ]
         },
         "layout": {
          "annotationdefaults": {
           "arrowcolor": "#2a3f5f",
           "arrowhead": 0,
           "arrowwidth": 1
          },
          "autotypenumbers": "strict",
          "coloraxis": {
           "colorbar": {
            "outlinewidth": 0,
            "ticks": ""
           }
          },
          "colorscale": {
           "diverging": [
            [
             0,
             "#8e0152"
            ],
            [
             0.1,
             "#c51b7d"
            ],
            [
             0.2,
             "#de77ae"
            ],
            [
             0.3,
             "#f1b6da"
            ],
            [
             0.4,
             "#fde0ef"
            ],
            [
             0.5,
             "#f7f7f7"
            ],
            [
             0.6,
             "#e6f5d0"
            ],
            [
             0.7,
             "#b8e186"
            ],
            [
             0.8,
             "#7fbc41"
            ],
            [
             0.9,
             "#4d9221"
            ],
            [
             1,
             "#276419"
            ]
           ],
           "sequential": [
            [
             0,
             "#0d0887"
            ],
            [
             0.1111111111111111,
             "#46039f"
            ],
            [
             0.2222222222222222,
             "#7201a8"
            ],
            [
             0.3333333333333333,
             "#9c179e"
            ],
            [
             0.4444444444444444,
             "#bd3786"
            ],
            [
             0.5555555555555556,
             "#d8576b"
            ],
            [
             0.6666666666666666,
             "#ed7953"
            ],
            [
             0.7777777777777778,
             "#fb9f3a"
            ],
            [
             0.8888888888888888,
             "#fdca26"
            ],
            [
             1,
             "#f0f921"
            ]
           ],
           "sequentialminus": [
            [
             0,
             "#0d0887"
            ],
            [
             0.1111111111111111,
             "#46039f"
            ],
            [
             0.2222222222222222,
             "#7201a8"
            ],
            [
             0.3333333333333333,
             "#9c179e"
            ],
            [
             0.4444444444444444,
             "#bd3786"
            ],
            [
             0.5555555555555556,
             "#d8576b"
            ],
            [
             0.6666666666666666,
             "#ed7953"
            ],
            [
             0.7777777777777778,
             "#fb9f3a"
            ],
            [
             0.8888888888888888,
             "#fdca26"
            ],
            [
             1,
             "#f0f921"
            ]
           ]
          },
          "colorway": [
           "#636efa",
           "#EF553B",
           "#00cc96",
           "#ab63fa",
           "#FFA15A",
           "#19d3f3",
           "#FF6692",
           "#B6E880",
           "#FF97FF",
           "#FECB52"
          ],
          "font": {
           "color": "#2a3f5f"
          },
          "geo": {
           "bgcolor": "white",
           "lakecolor": "white",
           "landcolor": "#E5ECF6",
           "showlakes": true,
           "showland": true,
           "subunitcolor": "white"
          },
          "hoverlabel": {
           "align": "left"
          },
          "hovermode": "closest",
          "mapbox": {
           "style": "light"
          },
          "paper_bgcolor": "white",
          "plot_bgcolor": "#E5ECF6",
          "polar": {
           "angularaxis": {
            "gridcolor": "white",
            "linecolor": "white",
            "ticks": ""
           },
           "bgcolor": "#E5ECF6",
           "radialaxis": {
            "gridcolor": "white",
            "linecolor": "white",
            "ticks": ""
           }
          },
          "scene": {
           "xaxis": {
            "backgroundcolor": "#E5ECF6",
            "gridcolor": "white",
            "gridwidth": 2,
            "linecolor": "white",
            "showbackground": true,
            "ticks": "",
            "zerolinecolor": "white"
           },
           "yaxis": {
            "backgroundcolor": "#E5ECF6",
            "gridcolor": "white",
            "gridwidth": 2,
            "linecolor": "white",
            "showbackground": true,
            "ticks": "",
            "zerolinecolor": "white"
           },
           "zaxis": {
            "backgroundcolor": "#E5ECF6",
            "gridcolor": "white",
            "gridwidth": 2,
            "linecolor": "white",
            "showbackground": true,
            "ticks": "",
            "zerolinecolor": "white"
           }
          },
          "shapedefaults": {
           "line": {
            "color": "#2a3f5f"
           }
          },
          "ternary": {
           "aaxis": {
            "gridcolor": "white",
            "linecolor": "white",
            "ticks": ""
           },
           "baxis": {
            "gridcolor": "white",
            "linecolor": "white",
            "ticks": ""
           },
           "bgcolor": "#E5ECF6",
           "caxis": {
            "gridcolor": "white",
            "linecolor": "white",
            "ticks": ""
           }
          },
          "title": {
           "x": 0.05
          },
          "xaxis": {
           "automargin": true,
           "gridcolor": "white",
           "linecolor": "white",
           "ticks": "",
           "title": {
            "standoff": 15
           },
           "zerolinecolor": "white",
           "zerolinewidth": 2
          },
          "yaxis": {
           "automargin": true,
           "gridcolor": "white",
           "linecolor": "white",
           "ticks": "",
           "title": {
            "standoff": 15
           },
           "zerolinecolor": "white",
           "zerolinewidth": 2
          }
         }
        },
        "title": {
         "text": "Total Cases in India"
        },
        "xaxis": {
         "title": {
          "text": "State/UTs"
         }
        },
        "yaxis": {
         "title": {
          "text": "Total Cases"
         }
        }
       }
      },
      "text/html": [
       "<div>                            <div id=\"f0d8b9f9-d974-4897-884c-30658b1b6435\" class=\"plotly-graph-div\" style=\"height:525px; width:100%;\"></div>            <script type=\"text/javascript\">                require([\"plotly\"], function(Plotly) {                    window.PLOTLYENV=window.PLOTLYENV || {};                                    if (document.getElementById(\"f0d8b9f9-d974-4897-884c-30658b1b6435\")) {                    Plotly.newPlot(                        \"f0d8b9f9-d974-4897-884c-30658b1b6435\",                        [{\"type\":\"bar\",\"x\":[\"Maharashtra\",\"Kerala\",\"Karnataka\",\"Tamil Nadu\",\"Andhra Pradesh\",\"Uttar Pradesh\",\"West Bengal\",\"Delhi\",\"Chhattisgarh\",\"Odisha\",\"Rajasthan\",\"Gujarat\",\"Madhya Pradesh\",\"Haryana\",\"Bihar\",\"Telengana\",\"Punjab\",\"Assam\",\"Jharkhand\",\"Uttarakhand\",\"Jammu and Kashmir\",\"Himachal Pradesh\",\"Goa\",\"Puducherry\",\"Manipur\",\"Tripura\",\"Chandigarh\",\"Meghalaya\",\"Arunachal Pradesh\",\"Mizoram\",\"Nagaland\",\"Sikkim\",\"Ladakh\",\"Dadra and Nagar Haveli and Daman and Diu\",\"Lakshadweep\",\"Andaman and Nicobar\"],\"y\":[6214190,3160937,2883947,2535402,1940096,1707847,1518181,1435529,999853,954326,953360,824497,791658,769539,723945,636627,598334,547283,346681,341452,319901,204391,169740,119703,84822,73901,61889,57388,42820,27488,26682,23392,20257,10597,10064,7510]}],                        {\"template\":{\"data\":{\"bar\":[{\"error_x\":{\"color\":\"#2a3f5f\"},\"error_y\":{\"color\":\"#2a3f5f\"},\"marker\":{\"line\":{\"color\":\"#E5ECF6\",\"width\":0.5},\"pattern\":{\"fillmode\":\"overlay\",\"size\":10,\"solidity\":0.2}},\"type\":\"bar\"}],\"barpolar\":[{\"marker\":{\"line\":{\"color\":\"#E5ECF6\",\"width\":0.5},\"pattern\":{\"fillmode\":\"overlay\",\"size\":10,\"solidity\":0.2}},\"type\":\"barpolar\"}],\"carpet\":[{\"aaxis\":{\"endlinecolor\":\"#2a3f5f\",\"gridcolor\":\"white\",\"linecolor\":\"white\",\"minorgridcolor\":\"white\",\"startlinecolor\":\"#2a3f5f\"},\"baxis\":{\"endlinecolor\":\"#2a3f5f\",\"gridcolor\":\"white\",\"linecolor\":\"white\",\"minorgridcolor\":\"white\",\"startlinecolor\":\"#2a3f5f\"},\"type\":\"carpet\"}],\"choropleth\":[{\"colorbar\":{\"outlinewidth\":0,\"ticks\":\"\"},\"type\":\"choropleth\"}],\"contour\":[{\"colorbar\":{\"outlinewidth\":0,\"ticks\":\"\"},\"colorscale\":[[0.0,\"#0d0887\"],[0.1111111111111111,\"#46039f\"],[0.2222222222222222,\"#7201a8\"],[0.3333333333333333,\"#9c179e\"],[0.4444444444444444,\"#bd3786\"],[0.5555555555555556,\"#d8576b\"],[0.6666666666666666,\"#ed7953\"],[0.7777777777777778,\"#fb9f3a\"],[0.8888888888888888,\"#fdca26\"],[1.0,\"#f0f921\"]],\"type\":\"contour\"}],\"contourcarpet\":[{\"colorbar\":{\"outlinewidth\":0,\"ticks\":\"\"},\"type\":\"contourcarpet\"}],\"heatmap\":[{\"colorbar\":{\"outlinewidth\":0,\"ticks\":\"\"},\"colorscale\":[[0.0,\"#0d0887\"],[0.1111111111111111,\"#46039f\"],[0.2222222222222222,\"#7201a8\"],[0.3333333333333333,\"#9c179e\"],[0.4444444444444444,\"#bd3786\"],[0.5555555555555556,\"#d8576b\"],[0.6666666666666666,\"#ed7953\"],[0.7777777777777778,\"#fb9f3a\"],[0.8888888888888888,\"#fdca26\"],[1.0,\"#f0f921\"]],\"type\":\"heatmap\"}],\"heatmapgl\":[{\"colorbar\":{\"outlinewidth\":0,\"ticks\":\"\"},\"colorscale\":[[0.0,\"#0d0887\"],[0.1111111111111111,\"#46039f\"],[0.2222222222222222,\"#7201a8\"],[0.3333333333333333,\"#9c179e\"],[0.4444444444444444,\"#bd3786\"],[0.5555555555555556,\"#d8576b\"],[0.6666666666666666,\"#ed7953\"],[0.7777777777777778,\"#fb9f3a\"],[0.8888888888888888,\"#fdca26\"],[1.0,\"#f0f921\"]],\"type\":\"heatmapgl\"}],\"histogram\":[{\"marker\":{\"pattern\":{\"fillmode\":\"overlay\",\"size\":10,\"solidity\":0.2}},\"type\":\"histogram\"}],\"histogram2d\":[{\"colorbar\":{\"outlinewidth\":0,\"ticks\":\"\"},\"colorscale\":[[0.0,\"#0d0887\"],[0.1111111111111111,\"#46039f\"],[0.2222222222222222,\"#7201a8\"],[0.3333333333333333,\"#9c179e\"],[0.4444444444444444,\"#bd3786\"],[0.5555555555555556,\"#d8576b\"],[0.6666666666666666,\"#ed7953\"],[0.7777777777777778,\"#fb9f3a\"],[0.8888888888888888,\"#fdca26\"],[1.0,\"#f0f921\"]],\"type\":\"histogram2d\"}],\"histogram2dcontour\":[{\"colorbar\":{\"outlinewidth\":0,\"ticks\":\"\"},\"colorscale\":[[0.0,\"#0d0887\"],[0.1111111111111111,\"#46039f\"],[0.2222222222222222,\"#7201a8\"],[0.3333333333333333,\"#9c179e\"],[0.4444444444444444,\"#bd3786\"],[0.5555555555555556,\"#d8576b\"],[0.6666666666666666,\"#ed7953\"],[0.7777777777777778,\"#fb9f3a\"],[0.8888888888888888,\"#fdca26\"],[1.0,\"#f0f921\"]],\"type\":\"histogram2dcontour\"}],\"mesh3d\":[{\"colorbar\":{\"outlinewidth\":0,\"ticks\":\"\"},\"type\":\"mesh3d\"}],\"parcoords\":[{\"line\":{\"colorbar\":{\"outlinewidth\":0,\"ticks\":\"\"}},\"type\":\"parcoords\"}],\"pie\":[{\"automargin\":true,\"type\":\"pie\"}],\"scatter\":[{\"marker\":{\"colorbar\":{\"outlinewidth\":0,\"ticks\":\"\"}},\"type\":\"scatter\"}],\"scatter3d\":[{\"line\":{\"colorbar\":{\"outlinewidth\":0,\"ticks\":\"\"}},\"marker\":{\"colorbar\":{\"outlinewidth\":0,\"ticks\":\"\"}},\"type\":\"scatter3d\"}],\"scattercarpet\":[{\"marker\":{\"colorbar\":{\"outlinewidth\":0,\"ticks\":\"\"}},\"type\":\"scattercarpet\"}],\"scattergeo\":[{\"marker\":{\"colorbar\":{\"outlinewidth\":0,\"ticks\":\"\"}},\"type\":\"scattergeo\"}],\"scattergl\":[{\"marker\":{\"colorbar\":{\"outlinewidth\":0,\"ticks\":\"\"}},\"type\":\"scattergl\"}],\"scattermapbox\":[{\"marker\":{\"colorbar\":{\"outlinewidth\":0,\"ticks\":\"\"}},\"type\":\"scattermapbox\"}],\"scatterpolar\":[{\"marker\":{\"colorbar\":{\"outlinewidth\":0,\"ticks\":\"\"}},\"type\":\"scatterpolar\"}],\"scatterpolargl\":[{\"marker\":{\"colorbar\":{\"outlinewidth\":0,\"ticks\":\"\"}},\"type\":\"scatterpolargl\"}],\"scatterternary\":[{\"marker\":{\"colorbar\":{\"outlinewidth\":0,\"ticks\":\"\"}},\"type\":\"scatterternary\"}],\"surface\":[{\"colorbar\":{\"outlinewidth\":0,\"ticks\":\"\"},\"colorscale\":[[0.0,\"#0d0887\"],[0.1111111111111111,\"#46039f\"],[0.2222222222222222,\"#7201a8\"],[0.3333333333333333,\"#9c179e\"],[0.4444444444444444,\"#bd3786\"],[0.5555555555555556,\"#d8576b\"],[0.6666666666666666,\"#ed7953\"],[0.7777777777777778,\"#fb9f3a\"],[0.8888888888888888,\"#fdca26\"],[1.0,\"#f0f921\"]],\"type\":\"surface\"}],\"table\":[{\"cells\":{\"fill\":{\"color\":\"#EBF0F8\"},\"line\":{\"color\":\"white\"}},\"header\":{\"fill\":{\"color\":\"#C8D4E3\"},\"line\":{\"color\":\"white\"}},\"type\":\"table\"}]},\"layout\":{\"annotationdefaults\":{\"arrowcolor\":\"#2a3f5f\",\"arrowhead\":0,\"arrowwidth\":1},\"autotypenumbers\":\"strict\",\"coloraxis\":{\"colorbar\":{\"outlinewidth\":0,\"ticks\":\"\"}},\"colorscale\":{\"diverging\":[[0,\"#8e0152\"],[0.1,\"#c51b7d\"],[0.2,\"#de77ae\"],[0.3,\"#f1b6da\"],[0.4,\"#fde0ef\"],[0.5,\"#f7f7f7\"],[0.6,\"#e6f5d0\"],[0.7,\"#b8e186\"],[0.8,\"#7fbc41\"],[0.9,\"#4d9221\"],[1,\"#276419\"]],\"sequential\":[[0.0,\"#0d0887\"],[0.1111111111111111,\"#46039f\"],[0.2222222222222222,\"#7201a8\"],[0.3333333333333333,\"#9c179e\"],[0.4444444444444444,\"#bd3786\"],[0.5555555555555556,\"#d8576b\"],[0.6666666666666666,\"#ed7953\"],[0.7777777777777778,\"#fb9f3a\"],[0.8888888888888888,\"#fdca26\"],[1.0,\"#f0f921\"]],\"sequentialminus\":[[0.0,\"#0d0887\"],[0.1111111111111111,\"#46039f\"],[0.2222222222222222,\"#7201a8\"],[0.3333333333333333,\"#9c179e\"],[0.4444444444444444,\"#bd3786\"],[0.5555555555555556,\"#d8576b\"],[0.6666666666666666,\"#ed7953\"],[0.7777777777777778,\"#fb9f3a\"],[0.8888888888888888,\"#fdca26\"],[1.0,\"#f0f921\"]]},\"colorway\":[\"#636efa\",\"#EF553B\",\"#00cc96\",\"#ab63fa\",\"#FFA15A\",\"#19d3f3\",\"#FF6692\",\"#B6E880\",\"#FF97FF\",\"#FECB52\"],\"font\":{\"color\":\"#2a3f5f\"},\"geo\":{\"bgcolor\":\"white\",\"lakecolor\":\"white\",\"landcolor\":\"#E5ECF6\",\"showlakes\":true,\"showland\":true,\"subunitcolor\":\"white\"},\"hoverlabel\":{\"align\":\"left\"},\"hovermode\":\"closest\",\"mapbox\":{\"style\":\"light\"},\"paper_bgcolor\":\"white\",\"plot_bgcolor\":\"#E5ECF6\",\"polar\":{\"angularaxis\":{\"gridcolor\":\"white\",\"linecolor\":\"white\",\"ticks\":\"\"},\"bgcolor\":\"#E5ECF6\",\"radialaxis\":{\"gridcolor\":\"white\",\"linecolor\":\"white\",\"ticks\":\"\"}},\"scene\":{\"xaxis\":{\"backgroundcolor\":\"#E5ECF6\",\"gridcolor\":\"white\",\"gridwidth\":2,\"linecolor\":\"white\",\"showbackground\":true,\"ticks\":\"\",\"zerolinecolor\":\"white\"},\"yaxis\":{\"backgroundcolor\":\"#E5ECF6\",\"gridcolor\":\"white\",\"gridwidth\":2,\"linecolor\":\"white\",\"showbackground\":true,\"ticks\":\"\",\"zerolinecolor\":\"white\"},\"zaxis\":{\"backgroundcolor\":\"#E5ECF6\",\"gridcolor\":\"white\",\"gridwidth\":2,\"linecolor\":\"white\",\"showbackground\":true,\"ticks\":\"\",\"zerolinecolor\":\"white\"}},\"shapedefaults\":{\"line\":{\"color\":\"#2a3f5f\"}},\"ternary\":{\"aaxis\":{\"gridcolor\":\"white\",\"linecolor\":\"white\",\"ticks\":\"\"},\"baxis\":{\"gridcolor\":\"white\",\"linecolor\":\"white\",\"ticks\":\"\"},\"bgcolor\":\"#E5ECF6\",\"caxis\":{\"gridcolor\":\"white\",\"linecolor\":\"white\",\"ticks\":\"\"}},\"title\":{\"x\":0.05},\"xaxis\":{\"automargin\":true,\"gridcolor\":\"white\",\"linecolor\":\"white\",\"ticks\":\"\",\"title\":{\"standoff\":15},\"zerolinecolor\":\"white\",\"zerolinewidth\":2},\"yaxis\":{\"automargin\":true,\"gridcolor\":\"white\",\"linecolor\":\"white\",\"ticks\":\"\",\"title\":{\"standoff\":15},\"zerolinecolor\":\"white\",\"zerolinewidth\":2}}},\"title\":{\"text\":\"Total Cases in India\"},\"xaxis\":{\"title\":{\"text\":\"State/UTs\"}},\"yaxis\":{\"title\":{\"text\":\"Total Cases\"}}},                        {\"responsive\": true}                    ).then(function(){\n",
       "                            \n",
       "var gd = document.getElementById('f0d8b9f9-d974-4897-884c-30658b1b6435');\n",
       "var x = new MutationObserver(function (mutations, observer) {{\n",
       "        var display = window.getComputedStyle(gd).display;\n",
       "        if (!display || display === 'none') {{\n",
       "            console.log([gd, 'removed!']);\n",
       "            Plotly.purge(gd);\n",
       "            observer.disconnect();\n",
       "        }}\n",
       "}});\n",
       "\n",
       "// Listen for the removal of the full notebook cells\n",
       "var notebookContainer = gd.closest('#notebook-container');\n",
       "if (notebookContainer) {{\n",
       "    x.observe(notebookContainer, {childList: true});\n",
       "}}\n",
       "\n",
       "// Listen for the clearing of the current output cell\n",
       "var outputEl = gd.closest('.output');\n",
       "if (outputEl) {{\n",
       "    x.observe(outputEl, {childList: true});\n",
       "}}\n",
       "\n",
       "                        })                };                });            </script>        </div>"
      ]
     },
     "metadata": {},
     "output_type": "display_data"
    }
   ],
   "source": [
    "fig=plt.figure(figsize=(20,10),dpi=200)\n",
    "axes=fig.add_axes([0,0,1,1])\n",
    "axes.bar(df['State/UTs'],df['Total Cases'])\n",
    "axes.set_title(\"Total Cases in India\")\n",
    "axes.set_xlabel(\"State/UTs\")\n",
    "axes.set_ylabel(\"Total Cases\")\n",
    "plt.show()\n",
    "\n",
    "#plotly\n",
    "fig=go.Figure()\n",
    "fig.add_trace(go.Bar(x=df['State/UTs'],y=df['Total Cases']))\n",
    "fig.update_layout(title='Total Cases in India',xaxis=dict(title='State/UTs'),yaxis=dict(title='Total Cases'))"
   ]
  },
  {
   "cell_type": "code",
   "execution_count": null,
   "metadata": {},
   "outputs": [],
   "source": []
  }
 ],
 "metadata": {
  "kernelspec": {
   "display_name": "Python 3",
   "language": "python",
   "name": "python3"
  },
  "language_info": {
   "codemirror_mode": {
    "name": "ipython",
    "version": 3
   },
   "file_extension": ".py",
   "mimetype": "text/x-python",
   "name": "python",
   "nbconvert_exporter": "python",
   "pygments_lexer": "ipython3",
   "version": "3.7.4"
  }
 },
 "nbformat": 4,
 "nbformat_minor": 2
}
